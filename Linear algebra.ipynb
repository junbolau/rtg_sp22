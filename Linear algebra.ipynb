{
 "cells": [
  {
   "cell_type": "markdown",
   "id": "3b572022",
   "metadata": {},
   "source": [
    "# Plan\n",
    "- linear algebra\n",
    "- RREF\n",
    "- HNF\n",
    "- SNF"
   ]
  },
  {
   "cell_type": "markdown",
   "id": "27b0df60",
   "metadata": {},
   "source": [
    "Recall:\n",
    "- K = field\n",
    "- V = vector space over K\n",
    "- U = subspace of V\n",
    "- linear (in)dependence, span, dimension + formula\n",
    "- linear maps, matrices\n",
    "- determinants, (non)singular, system of equations, characteristic/minimal polynomials, eigenvalues"
   ]
  },
  {
   "cell_type": "code",
   "execution_count": 1,
   "id": "a72002ce",
   "metadata": {},
   "outputs": [
    {
     "data": {
      "text/plain": [
       "Vector space of dimension 3 over Rational Field"
      ]
     },
     "execution_count": 1,
     "metadata": {},
     "output_type": "execute_result"
    }
   ],
   "source": [
    "# Example\n",
    "V = VectorSpace(QQ,3);V"
   ]
  },
  {
   "cell_type": "code",
   "execution_count": null,
   "id": "c4353bc5",
   "metadata": {},
   "outputs": [],
   "source": [
    "U = V.subspace_with_basis([[1,1,1],[0,1,0]]);U"
   ]
  },
  {
   "cell_type": "code",
   "execution_count": null,
   "id": "7723e3f4",
   "metadata": {},
   "outputs": [],
   "source": [
    "V.dimension(), U.dimension()"
   ]
  },
  {
   "cell_type": "code",
   "execution_count": null,
   "id": "74f96f35",
   "metadata": {},
   "outputs": [],
   "source": [
    "M = Matrix(QQ,[[1,2,3],[8,8,8]])\n",
    "T = linear_transformation(M)\n",
    "T"
   ]
  },
  {
   "cell_type": "code",
   "execution_count": null,
   "id": "66901a40",
   "metadata": {},
   "outputs": [],
   "source": [
    "M.det() #error because M is not square matrix"
   ]
  },
  {
   "cell_type": "code",
   "execution_count": null,
   "id": "5e71166b",
   "metadata": {},
   "outputs": [],
   "source": [
    "M1 = Matrix(QQ,[[1,2,3],[8,8,8],[13,38,75]])\n",
    "T1 = linear_transformation(M1)\n",
    "M1.det(),T1.det()"
   ]
  },
  {
   "cell_type": "code",
   "execution_count": null,
   "id": "0f685a7a",
   "metadata": {},
   "outputs": [],
   "source": [
    "v = V((1,2,3));v"
   ]
  },
  {
   "cell_type": "code",
   "execution_count": null,
   "id": "6f276cbc",
   "metadata": {},
   "outputs": [],
   "source": [
    "v1 = vector(RR,[3,3,5]);\n",
    "print(v1 in V)"
   ]
  },
  {
   "cell_type": "code",
   "execution_count": null,
   "id": "a38dc3c3",
   "metadata": {},
   "outputs": [],
   "source": [
    "v1 = V(v1)\n",
    "print(v1 in V)"
   ]
  },
  {
   "cell_type": "code",
   "execution_count": null,
   "id": "28e9f1bc",
   "metadata": {},
   "outputs": [],
   "source": [
    "#solving system of equations\n",
    "A = Matrix([[1,2,3],[3,2,1],[1,1,1]])"
   ]
  },
  {
   "cell_type": "code",
   "execution_count": null,
   "id": "4d60f9a6",
   "metadata": {},
   "outputs": [],
   "source": [
    "Y = vector([0, -4, -1])\n",
    "X = A.solve_right(Y)"
   ]
  },
  {
   "cell_type": "code",
   "execution_count": null,
   "id": "98ae73a7",
   "metadata": {},
   "outputs": [],
   "source": [
    "A*X == Y"
   ]
  },
  {
   "cell_type": "code",
   "execution_count": null,
   "id": "1bb6cdf2",
   "metadata": {},
   "outputs": [],
   "source": [
    "# no solution to X^T * A = Y\n",
    "A.solve_left(Y)"
   ]
  },
  {
   "cell_type": "code",
   "execution_count": null,
   "id": "525c3c08",
   "metadata": {},
   "outputs": [],
   "source": [
    "A.charpoly().factor(), A.eigenvalues()"
   ]
  },
  {
   "cell_type": "markdown",
   "id": "c929c9d8",
   "metadata": {},
   "source": [
    "RREF:\n",
    "- any zero rows come below all the non-zero row\n",
    "- for each i > 1, the first non-zero entry in the i-th row (if any) is strictly to the right of the first\n",
    "non-zero entry in the (i − 1)-st row.\n",
    "- the pivot entries are all 1\n",
    "- the other entries in the same column as a pivot are all 0\n",
    "\n",
    "Remark: \n",
    "- One gets the RREF of a matrix via Gaussian elimination\n",
    "- for any matrix A, there exists an invertible matrix U such that E = U*A with E in RREF\n",
    "- A corollary is that any subspace has a unique RREF"
   ]
  },
  {
   "cell_type": "code",
   "execution_count": null,
   "id": "fe4f82ae",
   "metadata": {},
   "outputs": [],
   "source": [
    "A, A.rref(),A.echelon_form()"
   ]
  },
  {
   "cell_type": "code",
   "execution_count": null,
   "id": "b891152b",
   "metadata": {},
   "outputs": [],
   "source": [
    "B1 = Matrix(QQ,[[1,2,3],[1,1,1]])\n",
    "U1 = V.subspace_with_basis(B1)\n",
    "\n",
    "B2 = Matrix(QQ,[[1,2,3],[0,1,2]])\n",
    "U2 = V.subspace_with_basis(B2)\n"
   ]
  },
  {
   "cell_type": "code",
   "execution_count": null,
   "id": "66c7607e",
   "metadata": {},
   "outputs": [],
   "source": [
    "U1 + U2 == U1"
   ]
  },
  {
   "cell_type": "code",
   "execution_count": null,
   "id": "6aebd264",
   "metadata": {},
   "outputs": [],
   "source": [
    "U3 = block_matrix([[B1],[B2]])"
   ]
  },
  {
   "cell_type": "code",
   "execution_count": null,
   "id": "c02dac20",
   "metadata": {},
   "outputs": [],
   "source": [
    "U3.rref(),B1.rref(),B2.rref()"
   ]
  },
  {
   "cell_type": "code",
   "execution_count": null,
   "id": "0143c91c",
   "metadata": {},
   "outputs": [],
   "source": [
    "v = V(vector(QQ,[2,1,0]))"
   ]
  },
  {
   "cell_type": "code",
   "execution_count": null,
   "id": "accbc3b2",
   "metadata": {},
   "outputs": [],
   "source": [
    "B1new = B1.transpose().augment(v).transpose();B1new"
   ]
  },
  {
   "cell_type": "code",
   "execution_count": null,
   "id": "532a32e0",
   "metadata": {},
   "outputs": [],
   "source": [
    "B1new.rref() #one way to check if v is in U1"
   ]
  },
  {
   "cell_type": "markdown",
   "id": "39269813",
   "metadata": {},
   "source": [
    "Exercise:\n",
    "- how would one find the subspace $U \\cap W$, if U,W are written in echelon basis?"
   ]
  },
  {
   "cell_type": "markdown",
   "id": "22d6287f",
   "metadata": {},
   "source": [
    "Hermite normal form:\n",
    "- in row echelon form\n",
    "- pivots are positive integers\n",
    "- entries above each pivot P are between [0,P)\n",
    "\n",
    "Any integer matrix M, has a HNF, i.e., H = U*M for some invertible integer matrix U"
   ]
  },
  {
   "cell_type": "code",
   "execution_count": null,
   "id": "dede54fd",
   "metadata": {},
   "outputs": [],
   "source": [
    "M = matrix(ZZ, 3, 4, range(12));M"
   ]
  },
  {
   "cell_type": "code",
   "execution_count": null,
   "id": "af3ff699",
   "metadata": {},
   "outputs": [],
   "source": [
    "M.hermite_form(),M.rref()"
   ]
  },
  {
   "cell_type": "markdown",
   "id": "2e61392d",
   "metadata": {},
   "source": [
    "Example:\n",
    "- G a subgroup of Z^n with finite generators\n",
    "- Then G has a unique ordered generating set in a HNF"
   ]
  },
  {
   "cell_type": "markdown",
   "id": "3b6ae007",
   "metadata": {},
   "source": [
    "Matrix over Z is in Smith normal form if\n",
    "- diagonal\n",
    "- diagonal entries are nonnegative and satisfy d_i | d_{i+1}"
   ]
  },
  {
   "cell_type": "code",
   "execution_count": null,
   "id": "d9a78518",
   "metadata": {},
   "outputs": [],
   "source": [
    "D,U,V = M.smith_form(); D"
   ]
  },
  {
   "cell_type": "code",
   "execution_count": null,
   "id": "3f3b1f82",
   "metadata": {},
   "outputs": [],
   "source": [
    "U*M*V == D"
   ]
  },
  {
   "cell_type": "markdown",
   "id": "65c63284",
   "metadata": {},
   "source": [
    "Example: (classification of finitely generated abelian groups)\n",
    "\n",
    "G = abelian group with finite generators and relations\n",
    "$$ a_{11} g_1 + ... + a_{1n} g_n = 0,$$\n",
    "$$... , $$\n",
    "$$a_{m1} g_1 + ... + a_{mn} g_n = 0$$\n",
    "\n",
    "Then G is isomorphic to (Z/d_1) x (Z/d_2) x ... x (Z/d_r) x Z^n-r"
   ]
  },
  {
   "cell_type": "code",
   "execution_count": null,
   "id": "8b3b8203",
   "metadata": {},
   "outputs": [],
   "source": []
  }
 ],
 "metadata": {
  "kernelspec": {
   "display_name": "SageMath 9.5",
   "language": "sage",
   "name": "sagemath"
  },
  "language_info": {
   "codemirror_mode": {
    "name": "ipython",
    "version": 3
   },
   "file_extension": ".py",
   "mimetype": "text/x-python",
   "name": "python",
   "nbconvert_exporter": "python",
   "pygments_lexer": "ipython3",
   "version": "3.10.2"
  }
 },
 "nbformat": 4,
 "nbformat_minor": 5
}
