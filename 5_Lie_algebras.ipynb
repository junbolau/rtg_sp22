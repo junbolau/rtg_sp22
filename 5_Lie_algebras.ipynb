{
 "cells": [
  {
   "cell_type": "markdown",
   "id": "2286d233",
   "metadata": {},
   "source": [
    "# Lie Algebras"
   ]
  },
  {
   "cell_type": "markdown",
   "id": "59398781",
   "metadata": {},
   "source": [
    "Let $L$ ($\\mathfrak{g}$ is often used) be a (finite dimensional) vector space over a field $F$. (Sometimes we work over rings too, e.g. $\\mathbb Z$.)\n",
    "\n",
    "Equip $L$ with a bilinear map $[\\:\\cdot\\:,\\:\\cdot\\:] \\colon L \\times L \\to L$ (the (Lie) bracket/commutator/Lie product)\n",
    "satisfying $[x,x] = 0$ for all $x \\in L$ and $[x,[y,z]]+[y,[z,x]]+[z,[x,y]] = 0$ for $x,y,z \\in L$ (the Jacobi identity).\n",
    "\n",
    "I.e. $[\\:\\cdot\\:,\\:\\cdot\\:] \\colon L \\times L \\to L$ satisfies:\n",
    "- $[ax + by, z] = a[x,z] + b[y,z]$ for $a,b \\in F$ and $x,y,z \\in L$,\n",
    "- $[z, ax+by] = a[z,x] + b[z,x]$ for $a,b \\in F$ and $x,y,z \\in L$,\n",
    "- $[x,x] = 0$ for $x \\in L$,\n",
    "- $[x,[y,z]]+[y,[z,x]]+[z,[x,y]] = 0$ for $x,y,z \\in L$.\n",
    "\n",
    "Note that these properties imply:\n",
    "$[x,y] = -[y,x]$ for $x,y\\in L$."
   ]
  },
  {
   "cell_type": "markdown",
   "id": "302ecfcf",
   "metadata": {},
   "source": [
    "## Standard examples"
   ]
  },
  {
   "cell_type": "markdown",
   "id": "50ad8e5a",
   "metadata": {},
   "source": [
    "- Any associative algebra $A$ over a field $F$ with multiplication $(x,y) \\mapsto x \\cdot y$, can be considered as a Lie algebra $A^\\mathrm{Lie}$ by defining $[x,y] = xy - yx$. In this case $A$ is an enveloping algebra of $A^\\mathrm{Lie}$. Every Lie algebra can be embedded into one that arises from an associative algebra (the universal enveloping algebra). It's often useful to work with this associative algebra.\n",
    "\n",
    "- Let $V$ be a vector space. $\\mathfrak{gl}(V) = \\operatorname{End}_F(V)$ is the Lie algebra with commutator as above, where $\\operatorname{End}_F(V)$ is an associative algebra via $(f,g) \\mapsto f \\circ g$.\n",
    "\n",
    "Matrix Lie algebras:\n",
    "\n",
    "- $\\mathfrak{gl}_n(F) = \\mathfrak{gl}(F^n)$ (i.e., $M_n(F)$) with bracket $[X,Y] = XY - YX$ for $n \\times n$-matrices $X,Y$.\n",
    "\n",
    "- $\\mathfrak{sl}_n(F)$ is the Lie subalgebra with trace zero. For a lot of Lie theory, $\\mathfrak{sl}_2(F)$ is especially important.\n",
    "\n",
    "- Many more..."
   ]
  },
  {
   "cell_type": "markdown",
   "id": "011b22bc",
   "metadata": {},
   "source": [
    "## Background: Lie groups"
   ]
  },
  {
   "cell_type": "markdown",
   "id": "4fc92474",
   "metadata": {},
   "source": [
    "Note: Sage only has an implementation for nilpotent Lie groups.\n",
    "\n",
    "### Real Lie groups\n",
    "\n",
    "A real Lie group is a finite dimensional smooth manifold (looks like $\\mathbb R^n$ locally) that's also a group, where the group operations\n",
    "- $\\mu \\colon G \\times G \\to G, (x,y) \\mapsto xy$\n",
    "- $\\iota \\colon G \\times G, x \\mapsto x^{-1}$\n",
    "are smooth maps.\n",
    "\n",
    "Examples:\n",
    "- $\\operatorname{GL}_n(\\mathbb R) = \\{ A \\in M_n(\\mathbb R) : \\det A \\neq 0 \\}$\n",
    "- $\\operatorname{SL}_n(\\mathbb R) = \\{ A \\in M_n(\\mathbb R) : \\det A = 1 \\}$\n",
    "\n",
    "### Topological Lie groups (over $\\mathbb C$)\n",
    "\n",
    "A Lie group is a Hausdorff topological group that is locally isomorphic near $e \\in G$ to a subgroup of $\\operatorname{GL}_n(\\mathbb C)$ and has at most countably many connected components.\n",
    "\n",
    "### Lie algebra from Lie group\n",
    "If $G$ is a closed subgroup of $\\operatorname{GL}_n(\\mathbb C)$, then we define $\\operatorname{Lie}(G) = \\{ X \\in M_n(\\mathbb C) : \\exp(tX) \\in G \\text{ for all } t \\in \\mathbb R \\}$, where $\\exp$ can be defined as usual (via $\\sum_{n=0}^\\infty \\frac{x^n}{n!}$), and the commutator is $[X,Y] = XY - YX$."
   ]
  },
  {
   "cell_type": "markdown",
   "id": "3c0f7206",
   "metadata": {},
   "source": [
    "## Simple Lie algebras\n",
    "\n",
    "A Lie algebra is simple if it's non-abelian and contains no non-zero proper ideals. (We will ignore the details.)\n",
    "\n",
    "There's a classification of finite dimensional simple Lie algebras over $\\mathbb C$ that's often useful.\n",
    "- $A_n$\n",
    "- $B_n$\n",
    "- $C_n$\n",
    "- $D_n$\n",
    "- exceptional groups"
   ]
  },
  {
   "cell_type": "code",
   "execution_count": null,
   "id": "381e29d8",
   "metadata": {},
   "outputs": [],
   "source": []
  },
  {
   "cell_type": "code",
   "execution_count": null,
   "id": "651bf976",
   "metadata": {},
   "outputs": [],
   "source": []
  },
  {
   "cell_type": "code",
   "execution_count": null,
   "id": "f2d3b292",
   "metadata": {},
   "outputs": [],
   "source": [
    "L1.<x1,y1> = LieAlgebra(RR, abelian = True)\n",
    "L2.<x2,y2> = LieAlgebra(QQ, abelian = True)\n",
    "L1, L2"
   ]
  },
  {
   "cell_type": "code",
   "execution_count": null,
   "id": "354ddf68",
   "metadata": {},
   "outputs": [],
   "source": [
    "x1.bracket(y1)"
   ]
  },
  {
   "cell_type": "code",
   "execution_count": null,
   "id": "911fa05f",
   "metadata": {},
   "outputs": [],
   "source": [
    "R.<a,b> = FreeAlgebra(QQ, 2)\n",
    "LR.<x,y> = LieAlgebra(associative = R.gens())\n",
    "x.bracket(y), LR.bracket(x, y)"
   ]
  },
  {
   "cell_type": "code",
   "execution_count": null,
   "id": "ab37092e",
   "metadata": {},
   "outputs": [],
   "source": [
    "G = SymmetricGroup(3)\n",
    "S = GroupAlgebra(G, ZZ)\n",
    "S"
   ]
  },
  {
   "cell_type": "code",
   "execution_count": null,
   "id": "0a49eeb5",
   "metadata": {},
   "outputs": [],
   "source": [
    "LG.<g,h> = LieAlgebra(associative = S.gens())\n",
    "LG"
   ]
  },
  {
   "cell_type": "code",
   "execution_count": null,
   "id": "7f878b77",
   "metadata": {},
   "outputs": [],
   "source": [
    "MS = MatrixSpace(QQ, 2)\n",
    "gl2 = LieAlgebra(associative=MS.gens())\n",
    "gl2"
   ]
  },
  {
   "cell_type": "code",
   "execution_count": null,
   "id": "8dc9cf24",
   "metadata": {},
   "outputs": [],
   "source": [
    "A1.<e,f,h> = LieAlgebra(QQ, cartan_type = ['A',1])\n",
    "A1"
   ]
  },
  {
   "cell_type": "code",
   "execution_count": null,
   "id": "a3013b55",
   "metadata": {},
   "outputs": [],
   "source": [
    "A1.gens(), A1.basis()"
   ]
  },
  {
   "cell_type": "code",
   "execution_count": null,
   "id": "f4d46235",
   "metadata": {},
   "outputs": [],
   "source": [
    "A1.bracket(e,f), A1.bracket(e,h), A1.bracket(f,h)"
   ]
  },
  {
   "cell_type": "code",
   "execution_count": null,
   "id": "073708b7",
   "metadata": {},
   "outputs": [],
   "source": [
    "sl2.<e,f,h> = LieAlgebra(QQ, cartan_type = ['A',1], representation='matrix')\n",
    "sl2"
   ]
  },
  {
   "cell_type": "code",
   "execution_count": null,
   "id": "e768a694",
   "metadata": {},
   "outputs": [],
   "source": [
    "sl2.gens()"
   ]
  },
  {
   "cell_type": "code",
   "execution_count": null,
   "id": "17b212e0",
   "metadata": {},
   "outputs": [],
   "source": [
    "sl2 == A1"
   ]
  },
  {
   "cell_type": "code",
   "execution_count": null,
   "id": "9789193f",
   "metadata": {},
   "outputs": [],
   "source": [
    "sl2_alt = lie_algebras.sl(QQ, 2)\n",
    "sl2_alt_mat = lie_algebras.sl(QQ, 2, 'matrix')\n",
    "sl2_alt, sl2_alt_mat"
   ]
  },
  {
   "cell_type": "code",
   "execution_count": null,
   "id": "59d8cb20",
   "metadata": {},
   "outputs": [],
   "source": [
    "gl2_alt = lie_algebras.gl(QQ, 2)"
   ]
  },
  {
   "cell_type": "code",
   "execution_count": null,
   "id": "2a8b10f9",
   "metadata": {},
   "outputs": [],
   "source": [
    "sl2.derived_subalgebra(), gl2_alt.derived_subalgebra()"
   ]
  },
  {
   "cell_type": "code",
   "execution_count": null,
   "id": "dd560130",
   "metadata": {},
   "outputs": [],
   "source": [
    "gl2.derived_subalgebra() # Error - best to used pre-defined"
   ]
  },
  {
   "cell_type": "code",
   "execution_count": null,
   "id": "0a377d3a",
   "metadata": {},
   "outputs": [],
   "source": [
    "# [e,h] = -2e, [f,h] = 2f, [e,f] = h\n",
    "L = LieAlgebra(QQ, \n",
    "               {('e2','h2'): {'e2':-2}, \n",
    "                ('f2','h2'): {'f2':2}, \n",
    "                ('e2','f2'): {'h2':1}},\n",
    "               names='e2,f2,h2')\n",
    "L"
   ]
  },
  {
   "cell_type": "markdown",
   "id": "215b0ef5",
   "metadata": {},
   "source": [
    "## Exercise 1\n",
    "\n",
    "How can we find different Lie algebras to work with?\n",
    "\n",
    "What kind of properties can we find out about these Lie algebras? How would we find this from within Sage?"
   ]
  },
  {
   "cell_type": "markdown",
   "id": "b00f84c1",
   "metadata": {},
   "source": [
    "Stuff to be careful with:"
   ]
  },
  {
   "cell_type": "code",
   "execution_count": null,
   "id": "12908e47",
   "metadata": {},
   "outputs": [],
   "source": [
    "L == sl2, L == A1, L == sl2_alt, sl2 == sl2_alt, sl2 == A1, A1 == sl2_alt"
   ]
  },
  {
   "cell_type": "code",
   "execution_count": null,
   "id": "c7bc91b4",
   "metadata": {},
   "outputs": [],
   "source": [
    "L.gens(), sl2.gens(), A1.gens(), sl2_alt.gens()"
   ]
  },
  {
   "cell_type": "code",
   "execution_count": null,
   "id": "52e3af99",
   "metadata": {},
   "outputs": [],
   "source": [
    "sl2 = lie_algebras.sl(QQ, 2, 'matrix')\n",
    "e2, f2, h2 = L.gens()\n",
    "e3, f3, h3 = sl2.gens()\n",
    "a1, a2, a3 = sl2.basis()\n",
    "e2, f2, h2, e3, f3, h3, a1, a2, a3 #be careful about the order"
   ]
  },
  {
   "cell_type": "code",
   "execution_count": null,
   "id": "3d896ae1",
   "metadata": {},
   "outputs": [],
   "source": [
    "L.bracket(e2,h2), L([f2,h2]), L[e2,f2]"
   ]
  },
  {
   "cell_type": "code",
   "execution_count": null,
   "id": "fc673cc3",
   "metadata": {},
   "outputs": [],
   "source": [
    "sl2[e3,h3], sl2[f3,h3], sl2[e3,f3]"
   ]
  },
  {
   "cell_type": "code",
   "execution_count": null,
   "id": "e69aa6ae",
   "metadata": {},
   "outputs": [],
   "source": [
    "-2*e3 == sl2[e3,h3], 2*f3 == sl2[f3,h3], h3 == sl2[e3,f3]"
   ]
  },
  {
   "cell_type": "code",
   "execution_count": null,
   "id": "cad9ca70",
   "metadata": {},
   "outputs": [],
   "source": [
    "L == sl2"
   ]
  },
  {
   "cell_type": "code",
   "execution_count": null,
   "id": "ebfec839",
   "metadata": {},
   "outputs": [],
   "source": [
    "sl2.lie_algebra_generators(), sl2.basis(), sl2.gens()"
   ]
  },
  {
   "cell_type": "code",
   "execution_count": null,
   "id": "8adc4124",
   "metadata": {},
   "outputs": [],
   "source": [
    "sl2.lie_group() # not nilpotent"
   ]
  },
  {
   "cell_type": "code",
   "execution_count": null,
   "id": "51ff3ed0",
   "metadata": {},
   "outputs": [],
   "source": [
    "sl2Z = lie_algebras.sl(ZZ, 2)\n",
    "sl2Z_mat = lie_algebras.sl(ZZ, 2, 'matrix')\n",
    "sl2Z, sl2Z_mat"
   ]
  },
  {
   "cell_type": "code",
   "execution_count": null,
   "id": "35cb0e02",
   "metadata": {},
   "outputs": [],
   "source": [
    "sl2Z_mat.chevalley_eilenberg_complex() # error"
   ]
  },
  {
   "cell_type": "code",
   "execution_count": null,
   "id": "e74ada47",
   "metadata": {},
   "outputs": [],
   "source": [
    "C = sl2Z.chevalley_eilenberg_complex() # ok\n",
    "C"
   ]
  },
  {
   "cell_type": "code",
   "execution_count": null,
   "id": "b17c1673",
   "metadata": {},
   "outputs": [],
   "source": [
    "ascii_art(C)"
   ]
  },
  {
   "cell_type": "code",
   "execution_count": null,
   "id": "54077bcc",
   "metadata": {},
   "outputs": [],
   "source": [
    "sl2Z.homology(), sl2Z.cohomology()"
   ]
  },
  {
   "cell_type": "markdown",
   "id": "f93117e3",
   "metadata": {},
   "source": [
    "### Derived series\n",
    "\n",
    "Let $L^{(0)} = L$ and $L^{(k+1)} = [L^{(k)}, L^{(k)}]$ for $k \\geq 1$.\n",
    "\n",
    "$L$ is said to be solvable if $L^{(k)} = 0$ for some $k\\geq1$.\n",
    "\n",
    "### Lower central series\n",
    "\n",
    "Let $L_0 = L$ and $L_{k+1} = [L, L_k]$\n",
    "\n",
    "$L$ is said to be nilpotent if $L_k = 0$ for some $k\\geq1$."
   ]
  },
  {
   "cell_type": "code",
   "execution_count": null,
   "id": "2d38c9dd",
   "metadata": {},
   "outputs": [],
   "source": [
    "sl2Z.derived_series(), sl2Z.lower_central_series()"
   ]
  },
  {
   "cell_type": "code",
   "execution_count": null,
   "id": "c34475db",
   "metadata": {},
   "outputs": [],
   "source": [
    "gl2Z = lie_algebras.gl(ZZ, 2)\n",
    "gl2Z.derived_series() # error"
   ]
  },
  {
   "cell_type": "code",
   "execution_count": null,
   "id": "18d7d2c0",
   "metadata": {},
   "outputs": [],
   "source": [
    "gl2Z.structure_coefficients()"
   ]
  },
  {
   "cell_type": "code",
   "execution_count": null,
   "id": "14d97794",
   "metadata": {},
   "outputs": [],
   "source": [
    "sl2Z.structure_coefficients()"
   ]
  },
  {
   "cell_type": "markdown",
   "id": "90147260",
   "metadata": {},
   "source": [
    "### Universal enveloping algebra\n",
    "\n",
    "We write $U(L)$ for the universal algebra of $L$ (often we think of $L \\hookrightarrow U(L)$), i.e., the unique associative algebra such that any Lie algebra homomorphism $\\phi \\colon L \\to A$ factors through $U(L)$ (i.e., gives us a map $\\hat\\phi \\colon U(L) \\to A$).\n",
    "\n",
    "If $e_1,\\dotsc,e_d$ is a basis of $L$, we know there is a basis (the PBW basis) of $U(L)$ with elements $e_1^{k_1} \\cdots e_d^{k_d}$, and this is basically always the basis we use to work with."
   ]
  },
  {
   "cell_type": "code",
   "execution_count": null,
   "id": "f280bd8d",
   "metadata": {},
   "outputs": [],
   "source": [
    "U_gl2Z = gl2Z.pbw_basis()\n",
    "U_gl2Z, U_gl2Z.gens(), U_gl2Z.basis()"
   ]
  },
  {
   "cell_type": "code",
   "execution_count": null,
   "id": "8b9033e8",
   "metadata": {},
   "outputs": [],
   "source": [
    "U_sl2Z = sl2Z.pbw_basis()\n",
    "U_sl2Z, U_sl2Z.gens(), U_sl2Z.lie_algebra() == sl2Z"
   ]
  },
  {
   "cell_type": "code",
   "execution_count": null,
   "id": "92ebf936",
   "metadata": {},
   "outputs": [],
   "source": [
    "Ue, Uh, Uf = U_sl2Z.gens()\n",
    "Ue*Uh*Ue"
   ]
  },
  {
   "cell_type": "markdown",
   "id": "e91f2fbc",
   "metadata": {},
   "source": [
    "## Exercise 2\n",
    "\n",
    "Consider the Lie algebra $L = \\mathfrak{sl}_2(\\mathbb R)$ with (ordered) basis $e,h,f$ and universal enveloping algebra $U(L)$. What is $eh^2e$ in the PBW basis? How would I find this by hand?\n",
    "\n",
    "What about $e^3f^2h$?"
   ]
  },
  {
   "cell_type": "code",
   "execution_count": null,
   "id": "600b8984",
   "metadata": {},
   "outputs": [],
   "source": []
  },
  {
   "cell_type": "markdown",
   "id": "b4ff1a92",
   "metadata": {},
   "source": [
    "## Exercise 3\n",
    "\n",
    "Consider the Lie algebra $L$ of $4 \\times 4$ upper triangular matrices over $\\mathbb Z$. \n",
    "- Find generators of $L$ \n",
    "- Find a basis of $L$. \n",
    "- Are the above the same?\n",
    "- Is this algebra abelian ($[x,y]=0$ for all $x,y \\in L$)? If not, find a non-zero commutator.\n",
    "- Can you see how the generators you found above can generate the whole Lie algebra $L$? (E.g. by generating the basis.)"
   ]
  },
  {
   "cell_type": "code",
   "execution_count": null,
   "id": "b70ac79a",
   "metadata": {},
   "outputs": [],
   "source": []
  },
  {
   "cell_type": "code",
   "execution_count": null,
   "id": "d96b3d21",
   "metadata": {},
   "outputs": [],
   "source": []
  },
  {
   "cell_type": "markdown",
   "id": "54cb3482",
   "metadata": {},
   "source": [
    "## Exercise 4\n",
    "\n",
    "Consider the Lie algebra $L$ of $4 \\times 4$ upper triangular matrices over $\\mathbb Z$. \n",
    "- Find generators of $L$ \n",
    "- Find a basis of $L$. \n",
    "- Is this Lie algebra solvable?\n",
    "- Is this Lie algebra nilpotent? \n",
    "- Can you see whether the Lie algebra from the previous exercise is solvalbe and/or nilpotent?"
   ]
  },
  {
   "cell_type": "code",
   "execution_count": null,
   "id": "4efabd5e",
   "metadata": {},
   "outputs": [],
   "source": []
  },
  {
   "cell_type": "markdown",
   "id": "09dace11",
   "metadata": {},
   "source": [
    "Probably should use leftover time to look at homework from last time."
   ]
  },
  {
   "cell_type": "code",
   "execution_count": null,
   "id": "1e774b3d",
   "metadata": {},
   "outputs": [],
   "source": []
  }
 ],
 "metadata": {
  "kernelspec": {
   "display_name": "SageMath 9.5",
   "language": "sage",
   "name": "sagemath-9.5"
  },
  "language_info": {
   "codemirror_mode": {
    "name": "ipython",
    "version": 3
   },
   "file_extension": ".py",
   "mimetype": "text/x-python",
   "name": "python",
   "nbconvert_exporter": "python",
   "pygments_lexer": "ipython3",
   "version": "3.9.9"
  }
 },
 "nbformat": 4,
 "nbformat_minor": 5
}
