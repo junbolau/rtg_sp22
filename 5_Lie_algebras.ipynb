{
 "cells": [
  {
   "cell_type": "markdown",
   "id": "a8fa8e27",
   "metadata": {},
   "source": [
    "# Lie Algebras"
   ]
  },
  {
   "cell_type": "markdown",
   "id": "61d39dbb",
   "metadata": {},
   "source": [
    "Let $L$ ($\\mathfrak{g}$ is often used) be a (finite dimensional) vector space over a field $F$. (Sometimes we work over rings too, e.g. $\\mathbb Z$.)\n",
    "\n",
    "Equip $L$ with a bilinear map $[\\:\\cdot\\:,\\:\\cdot\\:] \\colon L \\times L \\to L$ (the (Lie) bracket/commutator/Lie product)\n",
    "satisfying $[x,x] = 0$ for all $x \\in L$ and $[x,[y,z]]+[y,[z,x]]+[z,[x,y]] = 0$ for $x,y,z \\in L$ (the Jacobi identity).\n",
    "\n",
    "I.e. $[\\:\\cdot\\:,\\:\\cdot\\:] \\colon L \\times L \\to L$ satisfies:\n",
    "- $[ax + by, z] = a[x,z] + b[y,z]$ for $a,b \\in F$ and $x,y,z \\in L$,\n",
    "- $[z, ax+by] = a[z,x] + b[z,x]$ for $a,b \\in F$ and $x,y,z \\in L$,\n",
    "- $[x,x] = 0$ for $x \\in L$,\n",
    "- $[x,[y,z]]+[y,[z,x]]+[z,[x,y]] = 0$ for $x,y,z \\in L$.\n",
    "\n",
    "Note that these properties imply:\n",
    "$[x,y] = -[y,x]$ for $x,y\\in L$."
   ]
  },
  {
   "cell_type": "markdown",
   "id": "b8b77424",
   "metadata": {},
   "source": [
    "## Standard examples"
   ]
  },
  {
   "cell_type": "markdown",
   "id": "0e3bdb67",
   "metadata": {},
   "source": [
    "- Any associative algebra $A$ over a field $F$ with multiplication $(x,y) \\mapsto x y$, can be considered as a Lie algebra $A^\\mathrm{Lie}$ by defining $[x,y] = xy - yx$. In this case $A$ is an enveloping algebra of $A^\\mathrm{Lie}$. Every Lie algebra can be embedded into one that arises from an associative algebra (the universal enveloping algebra). It's often useful to work with this associative algebra.\n",
    "\n",
    "- Let $V$ be a vector space. $\\mathfrak{gl}(V) = \\operatorname{End}_F(V)$ is the Lie algebra with commutator as above, where $\\operatorname{End}_F(V)$ is an associative algebra via $(f,g) \\mapsto f \\circ g$.\n",
    "\n",
    "Matrix Lie algebras:\n",
    "\n",
    "- $\\mathfrak{gl}_n(F) = \\mathfrak{gl}(F^n)$ (i.e., $M_n(F)$) with bracket $[X,Y] = XY - YX$ for $n \\times n$-matrices $X,Y$.\n",
    "\n",
    "- $\\mathfrak{sl}_n(F)$ is the Lie subalgebra with trace zero. For a lot of Lie theory, $\\mathfrak{sl}_2(F)$ is especially important.\n",
    "\n",
    "- Many more..."
   ]
  },
  {
   "cell_type": "markdown",
   "id": "31a6f8d4",
   "metadata": {},
   "source": [
    "## Background: Lie groups"
   ]
  },
  {
   "cell_type": "markdown",
   "id": "2103b78e",
   "metadata": {},
   "source": [
    "Note: Sage only has an implementation for some nilpotent Lie groups.\n",
    "\n",
    "### Real Lie groups\n",
    "\n",
    "A real Lie group is a finite dimensional smooth manifold (looks like $\\mathbb R^n$ locally) that's also a group, where the group operations\n",
    "- $\\mu \\colon G \\times G \\to G, (x,y) \\mapsto xy$\n",
    "- $\\iota \\colon G \\times G, x \\mapsto x^{-1}$\n",
    "\n",
    "are smooth maps.\n",
    "\n",
    "Examples:\n",
    "- $\\operatorname{GL}_n(\\mathbb R) = \\{ A \\in M_n(\\mathbb R) : \\det A \\neq 0 \\}$\n",
    "- $\\operatorname{SL}_n(\\mathbb R) = \\{ A \\in M_n(\\mathbb R) : \\det A = 1 \\}$\n",
    "\n",
    "### Topological Lie groups (over $\\mathbb C$)\n",
    "\n",
    "A Lie group is a Hausdorff topological group that is locally isomorphic near $e \\in G$ to a subgroup of $\\operatorname{GL}_n(\\mathbb C)$ and has at most countably many connected components.\n",
    "\n",
    "### Lie algebra from Lie group\n",
    "If $G$ is a closed subgroup of $\\operatorname{GL}_n(\\mathbb C)$, then we define $\\operatorname{Lie}(G) = \\{ X \\in M_n(\\mathbb C) : \\exp(tX) \\in G \\text{ for all } t \\in \\mathbb R \\}$, where $\\exp$ can be defined as usual (via $\\sum_{n=0}^\\infty \\frac{x^n}{n!}$), and the commutator is $[X,Y] = XY - YX$."
   ]
  },
  {
   "cell_type": "markdown",
   "id": "4f89e865",
   "metadata": {},
   "source": [
    "## Simple Lie algebras\n",
    "\n",
    "A Lie algebra is simple if it's non-abelian and contains no non-zero proper ideals. (We will ignore the details.)\n",
    "\n",
    "There's a classification of finite dimensional simple Lie algebras over $\\mathbb C$ that's often useful.\n",
    "- $A_n$\n",
    "- $B_n$\n",
    "- $C_n$\n",
    "- $D_n$\n",
    "- exceptional groups"
   ]
  },
  {
   "cell_type": "code",
   "execution_count": null,
   "id": "c48e4a65",
   "metadata": {},
   "outputs": [],
   "source": []
  },
  {
   "cell_type": "code",
   "execution_count": null,
   "id": "703bdcb5",
   "metadata": {},
   "outputs": [],
   "source": []
  },
  {
   "cell_type": "code",
   "execution_count": 1,
   "id": "a84420e0",
   "metadata": {},
   "outputs": [
    {
     "data": {
      "text/plain": [
       "(Abelian Lie algebra on 2 generators (1.00000000000000*x1, 1.00000000000000*y1) over Real Field with 53 bits of precision,\n",
       " Abelian Lie algebra on 2 generators (x2, y2) over Rational Field)"
      ]
     },
     "execution_count": 1,
     "metadata": {},
     "output_type": "execute_result"
    }
   ],
   "source": [
    "L1.<x1,y1> = LieAlgebra(RR, abelian = True)\n",
    "L2.<x2,y2> = LieAlgebra(QQ, abelian = True)\n",
    "L1, L2"
   ]
  },
  {
   "cell_type": "code",
   "execution_count": 5,
   "id": "908c7a7c",
   "metadata": {},
   "outputs": [
    {
     "data": {
      "text/plain": [
       "(0, 0, 0)"
      ]
     },
     "execution_count": 5,
     "metadata": {},
     "output_type": "execute_result"
    }
   ],
   "source": [
    "x1.bracket(y1), L1[x1+y1,y1], L1.bracket(x1,y1)"
   ]
  },
  {
   "cell_type": "code",
   "execution_count": 8,
   "id": "625d48fd",
   "metadata": {},
   "outputs": [
    {
     "data": {
      "text/plain": [
       "(a*b - b*a, -2*a*b + 2*b*a, a, b)"
      ]
     },
     "execution_count": 8,
     "metadata": {},
     "output_type": "execute_result"
    }
   ],
   "source": [
    "R.<a,b> = FreeAlgebra(QQ, 2)\n",
    "LR.<x,y> = LieAlgebra(associative = R.gens())\n",
    "x.bracket(y), LR[x+y, x-y], x, y"
   ]
  },
  {
   "cell_type": "code",
   "execution_count": 9,
   "id": "b9b07614",
   "metadata": {},
   "outputs": [
    {
     "data": {
      "text/plain": [
       "Symmetric group algebra of order 3 over Integer Ring"
      ]
     },
     "execution_count": 9,
     "metadata": {},
     "output_type": "execute_result"
    }
   ],
   "source": [
    "G = SymmetricGroup(3)\n",
    "S = GroupAlgebra(G, ZZ)\n",
    "S"
   ]
  },
  {
   "cell_type": "code",
   "execution_count": 10,
   "id": "7bb2cdd8",
   "metadata": {},
   "outputs": [
    {
     "data": {
      "text/plain": [
       "Lie algebra generated by ((1,2,3), (1,2)) in Symmetric group algebra of order 3 over Integer Ring"
      ]
     },
     "execution_count": 10,
     "metadata": {},
     "output_type": "execute_result"
    }
   ],
   "source": [
    "LG.<g,h> = LieAlgebra(associative = S.gens())\n",
    "LG"
   ]
  },
  {
   "cell_type": "code",
   "execution_count": 12,
   "id": "27f82d96",
   "metadata": {},
   "outputs": [
    {
     "data": {
      "text/plain": [
       "(Lie algebra generated by ([1 0]\n",
       " [0 0], [0 1]\n",
       " [0 0], [0 0]\n",
       " [1 0], [0 0]\n",
       " [0 1]) in Full MatrixSpace of 2 by 2 dense matrices over Rational Field,\n",
       " (\n",
       "[1 0]  [0 1]  [0 0]  [0 0]\n",
       "[0 0], [0 0], [1 0], [0 1]\n",
       "))"
      ]
     },
     "execution_count": 12,
     "metadata": {},
     "output_type": "execute_result"
    }
   ],
   "source": [
    "MS = MatrixSpace(QQ, 2)\n",
    "gl2_MS = LieAlgebra(associative=MS.gens())\n",
    "gl2_MS, gl2_MS.gens()"
   ]
  },
  {
   "cell_type": "code",
   "execution_count": 13,
   "id": "f2a05ab8",
   "metadata": {},
   "outputs": [
    {
     "data": {
      "text/plain": [
       "Lie algebra of ['A', 1] in the Chevalley basis"
      ]
     },
     "execution_count": 13,
     "metadata": {},
     "output_type": "execute_result"
    }
   ],
   "source": [
    "A1.<eA1,fA1,hA1> = LieAlgebra(QQ, cartan_type = ['A',1])\n",
    "A1"
   ]
  },
  {
   "cell_type": "code",
   "execution_count": 14,
   "id": "dbe3cd55",
   "metadata": {},
   "outputs": [
    {
     "data": {
      "text/plain": [
       "((E[alpha[1]], E[-alpha[1]], h1),\n",
       " Finite family {alpha[1]: E[alpha[1]], alphacheck[1]: h1, -alpha[1]: E[-alpha[1]]})"
      ]
     },
     "execution_count": 14,
     "metadata": {},
     "output_type": "execute_result"
    }
   ],
   "source": [
    "A1.gens(), A1.basis()"
   ]
  },
  {
   "cell_type": "code",
   "execution_count": 16,
   "id": "b0d801cd",
   "metadata": {},
   "outputs": [
    {
     "data": {
      "text/plain": [
       "(h1, -2*E[alpha[1]], 2*E[-alpha[1]])"
      ]
     },
     "execution_count": 16,
     "metadata": {},
     "output_type": "execute_result"
    }
   ],
   "source": [
    "A1.bracket(eA1,fA1), A1.bracket(eA1,hA1), A1.bracket(fA1,hA1)"
   ]
  },
  {
   "cell_type": "code",
   "execution_count": 17,
   "id": "11895084",
   "metadata": {},
   "outputs": [
    {
     "data": {
      "text/plain": [
       "Special linear Lie algebra of rank 2 over Rational Field"
      ]
     },
     "execution_count": 17,
     "metadata": {},
     "output_type": "execute_result"
    }
   ],
   "source": [
    "sl2.<e,f,h> = LieAlgebra(QQ, cartan_type = ['A',1], representation='matrix')\n",
    "sl2"
   ]
  },
  {
   "cell_type": "code",
   "execution_count": 19,
   "id": "339ae2f4",
   "metadata": {},
   "outputs": [
    {
     "data": {
      "text/plain": [
       "((\n",
       "[0 1]  [0 0]  [ 1  0]\n",
       "[0 0], [1 0], [ 0 -1]\n",
       "),\n",
       " Family ([ 1  0]\n",
       " [ 0 -1], [0 1]\n",
       " [0 0], [0 0]\n",
       " [1 0]))"
      ]
     },
     "execution_count": 19,
     "metadata": {},
     "output_type": "execute_result"
    }
   ],
   "source": [
    "sl2.gens(), sl2.basis()"
   ]
  },
  {
   "cell_type": "code",
   "execution_count": 21,
   "id": "a9603134",
   "metadata": {},
   "outputs": [
    {
     "data": {
      "text/plain": [
       "False"
      ]
     },
     "execution_count": 21,
     "metadata": {},
     "output_type": "execute_result"
    }
   ],
   "source": [
    "sl2 == A1"
   ]
  },
  {
   "cell_type": "code",
   "execution_count": 22,
   "id": "d388d3fa",
   "metadata": {},
   "outputs": [
    {
     "data": {
      "text/plain": [
       "(Lie algebra of ['A', 1] in the Chevalley basis,\n",
       " Special linear Lie algebra of rank 2 over Rational Field)"
      ]
     },
     "execution_count": 22,
     "metadata": {},
     "output_type": "execute_result"
    }
   ],
   "source": [
    "sl2_alt = lie_algebras.sl(QQ, 2)\n",
    "sl2_alt_mat = lie_algebras.sl(QQ, 2, 'matrix')\n",
    "sl2_alt, sl2_alt_mat"
   ]
  },
  {
   "cell_type": "code",
   "execution_count": 28,
   "id": "d3ca7e06",
   "metadata": {},
   "outputs": [],
   "source": [
    "gl2_alt = lie_algebras.gl(QQ, 2)"
   ]
  },
  {
   "cell_type": "code",
   "execution_count": 29,
   "id": "2584366e",
   "metadata": {},
   "outputs": [
    {
     "data": {
      "text/plain": [
       "(Special linear Lie algebra of rank 2 over Rational Field,\n",
       " Ideal ([ 1  0]\n",
       " [ 0 -1], [0 1]\n",
       " [0 0], [0 0]\n",
       " [1 0]) of General linear Lie algebra of rank 2 over Rational Field)"
      ]
     },
     "execution_count": 29,
     "metadata": {},
     "output_type": "execute_result"
    }
   ],
   "source": [
    "sl2.derived_subalgebra(), gl2_alt.derived_subalgebra()"
   ]
  },
  {
   "cell_type": "code",
   "execution_count": null,
   "id": "64ea3df2",
   "metadata": {},
   "outputs": [],
   "source": []
  },
  {
   "cell_type": "code",
   "execution_count": 35,
   "id": "06577282",
   "metadata": {},
   "outputs": [
    {
     "data": {
      "text/plain": [
       "(Lie algebra on 3 generators (e2, f2, h2) over Rational Field, (e2, f2, h2))"
      ]
     },
     "execution_count": 35,
     "metadata": {},
     "output_type": "execute_result"
    }
   ],
   "source": [
    "# [e,h] = -2e, [f,h] = 2f, [e,f] = h\n",
    "L = LieAlgebra(QQ, \n",
    "               {('e2','h2'): {'e2':-2}, # [e2,h2] = -2*e2\n",
    "                ('f2','h2'): {'f2':2}, \n",
    "                ('e2','f2'): {'h2':1}},\n",
    "               names='e2,f2,h2')\n",
    "L, L.gens()"
   ]
  },
  {
   "cell_type": "code",
   "execution_count": 36,
   "id": "5d1d81b8",
   "metadata": {},
   "outputs": [
    {
     "data": {
      "text/plain": [
       "(-2*e2, 2*f2, h2)"
      ]
     },
     "execution_count": 36,
     "metadata": {},
     "output_type": "execute_result"
    }
   ],
   "source": [
    "e2, f2, h2 = L.gens()\n",
    "L[e2,h2], L[f2,h2], L[e2,f2]"
   ]
  },
  {
   "cell_type": "markdown",
   "id": "2c0de774",
   "metadata": {},
   "source": [
    "## Exercise 1\n",
    "\n",
    "How can we find different Lie algebras to work with?\n",
    "\n",
    "What kind of properties can we find out about these Lie algebras? How would we find this from within Sage?"
   ]
  },
  {
   "cell_type": "code",
   "execution_count": 37,
   "id": "b107e022",
   "metadata": {},
   "outputs": [],
   "source": [
    "LieAlgebra??"
   ]
  },
  {
   "cell_type": "code",
   "execution_count": 38,
   "id": "77cd618b",
   "metadata": {},
   "outputs": [],
   "source": [
    "lie_algebras??"
   ]
  },
  {
   "cell_type": "code",
   "execution_count": null,
   "id": "372fa89e",
   "metadata": {},
   "outputs": [],
   "source": [
    "lie_algebras. #press tab"
   ]
  },
  {
   "cell_type": "code",
   "execution_count": 39,
   "id": "dc4a622f",
   "metadata": {},
   "outputs": [],
   "source": [
    "Lie = lie_algebras.sl(QQ, 2)"
   ]
  },
  {
   "cell_type": "code",
   "execution_count": null,
   "id": "441c4f86",
   "metadata": {},
   "outputs": [],
   "source": [
    "Lie. #press tab"
   ]
  },
  {
   "cell_type": "markdown",
   "id": "4fc2afde",
   "metadata": {},
   "source": [
    "Stuff to be careful with:"
   ]
  },
  {
   "cell_type": "code",
   "execution_count": 40,
   "id": "10041454",
   "metadata": {
    "scrolled": true
   },
   "outputs": [
    {
     "data": {
      "text/plain": [
       "(False, False, False, False, False, True)"
      ]
     },
     "execution_count": 40,
     "metadata": {},
     "output_type": "execute_result"
    }
   ],
   "source": [
    "L == sl2, L == A1, L == sl2_alt, sl2 == sl2_alt, sl2 == A1, A1 == sl2_alt"
   ]
  },
  {
   "cell_type": "code",
   "execution_count": 41,
   "id": "cae03573",
   "metadata": {},
   "outputs": [
    {
     "data": {
      "text/plain": [
       "((e2, f2, h2),\n",
       " (\n",
       "[0 1]  [0 0]  [ 1  0]\n",
       "[0 0], [1 0], [ 0 -1]\n",
       "),\n",
       " (E[alpha[1]], E[-alpha[1]], h1),\n",
       " (E[alpha[1]], E[-alpha[1]], h1))"
      ]
     },
     "execution_count": 41,
     "metadata": {},
     "output_type": "execute_result"
    }
   ],
   "source": [
    "L.gens(), sl2.gens(), A1.gens(), sl2_alt.gens()"
   ]
  },
  {
   "cell_type": "code",
   "execution_count": 43,
   "id": "9d810770",
   "metadata": {},
   "outputs": [
    {
     "data": {
      "text/plain": [
       "(\n",
       "[0 1]  [0 0]  [ 1  0]  [ 1  0]  [0 1]  [0 0]\n",
       "[0 0], [1 0], [ 0 -1], [ 0 -1], [0 0], [1 0]\n",
       ")"
      ]
     },
     "execution_count": 43,
     "metadata": {},
     "output_type": "execute_result"
    }
   ],
   "source": [
    "sl2 = lie_algebras.sl(QQ, 2, 'matrix')\n",
    "e3, f3, h3 = sl2.gens()\n",
    "a1, a2, a3 = sl2.basis()\n",
    "e3, f3, h3, a1, a2, a3 #be careful about the order"
   ]
  },
  {
   "cell_type": "code",
   "execution_count": null,
   "id": "683075b6",
   "metadata": {},
   "outputs": [],
   "source": [
    "L.bracket(e2,h2), L([f2,h2]), L[e2,f2]"
   ]
  },
  {
   "cell_type": "code",
   "execution_count": null,
   "id": "94679f50",
   "metadata": {},
   "outputs": [],
   "source": [
    "sl2[e3,h3], sl2[f3,h3], sl2[e3,f3]"
   ]
  },
  {
   "cell_type": "code",
   "execution_count": null,
   "id": "3c2e7bc7",
   "metadata": {},
   "outputs": [],
   "source": [
    "-2*e3 == sl2[e3,h3], 2*f3 == sl2[f3,h3], h3 == sl2[e3,f3]"
   ]
  },
  {
   "cell_type": "code",
   "execution_count": null,
   "id": "286b1a9a",
   "metadata": {},
   "outputs": [],
   "source": [
    "L == sl2"
   ]
  },
  {
   "cell_type": "code",
   "execution_count": null,
   "id": "0675a5b9",
   "metadata": {},
   "outputs": [],
   "source": [
    "sl2.lie_algebra_generators(), sl2.basis(), sl2.gens()"
   ]
  },
  {
   "cell_type": "code",
   "execution_count": null,
   "id": "5ff75f2a",
   "metadata": {},
   "outputs": [],
   "source": [
    "sl2.lie_group() # not nilpotent"
   ]
  },
  {
   "cell_type": "code",
   "execution_count": 44,
   "id": "9d4d82ca",
   "metadata": {},
   "outputs": [
    {
     "data": {
      "text/plain": [
       "(Lie algebra of ['A', 1] in the Chevalley basis,\n",
       " Special linear Lie algebra of rank 2 over Integer Ring)"
      ]
     },
     "execution_count": 44,
     "metadata": {},
     "output_type": "execute_result"
    }
   ],
   "source": [
    "sl2Z = lie_algebras.sl(ZZ, 2)\n",
    "sl2Z_mat = lie_algebras.sl(ZZ, 2, 'matrix')\n",
    "sl2Z, sl2Z_mat"
   ]
  },
  {
   "cell_type": "code",
   "execution_count": 45,
   "id": "dcdd80c4",
   "metadata": {},
   "outputs": [
    {
     "name": "stderr",
     "output_type": "stream",
     "text": [
      "Exception raised by child process with pid=11838:\n",
      "Traceback (most recent call last):\n",
      "  File \"sage/misc/cachefunc.pyx\", line 1943, in sage.misc.cachefunc.CachedMethodCaller.__call__ (build/cythonized/sage/misc/cachefunc.c:10347)\n",
      "    return cache[k]\n",
      "KeyError: (None, False, True)\n",
      "\n",
      "During handling of the above exception, another exception occurred:\n",
      "\n",
      "Traceback (most recent call last):\n",
      "  File \"/private/var/tmp/sage-9.5-current/local/var/lib/sage/venv-python3.9.9/lib/python3.9/site-packages/sage/parallel/use_fork.py\", line 178, in __call__\n",
      "    self._subprocess(f, dir, *v0)\n",
      "  File \"/private/var/tmp/sage-9.5-current/local/var/lib/sage/venv-python3.9.9/lib/python3.9/site-packages/sage/parallel/use_fork.py\", line 308, in _subprocess\n",
      "    value = f(*args, **kwds)\n",
      "  File \"/private/var/tmp/sage-9.5-current/local/var/lib/sage/venv-python3.9.9/lib/python3.9/site-packages/sage/categories/finite_dimensional_lie_algebras_with_basis.py\", line 1193, in compute_diff\n",
      "    for key, coeff in elt.to_vector().iteritems():\n",
      "  File \"/private/var/tmp/sage-9.5-current/local/var/lib/sage/venv-python3.9.9/lib/python3.9/site-packages/sage/categories/finite_dimensional_lie_algebras_with_basis.py\", line 1628, in to_vector\n",
      "    mc = self.monomial_coefficients(copy=False)\n",
      "  File \"/private/var/tmp/sage-9.5-current/local/var/lib/sage/venv-python3.9.9/lib/python3.9/site-packages/sage/algebras/lie_algebras/lie_algebra.py\", line 1444, in monomial_coefficients\n",
      "    raise NotImplementedError(\"the basis is not defined\")\n",
      "NotImplementedError: the basis is not defined\n",
      "Exception raised by child process with pid=11839:\n",
      "Traceback (most recent call last):\n",
      "  File \"sage/misc/cachefunc.pyx\", line 1943, in sage.misc.cachefunc.CachedMethodCaller.__call__ (build/cythonized/sage/misc/cachefunc.c:10347)\n",
      "    return cache[k]\n",
      "KeyError: (None, False, True)\n",
      "\n",
      "During handling of the above exception, another exception occurred:\n",
      "\n",
      "Traceback (most recent call last):\n",
      "  File \"/private/var/tmp/sage-9.5-current/local/var/lib/sage/venv-python3.9.9/lib/python3.9/site-packages/sage/parallel/use_fork.py\", line 178, in __call__\n",
      "    self._subprocess(f, dir, *v0)\n",
      "  File \"/private/var/tmp/sage-9.5-current/local/var/lib/sage/venv-python3.9.9/lib/python3.9/site-packages/sage/parallel/use_fork.py\", line 308, in _subprocess\n",
      "    value = f(*args, **kwds)\n",
      "  File \"/private/var/tmp/sage-9.5-current/local/var/lib/sage/venv-python3.9.9/lib/python3.9/site-packages/sage/categories/finite_dimensional_lie_algebras_with_basis.py\", line 1193, in compute_diff\n",
      "    for key, coeff in elt.to_vector().iteritems():\n",
      "  File \"/private/var/tmp/sage-9.5-current/local/var/lib/sage/venv-python3.9.9/lib/python3.9/site-packages/sage/categories/finite_dimensional_lie_algebras_with_basis.py\", line 1628, in to_vector\n",
      "    mc = self.monomial_coefficients(copy=False)\n",
      "  File \"/private/var/tmp/sage-9.5-current/local/var/lib/sage/venv-python3.9.9/lib/python3.9/site-packages/sage/algebras/lie_algebras/lie_algebra.py\", line 1444, in monomial_coefficients\n",
      "    raise NotImplementedError(\"the basis is not defined\")\n",
      "NotImplementedError: the basis is not defined\n"
     ]
    },
    {
     "ename": "AttributeError",
     "evalue": "'str' object has no attribute 'base_ring'",
     "output_type": "error",
     "traceback": [
      "\u001b[0;31m---------------------------------------------------------------------------\u001b[0m",
      "\u001b[0;31mKeyError\u001b[0m                                  Traceback (most recent call last)",
      "\u001b[0;32m/private/var/tmp/sage-9.5-current/local/var/lib/sage/venv-python3.9.9/lib/python3.9/site-packages/sage/misc/cachefunc.pyx\u001b[0m in \u001b[0;36msage.misc.cachefunc.CachedMethodCaller.__call__ (build/cythonized/sage/misc/cachefunc.c:10347)\u001b[0;34m()\u001b[0m\n\u001b[1;32m   1942\u001b[0m             \u001b[0;32mtry\u001b[0m\u001b[0;34m:\u001b[0m\u001b[0;34m\u001b[0m\u001b[0;34m\u001b[0m\u001b[0m\n\u001b[0;32m-> 1943\u001b[0;31m                 \u001b[0;32mreturn\u001b[0m \u001b[0mcache\u001b[0m\u001b[0;34m[\u001b[0m\u001b[0mk\u001b[0m\u001b[0;34m]\u001b[0m\u001b[0;34m\u001b[0m\u001b[0;34m\u001b[0m\u001b[0m\n\u001b[0m\u001b[1;32m   1944\u001b[0m             \u001b[0;32mexcept\u001b[0m \u001b[0mTypeError\u001b[0m\u001b[0;34m:\u001b[0m  \u001b[0;31m# k is not hashable\u001b[0m\u001b[0;34m\u001b[0m\u001b[0;34m\u001b[0m\u001b[0m\n",
      "\u001b[0;31mKeyError\u001b[0m: (None, False, True)",
      "\nDuring handling of the above exception, another exception occurred:\n",
      "\u001b[0;31mAttributeError\u001b[0m                            Traceback (most recent call last)",
      "\u001b[0;32m/var/folders/zs/_zq_wtz11174g_p4097m7lzm0000gn/T/ipykernel_10884/2600407943.py\u001b[0m in \u001b[0;36m<module>\u001b[0;34m\u001b[0m\n\u001b[0;32m----> 1\u001b[0;31m \u001b[0msl2Z_mat\u001b[0m\u001b[0;34m.\u001b[0m\u001b[0mchevalley_eilenberg_complex\u001b[0m\u001b[0;34m(\u001b[0m\u001b[0;34m)\u001b[0m \u001b[0;31m# error\u001b[0m\u001b[0;34m\u001b[0m\u001b[0;34m\u001b[0m\u001b[0m\n\u001b[0m",
      "\u001b[0;32m/private/var/tmp/sage-9.5-current/local/var/lib/sage/venv-python3.9.9/lib/python3.9/site-packages/sage/misc/cachefunc.pyx\u001b[0m in \u001b[0;36msage.misc.cachefunc.CachedMethodCaller.__call__ (build/cythonized/sage/misc/cachefunc.c:10483)\u001b[0;34m()\u001b[0m\n\u001b[1;32m   1946\u001b[0m                 \u001b[0;32mreturn\u001b[0m \u001b[0mcache\u001b[0m\u001b[0;34m[\u001b[0m\u001b[0mk\u001b[0m\u001b[0;34m]\u001b[0m\u001b[0;34m\u001b[0m\u001b[0;34m\u001b[0m\u001b[0m\n\u001b[1;32m   1947\u001b[0m         \u001b[0;32mexcept\u001b[0m \u001b[0mKeyError\u001b[0m\u001b[0;34m:\u001b[0m\u001b[0;34m\u001b[0m\u001b[0;34m\u001b[0m\u001b[0m\n\u001b[0;32m-> 1948\u001b[0;31m             \u001b[0mw\u001b[0m \u001b[0;34m=\u001b[0m \u001b[0mself\u001b[0m\u001b[0;34m.\u001b[0m\u001b[0m_instance_call\u001b[0m\u001b[0;34m(\u001b[0m\u001b[0;34m*\u001b[0m\u001b[0margs\u001b[0m\u001b[0;34m,\u001b[0m \u001b[0;34m**\u001b[0m\u001b[0mkwds\u001b[0m\u001b[0;34m)\u001b[0m\u001b[0;34m\u001b[0m\u001b[0;34m\u001b[0m\u001b[0m\n\u001b[0m\u001b[1;32m   1949\u001b[0m             \u001b[0mcache\u001b[0m\u001b[0;34m[\u001b[0m\u001b[0mk\u001b[0m\u001b[0;34m]\u001b[0m \u001b[0;34m=\u001b[0m \u001b[0mw\u001b[0m\u001b[0;34m\u001b[0m\u001b[0;34m\u001b[0m\u001b[0m\n\u001b[1;32m   1950\u001b[0m             \u001b[0;32mreturn\u001b[0m \u001b[0mw\u001b[0m\u001b[0;34m\u001b[0m\u001b[0;34m\u001b[0m\u001b[0m\n",
      "\u001b[0;32m/private/var/tmp/sage-9.5-current/local/var/lib/sage/venv-python3.9.9/lib/python3.9/site-packages/sage/misc/cachefunc.pyx\u001b[0m in \u001b[0;36msage.misc.cachefunc.CachedMethodCaller._instance_call (build/cythonized/sage/misc/cachefunc.c:9949)\u001b[0;34m()\u001b[0m\n\u001b[1;32m   1822\u001b[0m             \u001b[0;32mTrue\u001b[0m\u001b[0;34m\u001b[0m\u001b[0;34m\u001b[0m\u001b[0m\n\u001b[1;32m   1823\u001b[0m         \"\"\"\n\u001b[0;32m-> 1824\u001b[0;31m         \u001b[0;32mreturn\u001b[0m \u001b[0mself\u001b[0m\u001b[0;34m.\u001b[0m\u001b[0mf\u001b[0m\u001b[0;34m(\u001b[0m\u001b[0mself\u001b[0m\u001b[0;34m.\u001b[0m\u001b[0m_instance\u001b[0m\u001b[0;34m,\u001b[0m \u001b[0;34m*\u001b[0m\u001b[0margs\u001b[0m\u001b[0;34m,\u001b[0m \u001b[0;34m**\u001b[0m\u001b[0mkwds\u001b[0m\u001b[0;34m)\u001b[0m\u001b[0;34m\u001b[0m\u001b[0;34m\u001b[0m\u001b[0m\n\u001b[0m\u001b[1;32m   1825\u001b[0m \u001b[0;34m\u001b[0m\u001b[0m\n\u001b[1;32m   1826\u001b[0m     \u001b[0mcdef\u001b[0m \u001b[0mfix_args_kwds\u001b[0m\u001b[0;34m(\u001b[0m\u001b[0mself\u001b[0m\u001b[0;34m,\u001b[0m \u001b[0mtuple\u001b[0m \u001b[0margs\u001b[0m\u001b[0;34m,\u001b[0m \u001b[0mdict\u001b[0m \u001b[0mkwds\u001b[0m\u001b[0;34m)\u001b[0m\u001b[0;34m:\u001b[0m\u001b[0;34m\u001b[0m\u001b[0;34m\u001b[0m\u001b[0m\n",
      "\u001b[0;32m/private/var/tmp/sage-9.5-current/local/var/lib/sage/venv-python3.9.9/lib/python3.9/site-packages/sage/categories/finite_dimensional_lie_algebras_with_basis.py\u001b[0m in \u001b[0;36mchevalley_eilenberg_complex\u001b[0;34m(self, M, dual, sparse, ncpus)\u001b[0m\n\u001b[1;32m   1218\u001b[0m             \u001b[0;32mfrom\u001b[0m \u001b[0msage\u001b[0m\u001b[0;34m.\u001b[0m\u001b[0mhomology\u001b[0m\u001b[0;34m.\u001b[0m\u001b[0mchain_complex\u001b[0m \u001b[0;32mimport\u001b[0m \u001b[0mChainComplex\u001b[0m\u001b[0;34m\u001b[0m\u001b[0;34m\u001b[0m\u001b[0m\n\u001b[1;32m   1219\u001b[0m             \u001b[0;32mtry\u001b[0m\u001b[0;34m:\u001b[0m\u001b[0;34m\u001b[0m\u001b[0;34m\u001b[0m\u001b[0m\n\u001b[0;32m-> 1220\u001b[0;31m                 \u001b[0;32mreturn\u001b[0m \u001b[0mChainComplex\u001b[0m\u001b[0;34m(\u001b[0m\u001b[0mchain_data\u001b[0m\u001b[0;34m,\u001b[0m \u001b[0mdegree_of_differential\u001b[0m\u001b[0;34m=\u001b[0m\u001b[0;34m-\u001b[0m\u001b[0;36m1\u001b[0m\u001b[0;34m)\u001b[0m\u001b[0;34m\u001b[0m\u001b[0;34m\u001b[0m\u001b[0m\n\u001b[0m\u001b[1;32m   1221\u001b[0m             \u001b[0;32mexcept\u001b[0m \u001b[0mTypeError\u001b[0m\u001b[0;34m:\u001b[0m\u001b[0;34m\u001b[0m\u001b[0;34m\u001b[0m\u001b[0m\n\u001b[1;32m   1222\u001b[0m                 \u001b[0;32mreturn\u001b[0m \u001b[0mchain_data\u001b[0m\u001b[0;34m\u001b[0m\u001b[0;34m\u001b[0m\u001b[0m\n",
      "\u001b[0;32m/private/var/tmp/sage-9.5-current/local/var/lib/sage/venv-python3.9.9/lib/python3.9/site-packages/sage/homology/chain_complex.py\u001b[0m in \u001b[0;36mChainComplex\u001b[0;34m(data, base_ring, grading_group, degree_of_differential, degree, check)\u001b[0m\n\u001b[1;32m    259\u001b[0m             \u001b[0mbase_ring\u001b[0m \u001b[0;34m=\u001b[0m \u001b[0mZZ\u001b[0m\u001b[0;34m\u001b[0m\u001b[0;34m\u001b[0m\u001b[0m\n\u001b[1;32m    260\u001b[0m         \u001b[0;32melse\u001b[0m\u001b[0;34m:\u001b[0m\u001b[0;34m\u001b[0m\u001b[0;34m\u001b[0m\u001b[0m\n\u001b[0;32m--> 261\u001b[0;31m             \u001b[0mbases\u001b[0m \u001b[0;34m=\u001b[0m \u001b[0mtuple\u001b[0m\u001b[0;34m(\u001b[0m\u001b[0mx\u001b[0m\u001b[0;34m.\u001b[0m\u001b[0mbase_ring\u001b[0m\u001b[0;34m(\u001b[0m\u001b[0;34m)\u001b[0m \u001b[0;32mfor\u001b[0m \u001b[0mx\u001b[0m \u001b[0;32min\u001b[0m \u001b[0mdata_dict\u001b[0m\u001b[0;34m.\u001b[0m\u001b[0mvalues\u001b[0m\u001b[0;34m(\u001b[0m\u001b[0;34m)\u001b[0m\u001b[0;34m)\u001b[0m\u001b[0;34m\u001b[0m\u001b[0;34m\u001b[0m\u001b[0m\n\u001b[0m\u001b[1;32m    262\u001b[0m             \u001b[0mbase_ring\u001b[0m \u001b[0;34m=\u001b[0m \u001b[0mcoercion_model\u001b[0m\u001b[0;34m.\u001b[0m\u001b[0mcommon_parent\u001b[0m\u001b[0;34m(\u001b[0m\u001b[0;34m*\u001b[0m\u001b[0mbases\u001b[0m\u001b[0;34m)\u001b[0m\u001b[0;34m\u001b[0m\u001b[0;34m\u001b[0m\u001b[0m\n\u001b[1;32m    263\u001b[0m \u001b[0;34m\u001b[0m\u001b[0m\n",
      "\u001b[0;32m/private/var/tmp/sage-9.5-current/local/var/lib/sage/venv-python3.9.9/lib/python3.9/site-packages/sage/homology/chain_complex.py\u001b[0m in \u001b[0;36m<genexpr>\u001b[0;34m(.0)\u001b[0m\n\u001b[1;32m    259\u001b[0m             \u001b[0mbase_ring\u001b[0m \u001b[0;34m=\u001b[0m \u001b[0mZZ\u001b[0m\u001b[0;34m\u001b[0m\u001b[0;34m\u001b[0m\u001b[0m\n\u001b[1;32m    260\u001b[0m         \u001b[0;32melse\u001b[0m\u001b[0;34m:\u001b[0m\u001b[0;34m\u001b[0m\u001b[0;34m\u001b[0m\u001b[0m\n\u001b[0;32m--> 261\u001b[0;31m             \u001b[0mbases\u001b[0m \u001b[0;34m=\u001b[0m \u001b[0mtuple\u001b[0m\u001b[0;34m(\u001b[0m\u001b[0mx\u001b[0m\u001b[0;34m.\u001b[0m\u001b[0mbase_ring\u001b[0m\u001b[0;34m(\u001b[0m\u001b[0;34m)\u001b[0m \u001b[0;32mfor\u001b[0m \u001b[0mx\u001b[0m \u001b[0;32min\u001b[0m \u001b[0mdata_dict\u001b[0m\u001b[0;34m.\u001b[0m\u001b[0mvalues\u001b[0m\u001b[0;34m(\u001b[0m\u001b[0;34m)\u001b[0m\u001b[0;34m)\u001b[0m\u001b[0;34m\u001b[0m\u001b[0;34m\u001b[0m\u001b[0m\n\u001b[0m\u001b[1;32m    262\u001b[0m             \u001b[0mbase_ring\u001b[0m \u001b[0;34m=\u001b[0m \u001b[0mcoercion_model\u001b[0m\u001b[0;34m.\u001b[0m\u001b[0mcommon_parent\u001b[0m\u001b[0;34m(\u001b[0m\u001b[0;34m*\u001b[0m\u001b[0mbases\u001b[0m\u001b[0;34m)\u001b[0m\u001b[0;34m\u001b[0m\u001b[0;34m\u001b[0m\u001b[0m\n\u001b[1;32m    263\u001b[0m \u001b[0;34m\u001b[0m\u001b[0m\n",
      "\u001b[0;31mAttributeError\u001b[0m: 'str' object has no attribute 'base_ring'"
     ]
    }
   ],
   "source": [
    "sl2Z_mat.chevalley_eilenberg_complex() # error"
   ]
  },
  {
   "cell_type": "code",
   "execution_count": 46,
   "id": "0f092dd9",
   "metadata": {},
   "outputs": [
    {
     "data": {
      "text/plain": [
       "Chain complex with at most 4 nonzero terms over Integer Ring"
      ]
     },
     "execution_count": 46,
     "metadata": {},
     "output_type": "execute_result"
    }
   ],
   "source": [
    "C = sl2Z.chevalley_eilenberg_complex() # ok\n",
    "C"
   ]
  },
  {
   "cell_type": "code",
   "execution_count": 47,
   "id": "ea237bbd",
   "metadata": {},
   "outputs": [
    {
     "data": {
      "text/plain": [
       "                          [ 2  0  0]       [0]      \n",
       "                          [ 0 -1  0]       [0]      \n",
       "            [0 0 0]       [ 0  0  2]       [0]      \n",
       " 0 <-- C_0 <-------- C_1 <----------- C_2 <---- C_3 <-- 0 "
      ]
     },
     "execution_count": 47,
     "metadata": {},
     "output_type": "execute_result"
    }
   ],
   "source": [
    "ascii_art(C)"
   ]
  },
  {
   "cell_type": "code",
   "execution_count": 48,
   "id": "594e0285",
   "metadata": {},
   "outputs": [
    {
     "data": {
      "text/plain": [
       "({0: Z, 1: C2 x C2, 2: 0, 3: Z}, {0: Z, 1: 0, 2: C2 x C2, 3: Z})"
      ]
     },
     "execution_count": 48,
     "metadata": {},
     "output_type": "execute_result"
    }
   ],
   "source": [
    "sl2Z.homology(), sl2Z.cohomology()"
   ]
  },
  {
   "cell_type": "markdown",
   "id": "4b035965",
   "metadata": {},
   "source": [
    "## Exercise\n",
    "\n",
    "Read the rest, see if there's any questions."
   ]
  },
  {
   "cell_type": "markdown",
   "id": "8881a86c",
   "metadata": {},
   "source": [
    "### Derived series\n",
    "\n",
    "Let $L^{(0)} = L$ and $L^{(k+1)} = [L^{(k)}, L^{(k)}]$ for $k \\geq 1$.\n",
    "\n",
    "$L$ is said to be solvable if $L^{(k)} = 0$ for some $k\\geq1$.\n",
    "\n",
    "### Lower central series\n",
    "\n",
    "Let $L_0 = L$ and $L_{k+1} = [L, L_k]$\n",
    "\n",
    "$L$ is said to be nilpotent if $L_k = 0$ for some $k\\geq1$."
   ]
  },
  {
   "cell_type": "code",
   "execution_count": null,
   "id": "79fea96c",
   "metadata": {},
   "outputs": [],
   "source": [
    "sl2Z.derived_series(), sl2Z.lower_central_series()"
   ]
  },
  {
   "cell_type": "code",
   "execution_count": 49,
   "id": "b5366d37",
   "metadata": {},
   "outputs": [
    {
     "ename": "TypeError",
     "evalue": "unsupported operand parent(s) for *: 'Full MatrixSpace of 3 by 4 dense matrices over Integer Ring' and 'Full MatrixSpace of 3 by 4 dense matrices over Integer Ring'",
     "output_type": "error",
     "traceback": [
      "\u001b[0;31m---------------------------------------------------------------------------\u001b[0m",
      "\u001b[0;31mTypeError\u001b[0m                                 Traceback (most recent call last)",
      "\u001b[0;32m/var/folders/zs/_zq_wtz11174g_p4097m7lzm0000gn/T/ipykernel_10884/1742920976.py\u001b[0m in \u001b[0;36m<module>\u001b[0;34m\u001b[0m\n\u001b[1;32m      1\u001b[0m \u001b[0mgl2Z\u001b[0m \u001b[0;34m=\u001b[0m \u001b[0mlie_algebras\u001b[0m\u001b[0;34m.\u001b[0m\u001b[0mgl\u001b[0m\u001b[0;34m(\u001b[0m\u001b[0mZZ\u001b[0m\u001b[0;34m,\u001b[0m \u001b[0mInteger\u001b[0m\u001b[0;34m(\u001b[0m\u001b[0;36m2\u001b[0m\u001b[0;34m)\u001b[0m\u001b[0;34m)\u001b[0m\u001b[0;34m\u001b[0m\u001b[0;34m\u001b[0m\u001b[0m\n\u001b[0;32m----> 2\u001b[0;31m \u001b[0mgl2Z\u001b[0m\u001b[0;34m.\u001b[0m\u001b[0mderived_series\u001b[0m\u001b[0;34m(\u001b[0m\u001b[0;34m)\u001b[0m \u001b[0;31m# error\u001b[0m\u001b[0;34m\u001b[0m\u001b[0;34m\u001b[0m\u001b[0m\n\u001b[0m",
      "\u001b[0;32m/private/var/tmp/sage-9.5-current/local/var/lib/sage/venv-python3.9.9/lib/python3.9/site-packages/sage/misc/cachefunc.pyx\u001b[0m in \u001b[0;36msage.misc.cachefunc.CachedMethodCallerNoArgs.__call__ (build/cythonized/sage/misc/cachefunc.c:12957)\u001b[0;34m()\u001b[0m\n\u001b[1;32m   2308\u001b[0m         \u001b[0;32mif\u001b[0m \u001b[0mself\u001b[0m\u001b[0;34m.\u001b[0m\u001b[0mcache\u001b[0m \u001b[0;32mis\u001b[0m \u001b[0;32mNone\u001b[0m\u001b[0;34m:\u001b[0m\u001b[0;34m\u001b[0m\u001b[0;34m\u001b[0m\u001b[0m\n\u001b[1;32m   2309\u001b[0m             \u001b[0mf\u001b[0m \u001b[0;34m=\u001b[0m \u001b[0mself\u001b[0m\u001b[0;34m.\u001b[0m\u001b[0mf\u001b[0m\u001b[0;34m\u001b[0m\u001b[0;34m\u001b[0m\u001b[0m\n\u001b[0;32m-> 2310\u001b[0;31m             \u001b[0mself\u001b[0m\u001b[0;34m.\u001b[0m\u001b[0mcache\u001b[0m \u001b[0;34m=\u001b[0m \u001b[0mf\u001b[0m\u001b[0;34m(\u001b[0m\u001b[0mself\u001b[0m\u001b[0;34m.\u001b[0m\u001b[0m_instance\u001b[0m\u001b[0;34m)\u001b[0m\u001b[0;34m\u001b[0m\u001b[0;34m\u001b[0m\u001b[0m\n\u001b[0m\u001b[1;32m   2311\u001b[0m         \u001b[0;32mreturn\u001b[0m \u001b[0mself\u001b[0m\u001b[0;34m.\u001b[0m\u001b[0mcache\u001b[0m\u001b[0;34m\u001b[0m\u001b[0;34m\u001b[0m\u001b[0m\n\u001b[1;32m   2312\u001b[0m \u001b[0;34m\u001b[0m\u001b[0m\n",
      "\u001b[0;32m/private/var/tmp/sage-9.5-current/local/var/lib/sage/venv-python3.9.9/lib/python3.9/site-packages/sage/categories/finite_dimensional_lie_algebras_with_basis.py\u001b[0m in \u001b[0;36mderived_series\u001b[0;34m(self)\u001b[0m\n\u001b[1;32m    904\u001b[0m             \u001b[0mL\u001b[0m \u001b[0;34m=\u001b[0m \u001b[0;34m[\u001b[0m\u001b[0mself\u001b[0m\u001b[0;34m]\u001b[0m\u001b[0;34m\u001b[0m\u001b[0;34m\u001b[0m\u001b[0m\n\u001b[1;32m    905\u001b[0m             \u001b[0;32mwhile\u001b[0m \u001b[0mL\u001b[0m\u001b[0;34m[\u001b[0m\u001b[0;34m-\u001b[0m\u001b[0;36m1\u001b[0m\u001b[0;34m]\u001b[0m\u001b[0;34m.\u001b[0m\u001b[0mdimension\u001b[0m\u001b[0;34m(\u001b[0m\u001b[0;34m)\u001b[0m \u001b[0;34m>\u001b[0m \u001b[0;36m0\u001b[0m\u001b[0;34m:\u001b[0m\u001b[0;34m\u001b[0m\u001b[0;34m\u001b[0m\u001b[0m\n\u001b[0;32m--> 906\u001b[0;31m                 \u001b[0mp\u001b[0m \u001b[0;34m=\u001b[0m \u001b[0mL\u001b[0m\u001b[0;34m[\u001b[0m\u001b[0;34m-\u001b[0m\u001b[0;36m1\u001b[0m\u001b[0;34m]\u001b[0m\u001b[0;34m.\u001b[0m\u001b[0mderived_subalgebra\u001b[0m\u001b[0;34m(\u001b[0m\u001b[0;34m)\u001b[0m\u001b[0;34m\u001b[0m\u001b[0;34m\u001b[0m\u001b[0m\n\u001b[0m\u001b[1;32m    907\u001b[0m                 \u001b[0;32mif\u001b[0m \u001b[0mL\u001b[0m\u001b[0;34m[\u001b[0m\u001b[0;34m-\u001b[0m\u001b[0;36m1\u001b[0m\u001b[0;34m]\u001b[0m\u001b[0;34m.\u001b[0m\u001b[0mdimension\u001b[0m\u001b[0;34m(\u001b[0m\u001b[0;34m)\u001b[0m \u001b[0;34m==\u001b[0m \u001b[0mp\u001b[0m\u001b[0;34m.\u001b[0m\u001b[0mdimension\u001b[0m\u001b[0;34m(\u001b[0m\u001b[0;34m)\u001b[0m\u001b[0;34m:\u001b[0m\u001b[0;34m\u001b[0m\u001b[0;34m\u001b[0m\u001b[0m\n\u001b[1;32m    908\u001b[0m                     \u001b[0;32mbreak\u001b[0m\u001b[0;34m\u001b[0m\u001b[0;34m\u001b[0m\u001b[0m\n",
      "\u001b[0;32m/private/var/tmp/sage-9.5-current/local/var/lib/sage/venv-python3.9.9/lib/python3.9/site-packages/sage/misc/cachefunc.pyx\u001b[0m in \u001b[0;36msage.misc.cachefunc.CachedMethodCallerNoArgs.__call__ (build/cythonized/sage/misc/cachefunc.c:12957)\u001b[0;34m()\u001b[0m\n\u001b[1;32m   2308\u001b[0m         \u001b[0;32mif\u001b[0m \u001b[0mself\u001b[0m\u001b[0;34m.\u001b[0m\u001b[0mcache\u001b[0m \u001b[0;32mis\u001b[0m \u001b[0;32mNone\u001b[0m\u001b[0;34m:\u001b[0m\u001b[0;34m\u001b[0m\u001b[0;34m\u001b[0m\u001b[0m\n\u001b[1;32m   2309\u001b[0m             \u001b[0mf\u001b[0m \u001b[0;34m=\u001b[0m \u001b[0mself\u001b[0m\u001b[0;34m.\u001b[0m\u001b[0mf\u001b[0m\u001b[0;34m\u001b[0m\u001b[0;34m\u001b[0m\u001b[0m\n\u001b[0;32m-> 2310\u001b[0;31m             \u001b[0mself\u001b[0m\u001b[0;34m.\u001b[0m\u001b[0mcache\u001b[0m \u001b[0;34m=\u001b[0m \u001b[0mf\u001b[0m\u001b[0;34m(\u001b[0m\u001b[0mself\u001b[0m\u001b[0;34m.\u001b[0m\u001b[0m_instance\u001b[0m\u001b[0;34m)\u001b[0m\u001b[0;34m\u001b[0m\u001b[0;34m\u001b[0m\u001b[0m\n\u001b[0m\u001b[1;32m   2311\u001b[0m         \u001b[0;32mreturn\u001b[0m \u001b[0mself\u001b[0m\u001b[0;34m.\u001b[0m\u001b[0mcache\u001b[0m\u001b[0;34m\u001b[0m\u001b[0;34m\u001b[0m\u001b[0m\n\u001b[1;32m   2312\u001b[0m \u001b[0;34m\u001b[0m\u001b[0m\n",
      "\u001b[0;32m/private/var/tmp/sage-9.5-current/local/var/lib/sage/venv-python3.9.9/lib/python3.9/site-packages/sage/categories/finite_dimensional_lie_algebras_with_basis.py\u001b[0m in \u001b[0;36mderived_subalgebra\u001b[0;34m(self)\u001b[0m\n\u001b[1;32m    848\u001b[0m \u001b[0;34m\u001b[0m\u001b[0m\n\u001b[1;32m    849\u001b[0m             \"\"\"\n\u001b[0;32m--> 850\u001b[0;31m             \u001b[0;32mif\u001b[0m \u001b[0mself\u001b[0m\u001b[0;34m.\u001b[0m\u001b[0mis_semisimple\u001b[0m\u001b[0;34m(\u001b[0m\u001b[0;34m)\u001b[0m\u001b[0;34m:\u001b[0m\u001b[0;34m\u001b[0m\u001b[0;34m\u001b[0m\u001b[0m\n\u001b[0m\u001b[1;32m    851\u001b[0m                 \u001b[0;32mreturn\u001b[0m \u001b[0mself\u001b[0m\u001b[0;34m\u001b[0m\u001b[0;34m\u001b[0m\u001b[0m\n\u001b[1;32m    852\u001b[0m             \u001b[0;32melse\u001b[0m\u001b[0;34m:\u001b[0m\u001b[0;34m\u001b[0m\u001b[0;34m\u001b[0m\u001b[0m\n",
      "\u001b[0;32m/private/var/tmp/sage-9.5-current/local/var/lib/sage/venv-python3.9.9/lib/python3.9/site-packages/sage/categories/finite_dimensional_lie_algebras_with_basis.py\u001b[0m in \u001b[0;36mis_semisimple\u001b[0;34m(self)\u001b[0m\n\u001b[1;32m   1048\u001b[0m                 \u001b[0;32mFalse\u001b[0m\u001b[0;34m\u001b[0m\u001b[0;34m\u001b[0m\u001b[0m\n\u001b[1;32m   1049\u001b[0m             \"\"\"\n\u001b[0;32m-> 1050\u001b[0;31m             \u001b[0;32mreturn\u001b[0m \u001b[0;32mnot\u001b[0m \u001b[0mself\u001b[0m\u001b[0;34m.\u001b[0m\u001b[0mkilling_form_matrix\u001b[0m\u001b[0;34m(\u001b[0m\u001b[0;34m)\u001b[0m\u001b[0;34m.\u001b[0m\u001b[0mis_singular\u001b[0m\u001b[0;34m(\u001b[0m\u001b[0;34m)\u001b[0m\u001b[0;34m\u001b[0m\u001b[0;34m\u001b[0m\u001b[0m\n\u001b[0m\u001b[1;32m   1051\u001b[0m \u001b[0;34m\u001b[0m\u001b[0m\n\u001b[1;32m   1052\u001b[0m         \u001b[0;34m@\u001b[0m\u001b[0mcached_method\u001b[0m\u001b[0;34m(\u001b[0m\u001b[0mkey\u001b[0m\u001b[0;34m=\u001b[0m\u001b[0;32mlambda\u001b[0m \u001b[0mself\u001b[0m\u001b[0;34m,\u001b[0m\u001b[0mM\u001b[0m\u001b[0;34m,\u001b[0m\u001b[0md\u001b[0m\u001b[0;34m,\u001b[0m\u001b[0ms\u001b[0m\u001b[0;34m,\u001b[0m\u001b[0mn\u001b[0m\u001b[0;34m:\u001b[0m \u001b[0;34m(\u001b[0m\u001b[0mM\u001b[0m\u001b[0;34m,\u001b[0m\u001b[0md\u001b[0m\u001b[0;34m,\u001b[0m\u001b[0ms\u001b[0m\u001b[0;34m)\u001b[0m\u001b[0;34m)\u001b[0m\u001b[0;34m\u001b[0m\u001b[0;34m\u001b[0m\u001b[0m\n",
      "\u001b[0;32m/private/var/tmp/sage-9.5-current/local/var/lib/sage/venv-python3.9.9/lib/python3.9/site-packages/sage/misc/cachefunc.pyx\u001b[0m in \u001b[0;36msage.misc.cachefunc.CachedMethodCallerNoArgs.__call__ (build/cythonized/sage/misc/cachefunc.c:12957)\u001b[0;34m()\u001b[0m\n\u001b[1;32m   2308\u001b[0m         \u001b[0;32mif\u001b[0m \u001b[0mself\u001b[0m\u001b[0;34m.\u001b[0m\u001b[0mcache\u001b[0m \u001b[0;32mis\u001b[0m \u001b[0;32mNone\u001b[0m\u001b[0;34m:\u001b[0m\u001b[0;34m\u001b[0m\u001b[0;34m\u001b[0m\u001b[0m\n\u001b[1;32m   2309\u001b[0m             \u001b[0mf\u001b[0m \u001b[0;34m=\u001b[0m \u001b[0mself\u001b[0m\u001b[0;34m.\u001b[0m\u001b[0mf\u001b[0m\u001b[0;34m\u001b[0m\u001b[0;34m\u001b[0m\u001b[0m\n\u001b[0;32m-> 2310\u001b[0;31m             \u001b[0mself\u001b[0m\u001b[0;34m.\u001b[0m\u001b[0mcache\u001b[0m \u001b[0;34m=\u001b[0m \u001b[0mf\u001b[0m\u001b[0;34m(\u001b[0m\u001b[0mself\u001b[0m\u001b[0;34m.\u001b[0m\u001b[0m_instance\u001b[0m\u001b[0;34m)\u001b[0m\u001b[0;34m\u001b[0m\u001b[0;34m\u001b[0m\u001b[0m\n\u001b[0m\u001b[1;32m   2311\u001b[0m         \u001b[0;32mreturn\u001b[0m \u001b[0mself\u001b[0m\u001b[0;34m.\u001b[0m\u001b[0mcache\u001b[0m\u001b[0;34m\u001b[0m\u001b[0;34m\u001b[0m\u001b[0m\n\u001b[1;32m   2312\u001b[0m \u001b[0;34m\u001b[0m\u001b[0m\n",
      "\u001b[0;32m/private/var/tmp/sage-9.5-current/local/var/lib/sage/venv-python3.9.9/lib/python3.9/site-packages/sage/categories/finite_dimensional_lie_algebras_with_basis.py\u001b[0m in \u001b[0;36mkilling_form_matrix\u001b[0;34m(self)\u001b[0m\n\u001b[1;32m    324\u001b[0m             \u001b[0mB\u001b[0m \u001b[0;34m=\u001b[0m \u001b[0mself\u001b[0m\u001b[0;34m.\u001b[0m\u001b[0mbasis\u001b[0m\u001b[0;34m(\u001b[0m\u001b[0;34m)\u001b[0m\u001b[0;34m\u001b[0m\u001b[0;34m\u001b[0m\u001b[0m\n\u001b[1;32m    325\u001b[0m             m = matrix(self.base_ring(),\n\u001b[0;32m--> 326\u001b[0;31m                        [[self.killing_form(x, y) for x in B] for y in B])\n\u001b[0m\u001b[1;32m    327\u001b[0m             \u001b[0mm\u001b[0m\u001b[0;34m.\u001b[0m\u001b[0mset_immutable\u001b[0m\u001b[0;34m(\u001b[0m\u001b[0;34m)\u001b[0m\u001b[0;34m\u001b[0m\u001b[0;34m\u001b[0m\u001b[0m\n\u001b[1;32m    328\u001b[0m             \u001b[0;32mreturn\u001b[0m \u001b[0mm\u001b[0m\u001b[0;34m\u001b[0m\u001b[0;34m\u001b[0m\u001b[0m\n",
      "\u001b[0;32m/private/var/tmp/sage-9.5-current/local/var/lib/sage/venv-python3.9.9/lib/python3.9/site-packages/sage/categories/finite_dimensional_lie_algebras_with_basis.py\u001b[0m in \u001b[0;36m<listcomp>\u001b[0;34m(.0)\u001b[0m\n\u001b[1;32m    324\u001b[0m             \u001b[0mB\u001b[0m \u001b[0;34m=\u001b[0m \u001b[0mself\u001b[0m\u001b[0;34m.\u001b[0m\u001b[0mbasis\u001b[0m\u001b[0;34m(\u001b[0m\u001b[0;34m)\u001b[0m\u001b[0;34m\u001b[0m\u001b[0;34m\u001b[0m\u001b[0m\n\u001b[1;32m    325\u001b[0m             m = matrix(self.base_ring(),\n\u001b[0;32m--> 326\u001b[0;31m                        [[self.killing_form(x, y) for x in B] for y in B])\n\u001b[0m\u001b[1;32m    327\u001b[0m             \u001b[0mm\u001b[0m\u001b[0;34m.\u001b[0m\u001b[0mset_immutable\u001b[0m\u001b[0;34m(\u001b[0m\u001b[0;34m)\u001b[0m\u001b[0;34m\u001b[0m\u001b[0;34m\u001b[0m\u001b[0m\n\u001b[1;32m    328\u001b[0m             \u001b[0;32mreturn\u001b[0m \u001b[0mm\u001b[0m\u001b[0;34m\u001b[0m\u001b[0;34m\u001b[0m\u001b[0m\n",
      "\u001b[0;32m/private/var/tmp/sage-9.5-current/local/var/lib/sage/venv-python3.9.9/lib/python3.9/site-packages/sage/categories/finite_dimensional_lie_algebras_with_basis.py\u001b[0m in \u001b[0;36m<listcomp>\u001b[0;34m(.0)\u001b[0m\n\u001b[1;32m    324\u001b[0m             \u001b[0mB\u001b[0m \u001b[0;34m=\u001b[0m \u001b[0mself\u001b[0m\u001b[0;34m.\u001b[0m\u001b[0mbasis\u001b[0m\u001b[0;34m(\u001b[0m\u001b[0;34m)\u001b[0m\u001b[0;34m\u001b[0m\u001b[0;34m\u001b[0m\u001b[0m\n\u001b[1;32m    325\u001b[0m             m = matrix(self.base_ring(),\n\u001b[0;32m--> 326\u001b[0;31m                        [[self.killing_form(x, y) for x in B] for y in B])\n\u001b[0m\u001b[1;32m    327\u001b[0m             \u001b[0mm\u001b[0m\u001b[0;34m.\u001b[0m\u001b[0mset_immutable\u001b[0m\u001b[0;34m(\u001b[0m\u001b[0;34m)\u001b[0m\u001b[0;34m\u001b[0m\u001b[0;34m\u001b[0m\u001b[0m\n\u001b[1;32m    328\u001b[0m             \u001b[0;32mreturn\u001b[0m \u001b[0mm\u001b[0m\u001b[0;34m\u001b[0m\u001b[0;34m\u001b[0m\u001b[0m\n",
      "\u001b[0;32m/private/var/tmp/sage-9.5-current/local/var/lib/sage/venv-python3.9.9/lib/python3.9/site-packages/sage/categories/finite_dimensional_lie_algebras_with_basis.py\u001b[0m in \u001b[0;36mkilling_form\u001b[0;34m(self, x, y)\u001b[0m\n\u001b[1;32m    297\u001b[0m                 \u001b[0;36m0\u001b[0m\u001b[0;34m\u001b[0m\u001b[0;34m\u001b[0m\u001b[0m\n\u001b[1;32m    298\u001b[0m             \"\"\"\n\u001b[0;32m--> 299\u001b[0;31m             \u001b[0;32mreturn\u001b[0m \u001b[0mself\u001b[0m\u001b[0;34m.\u001b[0m\u001b[0mkilling_matrix\u001b[0m\u001b[0;34m(\u001b[0m\u001b[0mx\u001b[0m\u001b[0;34m,\u001b[0m \u001b[0my\u001b[0m\u001b[0;34m)\u001b[0m\u001b[0;34m.\u001b[0m\u001b[0mtrace\u001b[0m\u001b[0;34m(\u001b[0m\u001b[0;34m)\u001b[0m\u001b[0;34m\u001b[0m\u001b[0;34m\u001b[0m\u001b[0m\n\u001b[0m\u001b[1;32m    300\u001b[0m \u001b[0;34m\u001b[0m\u001b[0m\n\u001b[1;32m    301\u001b[0m         \u001b[0;34m@\u001b[0m\u001b[0mcached_method\u001b[0m\u001b[0;34m\u001b[0m\u001b[0;34m\u001b[0m\u001b[0m\n",
      "\u001b[0;32m/private/var/tmp/sage-9.5-current/local/var/lib/sage/venv-python3.9.9/lib/python3.9/site-packages/sage/categories/finite_dimensional_lie_algebras_with_basis.py\u001b[0m in \u001b[0;36mkilling_matrix\u001b[0;34m(self, x, y)\u001b[0m\n\u001b[1;32m    275\u001b[0m                 \u001b[0;34m[\u001b[0m\u001b[0;34m-\u001b[0m\u001b[0;36m1\u001b[0m  \u001b[0;36m0\u001b[0m\u001b[0;34m]\u001b[0m\u001b[0;34m\u001b[0m\u001b[0;34m\u001b[0m\u001b[0m\n\u001b[1;32m    276\u001b[0m             \"\"\"\n\u001b[0;32m--> 277\u001b[0;31m             \u001b[0;32mreturn\u001b[0m \u001b[0mx\u001b[0m\u001b[0;34m.\u001b[0m\u001b[0madjoint_matrix\u001b[0m\u001b[0;34m(\u001b[0m\u001b[0;34m)\u001b[0m \u001b[0;34m*\u001b[0m \u001b[0my\u001b[0m\u001b[0;34m.\u001b[0m\u001b[0madjoint_matrix\u001b[0m\u001b[0;34m(\u001b[0m\u001b[0;34m)\u001b[0m\u001b[0;34m\u001b[0m\u001b[0;34m\u001b[0m\u001b[0m\n\u001b[0m\u001b[1;32m    278\u001b[0m \u001b[0;34m\u001b[0m\u001b[0m\n\u001b[1;32m    279\u001b[0m         \u001b[0;32mdef\u001b[0m \u001b[0mkilling_form\u001b[0m\u001b[0;34m(\u001b[0m\u001b[0mself\u001b[0m\u001b[0;34m,\u001b[0m \u001b[0mx\u001b[0m\u001b[0;34m,\u001b[0m \u001b[0my\u001b[0m\u001b[0;34m)\u001b[0m\u001b[0;34m:\u001b[0m\u001b[0;34m\u001b[0m\u001b[0;34m\u001b[0m\u001b[0m\n",
      "\u001b[0;32m/private/var/tmp/sage-9.5-current/local/var/lib/sage/venv-python3.9.9/lib/python3.9/site-packages/sage/structure/element.pyx\u001b[0m in \u001b[0;36msage.structure.element.Matrix.__mul__ (build/cythonized/sage/structure/element.c:23965)\u001b[0;34m()\u001b[0m\n\u001b[1;32m   3821\u001b[0m             \u001b[0;32melse\u001b[0m\u001b[0;34m:\u001b[0m\u001b[0;34m\u001b[0m\u001b[0;34m\u001b[0m\u001b[0m\n\u001b[1;32m   3822\u001b[0m                 \u001b[0mparent\u001b[0m \u001b[0;34m=\u001b[0m \u001b[0;34m(\u001b[0m\u001b[0;34m<\u001b[0m\u001b[0mMatrix\u001b[0m\u001b[0;34m>\u001b[0m\u001b[0mleft\u001b[0m\u001b[0;34m)\u001b[0m\u001b[0;34m.\u001b[0m\u001b[0m_parent\u001b[0m\u001b[0;34m\u001b[0m\u001b[0;34m\u001b[0m\u001b[0m\n\u001b[0;32m-> 3823\u001b[0;31m                 \u001b[0;32mraise\u001b[0m \u001b[0mTypeError\u001b[0m\u001b[0;34m(\u001b[0m\u001b[0;34m\"unsupported operand parent(s) for *: '{}' and '{}'\"\u001b[0m\u001b[0;34m.\u001b[0m\u001b[0mformat\u001b[0m\u001b[0;34m(\u001b[0m\u001b[0mparent\u001b[0m\u001b[0;34m,\u001b[0m \u001b[0mparent\u001b[0m\u001b[0;34m)\u001b[0m\u001b[0;34m)\u001b[0m\u001b[0;34m\u001b[0m\u001b[0;34m\u001b[0m\u001b[0m\n\u001b[0m\u001b[1;32m   3824\u001b[0m \u001b[0;34m\u001b[0m\u001b[0m\n\u001b[1;32m   3825\u001b[0m         \u001b[0;32mif\u001b[0m \u001b[0mBOTH_ARE_ELEMENT\u001b[0m\u001b[0;34m(\u001b[0m\u001b[0mcl\u001b[0m\u001b[0;34m)\u001b[0m\u001b[0;34m:\u001b[0m\u001b[0;34m\u001b[0m\u001b[0;34m\u001b[0m\u001b[0m\n",
      "\u001b[0;31mTypeError\u001b[0m: unsupported operand parent(s) for *: 'Full MatrixSpace of 3 by 4 dense matrices over Integer Ring' and 'Full MatrixSpace of 3 by 4 dense matrices over Integer Ring'"
     ]
    }
   ],
   "source": [
    "gl2Z = lie_algebras.gl(ZZ, 2)\n",
    "gl2Z.derived_series() # error"
   ]
  },
  {
   "cell_type": "code",
   "execution_count": null,
   "id": "81d14074",
   "metadata": {},
   "outputs": [],
   "source": [
    "gl2Z.structure_coefficients()"
   ]
  },
  {
   "cell_type": "code",
   "execution_count": null,
   "id": "737c5216",
   "metadata": {},
   "outputs": [],
   "source": [
    "sl2Z.structure_coefficients()"
   ]
  },
  {
   "cell_type": "markdown",
   "id": "cc18c205",
   "metadata": {},
   "source": [
    "### Universal enveloping algebra\n",
    "\n",
    "We write $U(L)$ for the universal algebra of $L$ (often we think of $L \\hookrightarrow U(L)$), i.e., the unique associative algebra such that any Lie algebra homomorphism $\\phi \\colon L \\to A$ factors through $U(L)$ (i.e., gives us a map $\\hat\\phi \\colon U(L) \\to A$).\n",
    "\n",
    "If $e_1,\\dotsc,e_d$ is a basis of $L$, we know there is a basis (the PBW basis) of $U(L)$ with elements $e_1^{k_1} \\cdots e_d^{k_d}$, and this is basically always the basis we use to work with."
   ]
  },
  {
   "cell_type": "code",
   "execution_count": null,
   "id": "a0f84cdf",
   "metadata": {},
   "outputs": [],
   "source": [
    "U_gl2Z = gl2Z.pbw_basis()\n",
    "U_gl2Z, U_gl2Z.gens(), U_gl2Z.basis()"
   ]
  },
  {
   "cell_type": "code",
   "execution_count": null,
   "id": "75f91d0f",
   "metadata": {},
   "outputs": [],
   "source": [
    "U_sl2Z = sl2Z.pbw_basis()\n",
    "U_sl2Z, U_sl2Z.gens(), U_sl2Z.lie_algebra() == sl2Z"
   ]
  },
  {
   "cell_type": "code",
   "execution_count": null,
   "id": "bfcf7070",
   "metadata": {},
   "outputs": [],
   "source": [
    "Ue, Uh, Uf = U_sl2Z.gens()\n",
    "Ue*Uh*Ue"
   ]
  },
  {
   "cell_type": "markdown",
   "id": "419f14eb",
   "metadata": {},
   "source": [
    "## Excercise 2\n",
    "\n",
    "Compute the commutator of $\\begin{pmatrix} 1 & 2 \\\\ 3 & 4 \\end{pmatrix}$ and $\\begin{pmatrix} 1 & 1 \\\\ 1 & 0 \\end{pmatrix}$ by considering them as matrices in $\\mathfrak{gl}_2(\\mathbb Z)$.\n",
    "\n",
    "Implement your own commutator function."
   ]
  },
  {
   "cell_type": "markdown",
   "id": "c92a5dd0",
   "metadata": {},
   "source": [
    "## Exercise 3\n",
    "\n",
    "Consider the Lie algebra $L = \\mathfrak{sl}_2(\\mathbb R)$ with (ordered) basis $e,h,f$ and universal enveloping algebra $U(L)$. What is $eh^2e$ in the PBW basis? How would I find this by hand?\n",
    "\n",
    "What about $e^3f^2h$?"
   ]
  },
  {
   "cell_type": "code",
   "execution_count": null,
   "id": "0ce339fe",
   "metadata": {},
   "outputs": [],
   "source": []
  },
  {
   "cell_type": "markdown",
   "id": "5e2714e8",
   "metadata": {},
   "source": [
    "## Exercise 4\n",
    "\n",
    "Consider the Lie algebra $L$ of $4 \\times 4$ upper triangular matrices over $\\mathbb Z$. \n",
    "- Find generators of $L$ \n",
    "- Find a basis of $L$. \n",
    "- Are the above the same?\n",
    "- Is this algebra abelian ($[x,y]=0$ for all $x,y \\in L$)? If not, find a non-zero commutator.\n",
    "- Can you see how the generators you found above can generate the whole Lie algebra $L$? (E.g. by generating the basis.)"
   ]
  },
  {
   "cell_type": "code",
   "execution_count": null,
   "id": "001fa261",
   "metadata": {},
   "outputs": [],
   "source": []
  },
  {
   "cell_type": "code",
   "execution_count": null,
   "id": "c1a95bfc",
   "metadata": {},
   "outputs": [],
   "source": []
  },
  {
   "cell_type": "markdown",
   "id": "332e9878",
   "metadata": {},
   "source": [
    "## Exercise 5\n",
    "\n",
    "Consider the Lie algebra $L$ of $4 \\times 4$ upper triangular matrices over $\\mathbb Z$. \n",
    "- Find generators of $L$ \n",
    "- Find a basis of $L$. \n",
    "- Is this Lie algebra solvable?\n",
    "- Is this Lie algebra nilpotent? \n",
    "- Can you see whether the Lie algebra from the previous exercise is solvalbe and/or nilpotent?"
   ]
  },
  {
   "cell_type": "code",
   "execution_count": null,
   "id": "91ccdc44",
   "metadata": {},
   "outputs": [],
   "source": []
  },
  {
   "cell_type": "markdown",
   "id": "d9b51d7d",
   "metadata": {},
   "source": [
    "Probably should use leftover time to look at homework from last time."
   ]
  },
  {
   "cell_type": "code",
   "execution_count": null,
   "id": "24342d42",
   "metadata": {},
   "outputs": [],
   "source": []
  },
  {
   "cell_type": "code",
   "execution_count": null,
   "id": "c454a4d5",
   "metadata": {},
   "outputs": [],
   "source": []
  },
  {
   "cell_type": "code",
   "execution_count": null,
   "id": "e4bbbc66",
   "metadata": {},
   "outputs": [],
   "source": []
  },
  {
   "cell_type": "code",
   "execution_count": null,
   "id": "24630216",
   "metadata": {},
   "outputs": [],
   "source": []
  },
  {
   "cell_type": "code",
   "execution_count": null,
   "id": "29627946",
   "metadata": {},
   "outputs": [],
   "source": []
  }
 ],
 "metadata": {
  "kernelspec": {
   "display_name": "SageMath 9.5",
   "language": "sage",
   "name": "sagemath-9.5"
  },
  "language_info": {
   "codemirror_mode": {
    "name": "ipython",
    "version": 3
   },
   "file_extension": ".py",
   "mimetype": "text/x-python",
   "name": "python",
   "nbconvert_exporter": "python",
   "pygments_lexer": "ipython3",
   "version": "3.9.9"
  }
 },
 "nbformat": 4,
 "nbformat_minor": 5
}
