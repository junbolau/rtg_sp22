{
 "cells": [
  {
   "cell_type": "markdown",
   "id": "739fbe5d",
   "metadata": {},
   "source": [
    "Recall\n",
    "- prime numbers\n",
    "- every number is a product of primes\n",
    "- Euler's totient function $\\phi(N) = \\# \\{k: gcd(k,N) = 1 \\} = N\\prod_{p|N} (1-1/p)$\n",
    "- Fermat's little theorem/ Euler's theorem: $a^{\\phi(N)} \\equiv 1 \\pmod{N}$"
   ]
  },
  {
   "cell_type": "code",
   "execution_count": null,
   "id": "f0f3c500",
   "metadata": {},
   "outputs": [],
   "source": [
    "is_prime(101),is_prime(105)"
   ]
  },
  {
   "cell_type": "code",
   "execution_count": null,
   "id": "6dbd753b",
   "metadata": {},
   "outputs": [],
   "source": [
    "prime_range(4,10)"
   ]
  },
  {
   "cell_type": "raw",
   "id": "dc759981",
   "metadata": {},
   "source": [
    "Fermat's test for primality:\n",
    "\n",
    "- Idea: uses Fermat's little theorem to test for primality\n",
    "- Input: odd N >= 3\n",
    "- Output: \"Composite\" or \"Possibly prime\"\n",
    "\n",
    "Algorithm:\n",
    "1. choose a \\in { 2, ... , N -2}, gcd(a,N) = 1\n",
    "2. compute b = a^{N-1} mod N\n",
    "3. If b \\not = 1, return \"composite\" else return \"possibly prime\""
   ]
  },
  {
   "cell_type": "code",
   "execution_count": null,
   "id": "83a253ef",
   "metadata": {},
   "outputs": [],
   "source": [
    "#warm up exercise\n",
    "\n",
    "def Fermat_test(N):  \n",
    "    #check if N is odd/even\n",
    "    R = Integers(N)\n",
    "    if N % 2 == 0:\n",
    "        return \"composite\"\n",
    "    else:\n",
    "        a = R(randint(2,N-2))\n",
    "        b = a^(N-1)\n",
    "        if not b == 1:\n",
    "            return \"composite\"\n",
    "        return \"possibly prime\""
   ]
  },
  {
   "cell_type": "code",
   "execution_count": null,
   "id": "a2364c4e",
   "metadata": {},
   "outputs": [],
   "source": [
    "N = 32\n",
    "Fermat_test(N)"
   ]
  },
  {
   "cell_type": "code",
   "execution_count": null,
   "id": "f1005650",
   "metadata": {},
   "outputs": [],
   "source": [
    "#Complementary functions\n",
    "gcd,xgcd,randint\n",
    "\n",
    "#implement gcd/xgcd\n",
    "\n",
    "#Remark: there is a quick way of taking exponents of elements - repeated squaring"
   ]
  },
  {
   "cell_type": "raw",
   "id": "5ef6f2eb",
   "metadata": {},
   "source": [
    "Problem:\n",
    "given a,N\n",
    "want to compute a^x mod N for any integer x\n",
    "\n",
    "Naive: multiply a x times ( a * a * a ... * a) (think of 2^300 mod 2031)\n",
    "\n",
    "tricks: if x > phi(N), can use Euler's thm\n",
    "\n",
    "Repeated squaring:\n",
    "\n",
    "-write x in binary\n",
    "-do squaring"
   ]
  },
  {
   "cell_type": "code",
   "execution_count": null,
   "id": "f54f9615",
   "metadata": {},
   "outputs": [],
   "source": [
    "2^300 % 2031"
   ]
  },
  {
   "cell_type": "code",
   "execution_count": null,
   "id": "21210cec",
   "metadata": {},
   "outputs": [],
   "source": [
    "300 == 256 + 32 + 8 + 4"
   ]
  },
  {
   "cell_type": "raw",
   "id": "0d05ace2",
   "metadata": {},
   "source": [
    "2^300 mod 2031 (~300 operations) == 2^256 * 2^32 * 2^8 * 2^4 mod 2031 (~11 operations)"
   ]
  },
  {
   "cell_type": "raw",
   "id": "cba1987e",
   "metadata": {},
   "source": [
    "2^1 mod N-> 2^2  mod N-> 2^4 mod N -> 2^8 mod N-> 2^16 mod N"
   ]
  },
  {
   "cell_type": "code",
   "execution_count": null,
   "id": "1aa484d6",
   "metadata": {},
   "outputs": [],
   "source": [
    "#Flaw to Fermat's test - Charmichael numbers\n",
    "#numbers N such that a^{N-1} = 1 mod N for all gcd(a,N) = 1\n",
    "\n",
    "N = 561\n",
    "#N = 41041"
   ]
  },
  {
   "cell_type": "code",
   "execution_count": null,
   "id": "05fe8df6",
   "metadata": {},
   "outputs": [],
   "source": [
    "factor(N)"
   ]
  },
  {
   "cell_type": "code",
   "execution_count": null,
   "id": "f32734bb",
   "metadata": {},
   "outputs": [],
   "source": [
    "lst = [a for a in range(N) if gcd(a,N) == 1] # a st gcd(a,N) = 1\n",
    "all([(i^(N-1) % N) == 1 for i in lst])"
   ]
  },
  {
   "cell_type": "code",
   "execution_count": null,
   "id": "dcb8a8af",
   "metadata": {},
   "outputs": [],
   "source": [
    "for i in range(2,N-1):\n",
    "    if not i^(N-1) % N == 1:\n",
    "        print(i)"
   ]
  },
  {
   "cell_type": "code",
   "execution_count": null,
   "id": "6f756258",
   "metadata": {},
   "outputs": [],
   "source": [
    "all([True, False]), all([False,False])"
   ]
  },
  {
   "cell_type": "markdown",
   "id": "ccfa03c2",
   "metadata": {},
   "source": [
    "- Legendre symbol: $(\\frac{a}{N}) = 1,-1$, if a is a square/nonsquare mod N and 0 if $gcd(a,N) > 1$\n",
    "- Jacobi symbol: For odd $N$, $(\\frac{a}{N}) = (\\frac{a}{p_1})^{e_1}(\\frac{a}{p_2})^{e_2} \\ldots (\\frac{a}{p_k})^{e_k}$"
   ]
  },
  {
   "cell_type": "raw",
   "id": "597a2514",
   "metadata": {},
   "source": [
    "Solovay-Strassen test\n",
    "\n",
    "- Idea: use the Jacobi symbols to determine a number is composite or possibly prime\n",
    "- Input: - N, primality\n",
    "         - k, accuracy\n",
    "- Output: \"composite\" or \"possibly prime\"\n",
    "\n",
    "Algorithm:\n",
    "\n",
    "repeat k times:\n",
    "     choose a in {2,...,n-1}\n",
    "     x = (a/N)\n",
    "     if x = 0 or x \\not = a^{(N-1)/2} mod N: # (a/p) = a^((p-1)/2)\n",
    "         return \"composite\"\n",
    "return \"possibly prime\""
   ]
  },
  {
   "cell_type": "code",
   "execution_count": null,
   "id": "80617c23",
   "metadata": {},
   "outputs": [],
   "source": [
    "def solovay_strassen_test(N,k):\n",
    "    R = Integers(N)\n",
    "    i = 0\n",
    "    while i < k:\n",
    "        a = randint(2,N-1)\n",
    "        x = jacobi_symbol(a,N) #or kronecker symbol\n",
    "        if x == 0 or not R(x) == R(a)^((N-1)/2):\n",
    "            return \"composite\"\n",
    "        i = i + 1\n",
    "    return \"possibly prime\""
   ]
  },
  {
   "cell_type": "code",
   "execution_count": null,
   "id": "8f3feb6c",
   "metadata": {},
   "outputs": [],
   "source": [
    "solovay_strassen_test(201,20)"
   ]
  },
  {
   "cell_type": "raw",
   "id": "3df3ad6e",
   "metadata": {},
   "source": [
    "Pollard's rho test\n",
    "\n",
    "- Idea:\n",
    "= start with a function like t^2 + 1\n",
    "= set tortoise and hare (x,y) that travels at different speeds\n",
    "= calculate gcd(|x-y|,N)\n",
    "= stop when d < N is found, otherwise, reset initial values of 0 < x,y < N\n",
    "\n",
    "- Input: - N = primality \n",
    "         - k = accuracy\n",
    "- Output: d = factor of N, or \"failure\""
   ]
  },
  {
   "cell_type": "code",
   "execution_count": null,
   "id": "e65a4b3f",
   "metadata": {},
   "outputs": [],
   "source": [
    "def pollard_rho_test(N): #wikipedia\n",
    "    R = Integers(ZZ(N))\n",
    "    x = R(randint(1,N-1))\n",
    "    y = R(randint(1,N-1))\n",
    "    d = 1\n",
    "    while d == 1:\n",
    "        x = x^2 + 1\n",
    "        y = y^4 + 2*y^2 + 2\n",
    "        d = gcd(x-y,N)\n",
    "    if d == N:\n",
    "        return \"failure\"\n",
    "    else:\n",
    "        return d "
   ]
  },
  {
   "cell_type": "code",
   "execution_count": null,
   "id": "ab1aab13",
   "metadata": {},
   "outputs": [],
   "source": [
    "pollard_rho_test(23)"
   ]
  },
  {
   "cell_type": "markdown",
   "id": "4322bd59",
   "metadata": {},
   "source": [
    "Pollard's p-1\n",
    "\n",
    "Suppose we have $N = pq$ and and $p-1$ has many small prime factors. Then $p-1$ will divide $m!$ for some small $m$.\n",
    "- choose a (e.g. 2)\n",
    "- compute $a^{m!} -1 \\pmod{N}$ for $m = 2,3,4,...$ and $gcd(a^{m!}-1,N)$"
   ]
  },
  {
   "cell_type": "raw",
   "id": "cabc4aab",
   "metadata": {},
   "source": [
    "Pollard p-1\n",
    "\n",
    "- Input: - N = to be factored (with p-1 divisible by small primes)\n",
    "         - B = bound B\n",
    "- Output: a nontrivial factor of N\n",
    "\n",
    "Algorithm:\n",
    "- a = 2 (for example)\n",
    "- loop through m = 2,3,4,...,B # smooth bound\n",
    "- a = a^m! and compute gcd(a^m! - 1, N)  \n",
    "- if 1< gcd  < N, return factor, else increase m"
   ]
  },
  {
   "cell_type": "code",
   "execution_count": null,
   "id": "f1c2ed24",
   "metadata": {},
   "outputs": [],
   "source": [
    "#Exercise: implement this\n",
    "\n",
    "def pollard_test(N,B):\n",
    "    return"
   ]
  },
  {
   "cell_type": "code",
   "execution_count": null,
   "id": "16b58363",
   "metadata": {},
   "outputs": [],
   "source": [
    "#Exercise: run the Fermat/Solovay-Strassen/Pollard's rho/Pollard's p-1 \n",
    "#          to determine if N is composite (and find factors if it is)\n",
    "\n",
    "#N = 217449329927\n",
    "#N = 896078432010747841788871\n",
    "#N = 36845116834069180140583105673"
   ]
  },
  {
   "cell_type": "code",
   "execution_count": null,
   "id": "69e93262",
   "metadata": {},
   "outputs": [],
   "source": [
    "#Exercise: which of the two is probably prime and which is composite?\n",
    "#N = 10^200 + 349\n",
    "#N = 10^200 + 357\n",
    "\n",
    "#Try to only use is_prime() or factor() to check for correctness\n",
    "#factor() might not work\n",
    "#Challenge: try to find factors if composite"
   ]
  }
 ],
 "metadata": {
  "kernelspec": {
   "display_name": "SageMath 9.5",
   "language": "sage",
   "name": "sagemath"
  },
  "language_info": {
   "codemirror_mode": {
    "name": "ipython",
    "version": 3
   },
   "file_extension": ".py",
   "mimetype": "text/x-python",
   "name": "python",
   "nbconvert_exporter": "python",
   "pygments_lexer": "ipython3",
   "version": "3.10.2"
  }
 },
 "nbformat": 4,
 "nbformat_minor": 5
}
