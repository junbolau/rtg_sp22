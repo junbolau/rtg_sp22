{
 "cells": [
  {
   "cell_type": "markdown",
   "id": "16950cd8",
   "metadata": {},
   "source": [
    "Recall\n",
    "- prime numbers\n",
    "- every number is a product of primes\n",
    "- Euler's totient function $\\phi(N) = \\# \\{k: gcd(k,N) = 1 \\} = N\\prod_{p|N} (1-1/p)$\n",
    "- Fermat's little theorem/ Euler's theorem: $a^{\\phi(N)} \\equiv 1 \\pmod{N}$"
   ]
  },
  {
   "cell_type": "raw",
   "id": "284f6c94",
   "metadata": {},
   "source": [
    "Fermat's test for primality:\n",
    "\n",
    "- Idea: uses Fermat's little theorem to test for primality\n",
    "- Input: odd N >= 3\n",
    "- Output: \"Composite\" or \"Possibly prime\"\n",
    "\n",
    "Algorithm:\n",
    "1. choose a \\in { 2, ... , N -2}\n",
    "2. compute b = a^{N-1} mod N\n",
    "3. If b \\not = 1, return \"composite\" else return \"possibly prime\""
   ]
  },
  {
   "cell_type": "code",
   "execution_count": null,
   "id": "f3d39a9d",
   "metadata": {},
   "outputs": [],
   "source": [
    "#warm up exercise\n",
    "\n",
    "def Fermat_test(N):\n",
    "    return "
   ]
  },
  {
   "cell_type": "code",
   "execution_count": null,
   "id": "aa823788",
   "metadata": {},
   "outputs": [],
   "source": [
    "#Complementary functions\n",
    "gcd,xgcd,randint\n",
    "\n",
    "#Remark: there is a quick way of taking exponents of elements - repeated squaring"
   ]
  },
  {
   "cell_type": "code",
   "execution_count": null,
   "id": "96eb5a0e",
   "metadata": {},
   "outputs": [],
   "source": [
    "#Flaw to Fermat's test - Charmichael numbers\n",
    "#numbers N such that a^{N-1} = 1 mod N for all gcd(a,N) = 1\n",
    "\n",
    "N = 561\n",
    "#N = 41041"
   ]
  },
  {
   "cell_type": "code",
   "execution_count": null,
   "id": "20d783bc",
   "metadata": {},
   "outputs": [],
   "source": [
    "factor(N)"
   ]
  },
  {
   "cell_type": "code",
   "execution_count": null,
   "id": "d85c911d",
   "metadata": {},
   "outputs": [],
   "source": [
    "lst = [a for a in range(N) if gcd(a,N) == 1]\n",
    "assert all([(i^(N-1) % N) == 1 for i in lst])"
   ]
  },
  {
   "cell_type": "code",
   "execution_count": null,
   "id": "ccbdd78a",
   "metadata": {},
   "outputs": [],
   "source": []
  },
  {
   "cell_type": "markdown",
   "id": "4b0cfc4a",
   "metadata": {},
   "source": [
    "- Legendre symbol: $(\\frac{a}{N}) = 1,-1$, if a is a square/nonsquare mod N and 0 if $gcd(a,N) > 1$\n",
    "- Jacobi symbol: For odd $N$, $(\\frac{a}{N}) = (\\frac{a}{p_1})^{e_1}(\\frac{a}{p_2})^{e_2} \\ldots (\\frac{a}{p_k})^{e_k}$"
   ]
  },
  {
   "cell_type": "raw",
   "id": "a56fdb5a",
   "metadata": {},
   "source": [
    "Solovay-Strassen test\n",
    "\n",
    "- Idea: use the Jacobi symbols to determine a number is composite or possibly prime\n",
    "- Input: - N, primality\n",
    "         - k, accuracy\n",
    "- Output: \"composite\" or \"possibly prime\"\n",
    "\n",
    "Algorithm:\n",
    "\n",
    "repeat k times:\n",
    "     choose a in {2,...,n-1}\n",
    "     x = (a/N)\n",
    "     if x = 0 or x \\not = a^{(N-1)/2} mod N:\n",
    "         return \"composite\"\n",
    "return \"possibly prime\""
   ]
  },
  {
   "cell_type": "code",
   "execution_count": null,
   "id": "6a28cfdd",
   "metadata": {},
   "outputs": [],
   "source": [
    "def solovay_strassen_test(N,k):\n",
    "    i = 0\n",
    "    while i < k:\n",
    "        a = randint(2,N-1)\n",
    "        x = jacobi_symbol(a,N)\n",
    "        if x == 0 or not x == a^((N-1)/2) % N:\n",
    "            return \"composite\"\n",
    "    return \"possibly prime\""
   ]
  },
  {
   "cell_type": "code",
   "execution_count": null,
   "id": "5645f045",
   "metadata": {},
   "outputs": [],
   "source": [
    "solovay_strassen_test()"
   ]
  },
  {
   "cell_type": "code",
   "execution_count": null,
   "id": "63a0199b",
   "metadata": {},
   "outputs": [],
   "source": []
  },
  {
   "cell_type": "raw",
   "id": "6132354e",
   "metadata": {},
   "source": [
    "Pollard's rho test\n",
    "\n",
    "- Idea:\n",
    "= start with a function like t^2 + 1\n",
    "= set tortoise and hare (x,y) that travels at different speeds\n",
    "= calculate gcd(|x-y|,N)\n",
    "= stop when d < N is found, otherwise, reset initial values of 0 < x,y < N\n",
    "\n",
    "- Input: - N = primality \n",
    "         - k = accuracy\n",
    "- Output: d = factor of N, or \"failure\""
   ]
  },
  {
   "cell_type": "code",
   "execution_count": null,
   "id": "9e9d259e",
   "metadata": {},
   "outputs": [],
   "source": [
    "R.<t> = PolynomialRing(ZZ)\n",
    "g = t^2 + 1\n",
    "\n",
    "def pollard_rho_test(N): #wikipedia\n",
    "    x = randint(1,N-1)\n",
    "    y = randint(1,N-1)\n",
    "    d = 1\n",
    "    while d == 1:\n",
    "        x = g(x)\n",
    "        y = g(g(y))\n",
    "        d = gcd(|x-y|,n)\n",
    "    if d == n:\n",
    "        return \"failure\"\n",
    "    else:\n",
    "        return d"
   ]
  },
  {
   "cell_type": "code",
   "execution_count": null,
   "id": "2d0c62b4",
   "metadata": {},
   "outputs": [],
   "source": []
  },
  {
   "cell_type": "code",
   "execution_count": null,
   "id": "2551387f",
   "metadata": {},
   "outputs": [],
   "source": []
  },
  {
   "cell_type": "code",
   "execution_count": null,
   "id": "49c159b7",
   "metadata": {},
   "outputs": [],
   "source": []
  },
  {
   "cell_type": "markdown",
   "id": "bde06c51",
   "metadata": {},
   "source": [
    "Pollard's p-1\n",
    "\n",
    "Suppose we have $N = pq$ and and $p-1$ has many small prime factors. Then $p-1$ will divide $m!$ for some small $m$.\n",
    "- choose a (e.g. 2)\n",
    "- compute $a^{m!} -1 \\pmod{N}$ for $m = 2,3,4,...$ and $gcd(a^{m!}-1,N)$"
   ]
  },
  {
   "cell_type": "raw",
   "id": "bf74b2a1",
   "metadata": {},
   "source": [
    "Pollard p-1\n",
    "\n",
    "- Input: - N = to be factored (with p-1 divisible by small primes)\n",
    "         - B = bound B\n",
    "- Output: a nontrivial factor of N\n",
    "\n",
    "Algorithm:\n",
    "- a = 2 (for example)\n",
    "- loop through j = 2,3,4,...,B\n",
    "- a = a^j and compute gcd(a^j - 1, N)\n",
    "- if 1< gcd  < N, return factor, else increase j"
   ]
  },
  {
   "cell_type": "code",
   "execution_count": null,
   "id": "55481799",
   "metadata": {},
   "outputs": [],
   "source": [
    "def pollard_test(N,B):\n",
    "    return"
   ]
  },
  {
   "cell_type": "code",
   "execution_count": null,
   "id": "4cbb42b2",
   "metadata": {},
   "outputs": [],
   "source": []
  },
  {
   "cell_type": "markdown",
   "id": "3a6daa20",
   "metadata": {},
   "source": [
    "An elliptic curve defined over K is of the form: $$y^2 = x^3 + Ax + B$$ with $$4A^3 + 27B^2 \\not = 0$$\n",
    "\n",
    "We will work with finite fields (or rings)"
   ]
  },
  {
   "cell_type": "code",
   "execution_count": null,
   "id": "615b4ecf",
   "metadata": {},
   "outputs": [],
   "source": [
    "N = 10\n",
    "R = Integers(N)\n",
    "E = EllipticCurve(R,[3,-1]) #raises error, why?"
   ]
  },
  {
   "cell_type": "code",
   "execution_count": null,
   "id": "92dc8ff8",
   "metadata": {},
   "outputs": [],
   "source": [
    "#define a point on E\n",
    "P = E(,) ###\n",
    "Q = "
   ]
  },
  {
   "cell_type": "markdown",
   "id": "80d9f699",
   "metadata": {},
   "source": [
    "Points on elliptic curves have the structure of a group, with the group law given by"
   ]
  },
  {
   "cell_type": "code",
   "execution_count": null,
   "id": "fec45a98",
   "metadata": {},
   "outputs": [],
   "source": [
    "k*P, P + Q"
   ]
  },
  {
   "cell_type": "markdown",
   "id": "0b509c19",
   "metadata": {},
   "source": [
    "Lenstra's elliptic curve factorisation method\n",
    "\n",
    "Ideas: use Pollard p-1 on elliptic curves\n",
    "\n",
    "Input: N = to be factored\n",
    "\n",
    "Algorithm:\n",
    "- random A,a,b mod N\n",
    "- set P = (a,b) and B = b^2 - a^3 - A*a mod N\n",
    "- set E : y^2 = x^3 + A*x + B\n",
    "- loop through j = 2,3,4,...,B\n",
    "- P = jP and if error occurs, report j\n",
    "- if 1< j < N, return j (factor), if j = N, restart with different A,a,b"
   ]
  },
  {
   "cell_type": "code",
   "execution_count": null,
   "id": "f6b39310",
   "metadata": {},
   "outputs": [],
   "source": [
    "def lenstra_ecm(N):\n",
    "    return"
   ]
  }
 ],
 "metadata": {
  "kernelspec": {
   "display_name": "SageMath 9.5",
   "language": "sage",
   "name": "sagemath"
  },
  "language_info": {
   "codemirror_mode": {
    "name": "ipython",
    "version": 3
   },
   "file_extension": ".py",
   "mimetype": "text/x-python",
   "name": "python",
   "nbconvert_exporter": "python",
   "pygments_lexer": "ipython3",
   "version": "3.10.2"
  }
 },
 "nbformat": 4,
 "nbformat_minor": 5
}
