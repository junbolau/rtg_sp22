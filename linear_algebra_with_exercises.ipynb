{
 "cells": [
  {
   "cell_type": "markdown",
   "id": "fa01b1cf",
   "metadata": {},
   "source": [
    "# Plan\n",
    "- linear algebra\n",
    "- RREF\n",
    "- HNF\n",
    "- SNF"
   ]
  },
  {
   "cell_type": "markdown",
   "id": "b0eb260b",
   "metadata": {},
   "source": [
    "Recall:\n",
    "- K = field\n",
    "- V = vector space over K\n",
    "- U = subspace of V\n",
    "- linear (in)dependence, span, dimension + formula\n",
    "- linear maps, matrices\n",
    "- determinants, (non)singular, system of equations, characteristic/minimal polynomials, eigenvalues"
   ]
  },
  {
   "cell_type": "code",
   "execution_count": null,
   "id": "1aa94961",
   "metadata": {},
   "outputs": [],
   "source": [
    "# Example\n",
    "V = VectorSpace(QQ,3);V"
   ]
  },
  {
   "cell_type": "code",
   "execution_count": null,
   "id": "12536a61",
   "metadata": {},
   "outputs": [],
   "source": [
    "U = V.subspace_with_basis([[1,1,1],[0,1,1]]);U"
   ]
  },
  {
   "cell_type": "code",
   "execution_count": null,
   "id": "bd66d73e",
   "metadata": {},
   "outputs": [],
   "source": [
    "V.dimension(), U.dimension()"
   ]
  },
  {
   "cell_type": "code",
   "execution_count": null,
   "id": "3d62e600",
   "metadata": {},
   "outputs": [],
   "source": [
    "M = Matrix(QQ,[[1,2,3],[8,8,8]])\n",
    "T = linear_transformation(M)\n",
    "T"
   ]
  },
  {
   "cell_type": "code",
   "execution_count": null,
   "id": "c85e5994",
   "metadata": {},
   "outputs": [],
   "source": [
    "v = vector(QQ,[4,5,6])\n",
    "T(v)"
   ]
  },
  {
   "cell_type": "code",
   "execution_count": null,
   "id": "4b7faa13",
   "metadata": {},
   "outputs": [],
   "source": [
    "M.det() #error because M is not square matrix"
   ]
  },
  {
   "cell_type": "code",
   "execution_count": null,
   "id": "76180c40",
   "metadata": {},
   "outputs": [],
   "source": [
    "M1 = Matrix(QQ,[[1,2,3],[8,8,8],[13,38,75]])\n",
    "T1 = linear_transformation(M1)\n",
    "M1.det(),T1.det()"
   ]
  },
  {
   "cell_type": "code",
   "execution_count": null,
   "id": "905b4eec",
   "metadata": {},
   "outputs": [],
   "source": [
    "v = V((1,2,3));\n",
    "v,v.parent()"
   ]
  },
  {
   "cell_type": "code",
   "execution_count": null,
   "id": "e4663960",
   "metadata": {},
   "outputs": [],
   "source": [
    "v1 = vector(RR,[3*I,3,5]);\n",
    "print(v1 in V)"
   ]
  },
  {
   "cell_type": "code",
   "execution_count": null,
   "id": "b6729569",
   "metadata": {},
   "outputs": [],
   "source": [
    "v1 = V(v1)\n",
    "print(v1 in V)"
   ]
  },
  {
   "cell_type": "code",
   "execution_count": null,
   "id": "c18acd41",
   "metadata": {},
   "outputs": [],
   "source": [
    "#solving system of equations\n",
    "A = Matrix([[1,2,3],[3,2,1],[1,1,1]])"
   ]
  },
  {
   "cell_type": "code",
   "execution_count": null,
   "id": "70f3dc48",
   "metadata": {},
   "outputs": [],
   "source": [
    "Y = vector([0, -4, -1])\n",
    "X = A.solve_right(Y)"
   ]
  },
  {
   "cell_type": "code",
   "execution_count": null,
   "id": "5222d4b5",
   "metadata": {},
   "outputs": [],
   "source": [
    "assert A*X == Y"
   ]
  },
  {
   "cell_type": "code",
   "execution_count": null,
   "id": "9d0ea6ff",
   "metadata": {},
   "outputs": [],
   "source": [
    "solve_left,solve_right,left_kernel,.."
   ]
  },
  {
   "cell_type": "code",
   "execution_count": null,
   "id": "cf323176",
   "metadata": {},
   "outputs": [],
   "source": [
    "A.solve_left(Y)"
   ]
  },
  {
   "cell_type": "code",
   "execution_count": null,
   "id": "4fe1ed03",
   "metadata": {},
   "outputs": [],
   "source": [
    "A.det()"
   ]
  },
  {
   "cell_type": "code",
   "execution_count": null,
   "id": "a38cb327",
   "metadata": {},
   "outputs": [],
   "source": [
    "# no solution to X^T * A = Y\n",
    "A.solve_left(Y)"
   ]
  },
  {
   "cell_type": "code",
   "execution_count": null,
   "id": "54b1233f",
   "metadata": {},
   "outputs": [],
   "source": [
    "A.kernel()"
   ]
  },
  {
   "cell_type": "code",
   "execution_count": null,
   "id": "dcdf95e7",
   "metadata": {},
   "outputs": [],
   "source": [
    "A.charpoly().factor(), A.eigenvalues()#,A.eigenvectors_right()"
   ]
  },
  {
   "cell_type": "code",
   "execution_count": null,
   "id": "cbbab154",
   "metadata": {},
   "outputs": [],
   "source": [
    "A.eigenvectors_right()"
   ]
  },
  {
   "cell_type": "markdown",
   "id": "fe6b399a",
   "metadata": {},
   "source": [
    "RREF:\n",
    "- any zero rows come below all the non-zero row\n",
    "- for each i > 1, the first non-zero entry in the i-th row (if any) is strictly to the right of the first\n",
    "non-zero entry in the (i − 1)-st row.\n",
    "- the pivot entries are all 1\n",
    "- the other entries in the same column as a pivot are all 0\n",
    "\n",
    "Remark: \n",
    "- One gets the RREF of a matrix via Gaussian elimination\n",
    "- for any matrix A, there exists an invertible matrix U such that E = U*A with E in RREF\n",
    "- A corollary is that any subspace has a unique RREF"
   ]
  },
  {
   "cell_type": "code",
   "execution_count": null,
   "id": "cc5f0d17",
   "metadata": {},
   "outputs": [],
   "source": [
    "A, A.rref(),A.echelon_form()"
   ]
  },
  {
   "cell_type": "code",
   "execution_count": null,
   "id": "b6ea9c64",
   "metadata": {},
   "outputs": [],
   "source": [
    "B1 = Matrix(QQ,[[1,2,3],[1,1,1]])\n",
    "U1 = V.subspace_with_basis(B1)\n",
    "\n",
    "B2 = Matrix(QQ,[[1,2,3],[0,1,2]])\n",
    "U2 = V.subspace_with_basis(B2)"
   ]
  },
  {
   "cell_type": "code",
   "execution_count": null,
   "id": "cb012de5",
   "metadata": {},
   "outputs": [],
   "source": [
    "U1 + U2 == U2"
   ]
  },
  {
   "cell_type": "code",
   "execution_count": null,
   "id": "efe69c0d",
   "metadata": {},
   "outputs": [],
   "source": [
    "# U_1 in U_2 => U_1 + U_2 = U_2"
   ]
  },
  {
   "cell_type": "code",
   "execution_count": null,
   "id": "c8d8b733",
   "metadata": {},
   "outputs": [],
   "source": [
    "U3 = block_matrix([[B1],[B2]]);U3"
   ]
  },
  {
   "cell_type": "code",
   "execution_count": null,
   "id": "84b8f682",
   "metadata": {},
   "outputs": [],
   "source": [
    "U3.rref(),B1.rref(),B2.rref()"
   ]
  },
  {
   "cell_type": "code",
   "execution_count": null,
   "id": "fbb0351b",
   "metadata": {},
   "outputs": [],
   "source": [
    "v = V(vector(QQ,[2,1,0]))"
   ]
  },
  {
   "cell_type": "code",
   "execution_count": null,
   "id": "e7e3739e",
   "metadata": {},
   "outputs": [],
   "source": [
    "B1new = B1.transpose().augment(v).transpose();B1new"
   ]
  },
  {
   "cell_type": "code",
   "execution_count": null,
   "id": "c0386122",
   "metadata": {},
   "outputs": [],
   "source": [
    "B1new.rref() #one way to check if v is in U1"
   ]
  },
  {
   "cell_type": "markdown",
   "id": "90f3131d",
   "metadata": {},
   "source": [
    "Exercise:\n",
    "- how would one find the subspace $U \\cap W$, if U,W are written in echelon basis?"
   ]
  },
  {
   "cell_type": "code",
   "execution_count": null,
   "id": "a15324b8",
   "metadata": {},
   "outputs": [],
   "source": [
    "#Hint: use augmentation"
   ]
  },
  {
   "cell_type": "code",
   "execution_count": null,
   "id": "695d0764",
   "metadata": {},
   "outputs": [],
   "source": [
    "#pick basis vectors of U, check containment in W, stop when dimension is correct\n",
    "#( U | W ), find nullspace"
   ]
  },
  {
   "cell_type": "code",
   "execution_count": null,
   "id": "31945b01",
   "metadata": {},
   "outputs": [],
   "source": [
    "U1.intersection?"
   ]
  },
  {
   "cell_type": "markdown",
   "id": "ff76db12",
   "metadata": {},
   "source": [
    "#linear algebra over Z"
   ]
  },
  {
   "cell_type": "markdown",
   "id": "51a70663",
   "metadata": {},
   "source": [
    "Hermite normal form:\n",
    "- in row echelon form\n",
    "- pivots are positive integers\n",
    "- entries above each pivot P are between [0,P)\n",
    "\n",
    "Any integer matrix M, has a HNF, i.e., H = U*M for some invertible integer matrix U"
   ]
  },
  {
   "cell_type": "code",
   "execution_count": null,
   "id": "604fdf5b",
   "metadata": {},
   "outputs": [],
   "source": [
    "M = matrix(ZZ, 3, 4, [1,3,4,5,6,7,8,9,10,11,12,13]);M"
   ]
  },
  {
   "cell_type": "code",
   "execution_count": null,
   "id": "f1326fb3",
   "metadata": {},
   "outputs": [],
   "source": [
    "M.hermite_form(),M.rref()"
   ]
  },
  {
   "cell_type": "markdown",
   "id": "e1a7ce3b",
   "metadata": {},
   "source": [
    "Example:\n",
    "- G a subgroup of Z^n with finite generators\n",
    "- Then G has a unique ordered generating set in a HNF"
   ]
  },
  {
   "cell_type": "code",
   "execution_count": null,
   "id": "abd878ee",
   "metadata": {},
   "outputs": [],
   "source": [
    "D,U,V = M.smith_form(); D"
   ]
  },
  {
   "cell_type": "markdown",
   "id": "c25d7675",
   "metadata": {},
   "source": [
    "Matrix over Z is in Smith normal form if\n",
    "- diagonal\n",
    "- diagonal entries are nonnegative and satisfy d_i | d_{i+1}"
   ]
  },
  {
   "cell_type": "code",
   "execution_count": null,
   "id": "cb24ad4e",
   "metadata": {},
   "outputs": [],
   "source": [
    "#elementary divisors"
   ]
  },
  {
   "cell_type": "code",
   "execution_count": null,
   "id": "0c9a8ef2",
   "metadata": {},
   "outputs": [],
   "source": [
    "U*M*V == D"
   ]
  },
  {
   "cell_type": "markdown",
   "id": "9d68d064",
   "metadata": {},
   "source": [
    "Example: (classification of finitely generated abelian groups)\n",
    "\n",
    "G = abelian group with finite generators and relations\n",
    "$$ a_{11} g_1 + ... + a_{1n} g_n = 0,$$\n",
    "$$... , $$\n",
    "$$a_{m1} g_1 + ... + a_{mn} g_n = 0$$\n",
    "\n",
    "Then G is isomorphic to (Z/d_1) x (Z/d_2) x ... x (Z/d_r) x Z^n-r"
   ]
  },
  {
   "cell_type": "code",
   "execution_count": null,
   "id": "206433c3",
   "metadata": {},
   "outputs": [],
   "source": [
    "( D | 0)"
   ]
  },
  {
   "cell_type": "code",
   "execution_count": null,
   "id": "0533bda9",
   "metadata": {},
   "outputs": [],
   "source": []
  },
  {
   "cell_type": "code",
   "execution_count": null,
   "id": "6e396342",
   "metadata": {},
   "outputs": [],
   "source": []
  },
  {
   "cell_type": "markdown",
   "id": "a8b8e861",
   "metadata": {},
   "source": [
    "# Exercises"
   ]
  },
  {
   "cell_type": "code",
   "execution_count": null,
   "id": "890ffa9f",
   "metadata": {},
   "outputs": [],
   "source": [
    "A = Matrix(QQ,4,4,[1,2,3,4,5,6,7,8,9,1,0,1,1,1,1,1])\n",
    "\n",
    "#compute the determinant, RREF and its transformation matrix, kernel \n",
    "#comment on the difference between left/right kernels\n",
    "#compute SNF, HNF and Jordan canonical form of A (over QQbar)"
   ]
  },
  {
   "cell_type": "code",
   "execution_count": null,
   "id": "2f3d5291",
   "metadata": {},
   "outputs": [],
   "source": [
    "#let B = im(A) over F_2\n",
    "#compute left/right kernel of B and give their RREF bases"
   ]
  },
  {
   "cell_type": "code",
   "execution_count": null,
   "id": "23b8ab4a",
   "metadata": {},
   "outputs": [],
   "source": [
    "#Let W1 be a subspace of Q^4 generated by [5,7,3/4,0], [1,2,3,4]\n",
    "#Let W2 be a subspace of Q^4 generated by [0,1,0,0]\n",
    "\n",
    "#compute basis W3 = W1 + W2\n",
    "#check which vectors are in W3\n",
    "# [1,0,1,68/57]\n",
    "# [1,0,0,0]\n",
    "# [0,0,1,0]"
   ]
  },
  {
   "cell_type": "code",
   "execution_count": null,
   "id": "2db2beaa",
   "metadata": {},
   "outputs": [],
   "source": [
    "# V generated by\n",
    "# v1 = [1,0,0,0]\n",
    "# v2 = [0,0,1,0]\n",
    "# v3 = [0,0,0,1]\n",
    "\n",
    "# W generated by\n",
    "# w1 = [0,1,0,0]\n",
    "# w2 = [0,0,1,1/2]\n",
    "\n",
    "# Compute W \\cap V and its echelon basis"
   ]
  },
  {
   "cell_type": "code",
   "execution_count": null,
   "id": "159c301a",
   "metadata": {},
   "outputs": [],
   "source": [
    "A = random_matrix(ZZ,3,3)\n",
    "B = random_matrix(ZZ,3,3)\n",
    "#Compute the commutator [A,B] = A*B - B*A using the function commutator and also matrix multiplication"
   ]
  },
  {
   "cell_type": "code",
   "execution_count": null,
   "id": "86056fa1",
   "metadata": {},
   "outputs": [],
   "source": []
  }
 ],
 "metadata": {
  "kernelspec": {
   "display_name": "SageMath 9.5",
   "language": "sage",
   "name": "sagemath"
  },
  "language_info": {
   "codemirror_mode": {
    "name": "ipython",
    "version": 3
   },
   "file_extension": ".py",
   "mimetype": "text/x-python",
   "name": "python",
   "nbconvert_exporter": "python",
   "pygments_lexer": "ipython3",
   "version": "3.10.2"
  }
 },
 "nbformat": 4,
 "nbformat_minor": 5
}
