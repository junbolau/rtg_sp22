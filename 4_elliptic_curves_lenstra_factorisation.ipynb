{
 "cells": [
  {
   "cell_type": "markdown",
   "id": "395edf18",
   "metadata": {},
   "source": [
    "An elliptic curve defined over K is of the form: $$y^2 = x^3 + Ax + B$$ with $$4A^3 + 27B^2 \\not = 0$$\n",
    "\n",
    "- the condition is to ensure there are no repeated (cubic) roots\n",
    "\n",
    "We will work with finite fields (or rings)\n",
    "\n",
    "- for example, we could think of the above equation $\\pmod{N}$"
   ]
  },
  {
   "cell_type": "code",
   "execution_count": 1,
   "id": "1a69734c",
   "metadata": {},
   "outputs": [],
   "source": [
    "N = 10\n",
    "R = Integers(N)\n",
    "E = EllipticCurve(R,[1,4])"
   ]
  },
  {
   "cell_type": "code",
   "execution_count": 2,
   "id": "787f847c",
   "metadata": {},
   "outputs": [
    {
     "data": {
      "text/plain": [
       "Elliptic Curve defined by y^2 = x^3 + x + 4 over Ring of integers modulo 10"
      ]
     },
     "execution_count": 2,
     "metadata": {},
     "output_type": "execute_result"
    }
   ],
   "source": [
    "E"
   ]
  },
  {
   "cell_type": "raw",
   "id": "bcc40be8",
   "metadata": {},
   "source": [
    "E1 = EllipticCurve(R,[5,0])"
   ]
  },
  {
   "cell_type": "code",
   "execution_count": null,
   "id": "334790d8",
   "metadata": {},
   "outputs": [],
   "source": [
    "#zy^2 = x^3 + xz^2 + 4z^3"
   ]
  },
  {
   "cell_type": "code",
   "execution_count": 9,
   "id": "27cee099",
   "metadata": {},
   "outputs": [
    {
     "name": "stdout",
     "output_type": "stream",
     "text": [
      "0 2\n",
      "0 8\n",
      "1 4\n",
      "1 6\n",
      "2 2\n",
      "2 8\n",
      "3 2\n",
      "3 8\n",
      "5 2\n",
      "5 8\n",
      "6 4\n",
      "6 6\n",
      "7 2\n",
      "7 8\n",
      "8 2\n",
      "8 8\n"
     ]
    }
   ],
   "source": [
    "for a in range(10):\n",
    "    for b in range(10):\n",
    "        if (b^2) % N == (a^3 + 1*a + 4) % N:\n",
    "            print(a,b)\n",
    "# need to include O or \\infty = (0:1:0)\n",
    "\n",
    "# (1 : 0 : 0) is never a point on E"
   ]
  },
  {
   "cell_type": "code",
   "execution_count": 10,
   "id": "026bb092",
   "metadata": {},
   "outputs": [
    {
     "ename": "AttributeError",
     "evalue": "'EllipticCurve_generic_with_category' object has no attribute 'points'",
     "output_type": "error",
     "traceback": [
      "\u001b[0;31m---------------------------------------------------------------------------\u001b[0m",
      "\u001b[0;31mKeyError\u001b[0m                                  Traceback (most recent call last)",
      "File \u001b[0;32m/usr/lib/python3.10/site-packages/sage/structure/category_object.pyx:839\u001b[0m, in \u001b[0;36msage.structure.category_object.CategoryObject.getattr_from_category (build/cythonized/sage/structure/category_object.c:7152)\u001b[0;34m()\u001b[0m\n\u001b[1;32m    838\u001b[0m try:\n\u001b[0;32m--> 839\u001b[0m     return self.__cached_methods[name]\n\u001b[1;32m    840\u001b[0m except KeyError:\n",
      "\u001b[0;31mKeyError\u001b[0m: 'points'",
      "\nDuring handling of the above exception, another exception occurred:\n",
      "\u001b[0;31mAttributeError\u001b[0m                            Traceback (most recent call last)",
      "Input \u001b[0;32mIn [10]\u001b[0m, in \u001b[0;36m<cell line: 1>\u001b[0;34m()\u001b[0m\n\u001b[0;32m----> 1\u001b[0m \u001b[43mE\u001b[49m\u001b[38;5;241;43m.\u001b[39;49m\u001b[43mpoints\u001b[49m()\n",
      "File \u001b[0;32m/usr/lib/python3.10/site-packages/sage/structure/category_object.pyx:833\u001b[0m, in \u001b[0;36msage.structure.category_object.CategoryObject.__getattr__ (build/cythonized/sage/structure/category_object.c:7071)\u001b[0;34m()\u001b[0m\n\u001b[1;32m    831\u001b[0m         AttributeError: 'PrimeNumbers_with_category' object has no attribute 'sadfasdf'\n\u001b[1;32m    832\u001b[0m     \"\"\"\n\u001b[0;32m--> 833\u001b[0m     return self.getattr_from_category(name)\n\u001b[1;32m    834\u001b[0m \n\u001b[1;32m    835\u001b[0m cdef getattr_from_category(self, name):\n",
      "File \u001b[0;32m/usr/lib/python3.10/site-packages/sage/structure/category_object.pyx:848\u001b[0m, in \u001b[0;36msage.structure.category_object.CategoryObject.getattr_from_category (build/cythonized/sage/structure/category_object.c:7237)\u001b[0;34m()\u001b[0m\n\u001b[1;32m    846\u001b[0m     cls = self._category.parent_class\n\u001b[1;32m    847\u001b[0m \n\u001b[0;32m--> 848\u001b[0m attr = getattr_from_other_class(self, cls, name)\n\u001b[1;32m    849\u001b[0m self.__cached_methods[name] = attr\n\u001b[1;32m    850\u001b[0m return attr\n",
      "File \u001b[0;32m/usr/lib/python3.10/site-packages/sage/cpython/getattr.pyx:356\u001b[0m, in \u001b[0;36msage.cpython.getattr.getattr_from_other_class (build/cythonized/sage/cpython/getattr.c:2629)\u001b[0;34m()\u001b[0m\n\u001b[1;32m    354\u001b[0m     dummy_error_message.cls = type(self)\n\u001b[1;32m    355\u001b[0m     dummy_error_message.name = name\n\u001b[0;32m--> 356\u001b[0m     raise AttributeError(dummy_error_message)\n\u001b[1;32m    357\u001b[0m cdef PyObject* attr = instance_getattr(cls, name)\n\u001b[1;32m    358\u001b[0m if attr is NULL:\n",
      "\u001b[0;31mAttributeError\u001b[0m: 'EllipticCurve_generic_with_category' object has no attribute 'points'"
     ]
    }
   ],
   "source": [
    "E.points() #Doesn't work when E is defined over general rings"
   ]
  },
  {
   "cell_type": "code",
   "execution_count": 11,
   "id": "7bfff4f0",
   "metadata": {},
   "outputs": [],
   "source": [
    "#define a point on E, doesn't matter if it is a ring\n",
    "P = E(1,4)\n",
    "Q = E(3,8)"
   ]
  },
  {
   "cell_type": "markdown",
   "id": "87c33184",
   "metadata": {},
   "source": [
    "Points on elliptic curves have the structure of a group, with the group law given by:\n",
    "    \n",
    "$$E : y^2 = x^3+Ax+B.$$\n",
    "\n",
    "- $P + Q$ for $x_P \\not = x_Q$ is given by\n",
    "  - *Step 1:* $\\quad \\lambda = \\displaystyle (y_Q - y_P)(x_Q- x_P)^{-1} \\quad $ (slope of the line through $P$ and $Q$)\n",
    "  - *Step 2:* $\\quad x _R = \\lambda^2 - x_Q - x_P, \\quad y_R = y_P + \\lambda(x_R - x_P)$\n",
    "  - *Step 3:* $\\quad P + Q = (x_R, - y_R)$\n",
    "- $P + Q$ for $x_P = x_Q$ is given by\n",
    "  - *Step 1:* $\\quad \\lambda = \\displaystyle (3x_P^2 + A)(2y_P)^{-1} \\quad $ (slope of tangent at $P$)\n",
    "  - *Step 2:* $\\quad x_R = \\lambda^2  - 2 x_P, \\quad  y_R = y_P + \\lambda(x_R - x_P)$\n",
    "  - *Step 3:* $\\quad 2P =  P+ P = (x_R, - y_R)$\n",
    "- $O = (0:1:0)$ is the identity\n",
    "- Associativity is harder to check (skip)\n",
    "- Inverse of $P = (x_P,y_P)$ is $-P = (x_P, -y_P)$\n",
    "\n",
    "Related webpage on [Elliptic curves over finite fields](https://doc.sagemath.org/html/en/reference/arithmetic_curves/sage/schemes/elliptic_curves/ell_finite_field.html)"
   ]
  },
  {
   "cell_type": "code",
   "execution_count": null,
   "id": "9f2bf3f4",
   "metadata": {},
   "outputs": [],
   "source": [
    "a^N == prod (a^(2^i)) #exponentiation/squaring\n",
    "k*P == sum (2^i * P)  #doubling"
   ]
  },
  {
   "cell_type": "code",
   "execution_count": null,
   "id": "ec1a844d",
   "metadata": {},
   "outputs": [],
   "source": [
    "9*P == 2^3 * P + P"
   ]
  },
  {
   "cell_type": "code",
   "execution_count": 31,
   "id": "eabcab86",
   "metadata": {},
   "outputs": [],
   "source": [
    "p = random_prime(2^8)\n",
    "F = Integers(p) # or GF(p)\n",
    "E = EllipticCurve(F,[1,2])"
   ]
  },
  {
   "cell_type": "code",
   "execution_count": 32,
   "id": "40cb8930",
   "metadata": {},
   "outputs": [
    {
     "data": {
      "text/plain": [
       "Elliptic Curve defined by y^2 = x^3 + x + 2 over Ring of integers modulo 79"
      ]
     },
     "execution_count": 32,
     "metadata": {},
     "output_type": "execute_result"
    }
   ],
   "source": [
    "E"
   ]
  },
  {
   "cell_type": "code",
   "execution_count": 33,
   "id": "204cae8a",
   "metadata": {},
   "outputs": [
    {
     "data": {
      "text/plain": [
       "[(0 : 1 : 0), (0 : 9 : 1), (0 : 70 : 1), (1 : 2 : 1), (1 : 77 : 1), (3 : 36 : 1), (3 : 43 : 1), (7 : 6 : 1), (7 : 73 : 1), (10 : 8 : 1), (10 : 71 : 1), (11 : 1 : 1), (11 : 78 : 1), (12 : 2 : 1), (12 : 77 : 1), (13 : 0 : 1), (23 : 37 : 1), (23 : 42 : 1), (24 : 5 : 1), (24 : 74 : 1), (25 : 22 : 1), (25 : 57 : 1), (28 : 39 : 1), (28 : 40 : 1), (29 : 3 : 1), (29 : 76 : 1), (36 : 20 : 1), (36 : 59 : 1), (39 : 30 : 1), (39 : 49 : 1), (40 : 17 : 1), (40 : 62 : 1), (41 : 32 : 1), (41 : 47 : 1), (48 : 11 : 1), (48 : 68 : 1), (52 : 11 : 1), (52 : 68 : 1), (54 : 28 : 1), (54 : 51 : 1), (57 : 32 : 1), (57 : 47 : 1), (58 : 11 : 1), (58 : 68 : 1), (59 : 35 : 1), (59 : 44 : 1), (60 : 32 : 1), (60 : 47 : 1), (62 : 7 : 1), (62 : 72 : 1), (64 : 3 : 1), (64 : 76 : 1), (65 : 3 : 1), (65 : 76 : 1), (66 : 2 : 1), (66 : 77 : 1), (67 : 0 : 1), (69 : 16 : 1), (69 : 63 : 1), (75 : 31 : 1), (75 : 48 : 1), (76 : 29 : 1), (76 : 50 : 1), (78 : 0 : 1)]"
      ]
     },
     "execution_count": 33,
     "metadata": {},
     "output_type": "execute_result"
    }
   ],
   "source": [
    "E.points() #F is a field"
   ]
  },
  {
   "cell_type": "code",
   "execution_count": null,
   "id": "ed26385c",
   "metadata": {},
   "outputs": [],
   "source": [
    "#(x:y:z)\n",
    "# z =/= 0 -> scale z = 1\n",
    "# z = 0 -> only one point (0:1:0)"
   ]
  },
  {
   "cell_type": "code",
   "execution_count": 36,
   "id": "e542263d",
   "metadata": {},
   "outputs": [],
   "source": [
    "#random point on curve\n",
    "\n",
    "P = E.random_element()\n",
    "Q = E.random_point()"
   ]
  },
  {
   "cell_type": "code",
   "execution_count": 37,
   "id": "523bb31d",
   "metadata": {},
   "outputs": [
    {
     "data": {
      "text/plain": [
       "(66 : 77 : 1)"
      ]
     },
     "execution_count": 37,
     "metadata": {},
     "output_type": "execute_result"
    }
   ],
   "source": [
    "P"
   ]
  },
  {
   "cell_type": "code",
   "execution_count": 38,
   "id": "b7f37634",
   "metadata": {},
   "outputs": [
    {
     "data": {
      "text/plain": [
       "((0 : 9 : 1), (3 : 36 : 1), (0 : 1 : 0))"
      ]
     },
     "execution_count": 38,
     "metadata": {},
     "output_type": "execute_result"
    }
   ],
   "source": [
    "3*P , P + Q, E(0)"
   ]
  },
  {
   "cell_type": "code",
   "execution_count": 39,
   "id": "1f693a72",
   "metadata": {},
   "outputs": [
    {
     "data": {
      "text/plain": [
       "(32, 8)"
      ]
     },
     "execution_count": 39,
     "metadata": {},
     "output_type": "execute_result"
    }
   ],
   "source": [
    "P.order(), Q.order()"
   ]
  },
  {
   "cell_type": "code",
   "execution_count": 40,
   "id": "43d20055",
   "metadata": {},
   "outputs": [
    {
     "data": {
      "text/plain": [
       "(0 : 1 : 0)"
      ]
     },
     "execution_count": 40,
     "metadata": {},
     "output_type": "execute_result"
    }
   ],
   "source": [
    "R = E(0,9);\n",
    "32*R"
   ]
  },
  {
   "cell_type": "code",
   "execution_count": 41,
   "id": "0dc97a03",
   "metadata": {},
   "outputs": [
    {
     "data": {
      "text/plain": [
       "True"
      ]
     },
     "execution_count": 41,
     "metadata": {},
     "output_type": "execute_result"
    }
   ],
   "source": [
    "P.order()*P == E(0) #identity element"
   ]
  },
  {
   "cell_type": "code",
   "execution_count": 42,
   "id": "c872a8f6",
   "metadata": {},
   "outputs": [
    {
     "data": {
      "text/plain": [
       "(64, 64, 64, 64)"
      ]
     },
     "execution_count": 42,
     "metadata": {},
     "output_type": "execute_result"
    }
   ],
   "source": [
    "E.cardinality(),len(E.points()), E.count_points(), E.order()"
   ]
  },
  {
   "cell_type": "code",
   "execution_count": 43,
   "id": "cfe6d961",
   "metadata": {},
   "outputs": [
    {
     "name": "stdout",
     "output_type": "stream",
     "text": [
      "64\n",
      "Additive abelian group isomorphic to Z/32 + Z/2 embedded in Abelian group of points on Elliptic Curve defined by y^2 = x^3 + x + 2 over Ring of integers modulo 79\n"
     ]
    }
   ],
   "source": [
    "print(E.order())\n",
    "print(E.abelian_group())"
   ]
  },
  {
   "cell_type": "code",
   "execution_count": null,
   "id": "79fef482",
   "metadata": {},
   "outputs": [],
   "source": []
  },
  {
   "cell_type": "code",
   "execution_count": 47,
   "id": "b1a51d5e",
   "metadata": {},
   "outputs": [
    {
     "data": {
      "text/plain": [
       "Elliptic Curve defined by y^2 = x^3 + x + 4 over Ring of integers modulo 10"
      ]
     },
     "execution_count": 47,
     "metadata": {},
     "output_type": "execute_result"
    }
   ],
   "source": [
    "N = 10\n",
    "R = Integers(N)\n",
    "E = EllipticCurve(R,[1,4])\n",
    "E"
   ]
  },
  {
   "cell_type": "code",
   "execution_count": 48,
   "id": "0e192716",
   "metadata": {},
   "outputs": [],
   "source": [
    "#define a point on E, doesn't matter if it is a ring\n",
    "P = E(1,4)\n",
    "Q = E(3,8)"
   ]
  },
  {
   "cell_type": "code",
   "execution_count": 49,
   "id": "4dc64859",
   "metadata": {},
   "outputs": [
    {
     "ename": "ZeroDivisionError",
     "evalue": "Inverse of 8 does not exist (characteristic = 10 = 2*5)",
     "output_type": "error",
     "traceback": [
      "\u001b[0;31m---------------------------------------------------------------------------\u001b[0m",
      "\u001b[0;31mZeroDivisionError\u001b[0m                         Traceback (most recent call last)",
      "File \u001b[0;32m/usr/lib/python3.10/site-packages/sage/schemes/elliptic_curves/ell_point.py:660\u001b[0m, in \u001b[0;36mEllipticCurvePoint_field._add_\u001b[0;34m(self, right)\u001b[0m\n\u001b[1;32m    659\u001b[0m \u001b[38;5;28;01mtry\u001b[39;00m:\n\u001b[0;32m--> 660\u001b[0m     m \u001b[38;5;241m=\u001b[39m \u001b[43m(\u001b[49m\u001b[38;5;241;43m3\u001b[39;49m\u001b[38;5;241;43m*\u001b[39;49m\u001b[43mx1\u001b[49m\u001b[38;5;241;43m*\u001b[39;49m\u001b[43mx1\u001b[49m\u001b[43m \u001b[49m\u001b[38;5;241;43m+\u001b[39;49m\u001b[43m \u001b[49m\u001b[38;5;241;43m2\u001b[39;49m\u001b[38;5;241;43m*\u001b[39;49m\u001b[43ma2\u001b[49m\u001b[38;5;241;43m*\u001b[39;49m\u001b[43mx1\u001b[49m\u001b[43m \u001b[49m\u001b[38;5;241;43m+\u001b[39;49m\u001b[43m \u001b[49m\u001b[43ma4\u001b[49m\u001b[43m \u001b[49m\u001b[38;5;241;43m-\u001b[39;49m\u001b[43m \u001b[49m\u001b[43ma1\u001b[49m\u001b[38;5;241;43m*\u001b[39;49m\u001b[43my1\u001b[49m\u001b[43m)\u001b[49m\u001b[43m \u001b[49m\u001b[38;5;241;43m/\u001b[39;49m\u001b[43m \u001b[49m\u001b[43m(\u001b[49m\u001b[38;5;241;43m2\u001b[39;49m\u001b[38;5;241;43m*\u001b[39;49m\u001b[43my1\u001b[49m\u001b[43m \u001b[49m\u001b[38;5;241;43m+\u001b[39;49m\u001b[43m \u001b[49m\u001b[43ma1\u001b[49m\u001b[38;5;241;43m*\u001b[39;49m\u001b[43mx1\u001b[49m\u001b[43m \u001b[49m\u001b[38;5;241;43m+\u001b[39;49m\u001b[43m \u001b[49m\u001b[43ma3\u001b[49m\u001b[43m)\u001b[49m\n\u001b[1;32m    661\u001b[0m \u001b[38;5;28;01mexcept\u001b[39;00m \u001b[38;5;167;01mZeroDivisionError\u001b[39;00m:\n",
      "File \u001b[0;32m/usr/lib/python3.10/site-packages/sage/structure/element.pyx:1736\u001b[0m, in \u001b[0;36msage.structure.element.Element.__truediv__ (build/cythonized/sage/structure/element.c:13268)\u001b[0;34m()\u001b[0m\n\u001b[1;32m   1735\u001b[0m if HAVE_SAME_PARENT(cl):\n\u001b[0;32m-> 1736\u001b[0m     return (<Element>left)._div_(right)\n\u001b[1;32m   1737\u001b[0m if BOTH_ARE_ELEMENT(cl):\n",
      "File \u001b[0;32m/usr/lib/python3.10/site-packages/sage/rings/finite_rings/integer_mod.pyx:2619\u001b[0m, in \u001b[0;36msage.rings.finite_rings.integer_mod.IntegerMod_int._div_ (build/cythonized/sage/rings/finite_rings/integer_mod.c:29035)\u001b[0;34m()\u001b[0m\n\u001b[1;32m   2618\u001b[0m if right_inverse is None:\n\u001b[0;32m-> 2619\u001b[0m     raise ZeroDivisionError(f\"inverse of Mod({right}, {self.__modulus.sageInteger}) does not exist\")\n\u001b[1;32m   2620\u001b[0m else:\n",
      "\u001b[0;31mZeroDivisionError\u001b[0m: inverse of Mod(8, 10) does not exist",
      "\nDuring handling of the above exception, another exception occurred:\n",
      "\u001b[0;31mZeroDivisionError\u001b[0m                         Traceback (most recent call last)",
      "Input \u001b[0;32mIn [49]\u001b[0m, in \u001b[0;36m<cell line: 1>\u001b[0;34m()\u001b[0m\n\u001b[0;32m----> 1\u001b[0m \u001b[43mP\u001b[49m\u001b[43m \u001b[49m\u001b[38;5;241;43m+\u001b[39;49m\u001b[43m \u001b[49m\u001b[43mP\u001b[49m\n",
      "File \u001b[0;32m/usr/lib/python3.10/site-packages/sage/structure/element.pyx:1230\u001b[0m, in \u001b[0;36msage.structure.element.Element.__add__ (build/cythonized/sage/structure/element.c:11069)\u001b[0;34m()\u001b[0m\n\u001b[1;32m   1228\u001b[0m cdef int cl = classify_elements(left, right)\n\u001b[1;32m   1229\u001b[0m if HAVE_SAME_PARENT(cl):\n\u001b[0;32m-> 1230\u001b[0m     return (<Element>left)._add_(right)\n\u001b[1;32m   1231\u001b[0m # Left and right are Sage elements => use coercion model\n\u001b[1;32m   1232\u001b[0m if BOTH_ARE_ELEMENT(cl):\n",
      "File \u001b[0;32m/usr/lib/python3.10/site-packages/sage/structure/element.pyx:2366\u001b[0m, in \u001b[0;36msage.structure.element.ModuleElement._add_ (build/cythonized/sage/structure/element.c:15680)\u001b[0;34m()\u001b[0m\n\u001b[1;32m   2364\u001b[0m Generic element of a module.\n\u001b[1;32m   2365\u001b[0m \"\"\"\n\u001b[0;32m-> 2366\u001b[0m cpdef _add_(self, other):\n\u001b[1;32m   2367\u001b[0m     \"\"\"\n\u001b[1;32m   2368\u001b[0m     Abstract addition method\n",
      "File \u001b[0;32m/usr/lib/python3.10/site-packages/sage/schemes/elliptic_curves/ell_point.py:667\u001b[0m, in \u001b[0;36mEllipticCurvePoint_field._add_\u001b[0;34m(self, right)\u001b[0m\n\u001b[1;32m    665\u001b[0m     N1 \u001b[38;5;241m=\u001b[39m N\u001b[38;5;241m.\u001b[39mgcd(Integer(\u001b[38;5;241m2\u001b[39m\u001b[38;5;241m*\u001b[39my1 \u001b[38;5;241m+\u001b[39m a1\u001b[38;5;241m*\u001b[39mx1 \u001b[38;5;241m+\u001b[39m a3))\n\u001b[1;32m    666\u001b[0m     N2 \u001b[38;5;241m=\u001b[39m N\u001b[38;5;241m/\u001b[39m\u001b[38;5;241m/\u001b[39mN1\n\u001b[0;32m--> 667\u001b[0m     \u001b[38;5;28;01mraise\u001b[39;00m \u001b[38;5;167;01mZeroDivisionError\u001b[39;00m(\u001b[38;5;124m\"\u001b[39m\u001b[38;5;124mInverse of \u001b[39m\u001b[38;5;132;01m%s\u001b[39;00m\u001b[38;5;124m does not exist (characteristic = \u001b[39m\u001b[38;5;132;01m%s\u001b[39;00m\u001b[38;5;124m = \u001b[39m\u001b[38;5;132;01m%s\u001b[39;00m\u001b[38;5;124m*\u001b[39m\u001b[38;5;132;01m%s\u001b[39;00m\u001b[38;5;124m)\u001b[39m\u001b[38;5;124m\"\u001b[39m \u001b[38;5;241m%\u001b[39m (\u001b[38;5;241m2\u001b[39m\u001b[38;5;241m*\u001b[39my1 \u001b[38;5;241m+\u001b[39m a1\u001b[38;5;241m*\u001b[39mx1 \u001b[38;5;241m+\u001b[39m a3, N, N1, N2))\n\u001b[1;32m    668\u001b[0m \u001b[38;5;28;01melse\u001b[39;00m:\n\u001b[1;32m    669\u001b[0m     \u001b[38;5;28;01mraise\u001b[39;00m \u001b[38;5;167;01mZeroDivisionError\u001b[39;00m(\u001b[38;5;124m\"\u001b[39m\u001b[38;5;124mInverse of \u001b[39m\u001b[38;5;132;01m%s\u001b[39;00m\u001b[38;5;124m does not exist\u001b[39m\u001b[38;5;124m\"\u001b[39m \u001b[38;5;241m%\u001b[39m (\u001b[38;5;241m2\u001b[39m\u001b[38;5;241m*\u001b[39my1 \u001b[38;5;241m+\u001b[39m a1\u001b[38;5;241m*\u001b[39mx1 \u001b[38;5;241m+\u001b[39m a3))\n",
      "\u001b[0;31mZeroDivisionError\u001b[0m: Inverse of 8 does not exist (characteristic = 10 = 2*5)"
     ]
    }
   ],
   "source": [
    "P + P"
   ]
  },
  {
   "cell_type": "code",
   "execution_count": 46,
   "id": "7c694a60",
   "metadata": {},
   "outputs": [
    {
     "ename": "ZeroDivisionError",
     "evalue": "Inverse of 8 does not exist (characteristic = 10 = 2*5)",
     "output_type": "error",
     "traceback": [
      "\u001b[0;31m---------------------------------------------------------------------------\u001b[0m",
      "\u001b[0;31mZeroDivisionError\u001b[0m                         Traceback (most recent call last)",
      "File \u001b[0;32m/usr/lib/python3.10/site-packages/sage/schemes/elliptic_curves/ell_point.py:672\u001b[0m, in \u001b[0;36mEllipticCurvePoint_field._add_\u001b[0;34m(self, right)\u001b[0m\n\u001b[1;32m    671\u001b[0m \u001b[38;5;28;01mtry\u001b[39;00m:\n\u001b[0;32m--> 672\u001b[0m     m \u001b[38;5;241m=\u001b[39m \u001b[43m(\u001b[49m\u001b[43my1\u001b[49m\u001b[38;5;241;43m-\u001b[39;49m\u001b[43my2\u001b[49m\u001b[43m)\u001b[49m\u001b[38;5;241;43m/\u001b[39;49m\u001b[43m(\u001b[49m\u001b[43mx1\u001b[49m\u001b[38;5;241;43m-\u001b[39;49m\u001b[43mx2\u001b[49m\u001b[43m)\u001b[49m\n\u001b[1;32m    673\u001b[0m \u001b[38;5;28;01mexcept\u001b[39;00m \u001b[38;5;167;01mZeroDivisionError\u001b[39;00m:\n",
      "File \u001b[0;32m/usr/lib/python3.10/site-packages/sage/structure/element.pyx:1736\u001b[0m, in \u001b[0;36msage.structure.element.Element.__truediv__ (build/cythonized/sage/structure/element.c:13268)\u001b[0;34m()\u001b[0m\n\u001b[1;32m   1735\u001b[0m if HAVE_SAME_PARENT(cl):\n\u001b[0;32m-> 1736\u001b[0m     return (<Element>left)._div_(right)\n\u001b[1;32m   1737\u001b[0m if BOTH_ARE_ELEMENT(cl):\n",
      "File \u001b[0;32m/usr/lib/python3.10/site-packages/sage/rings/finite_rings/integer_mod.pyx:2619\u001b[0m, in \u001b[0;36msage.rings.finite_rings.integer_mod.IntegerMod_int._div_ (build/cythonized/sage/rings/finite_rings/integer_mod.c:29035)\u001b[0;34m()\u001b[0m\n\u001b[1;32m   2618\u001b[0m if right_inverse is None:\n\u001b[0;32m-> 2619\u001b[0m     raise ZeroDivisionError(f\"inverse of Mod({right}, {self.__modulus.sageInteger}) does not exist\")\n\u001b[1;32m   2620\u001b[0m else:\n",
      "\u001b[0;31mZeroDivisionError\u001b[0m: inverse of Mod(8, 10) does not exist",
      "\nDuring handling of the above exception, another exception occurred:\n",
      "\u001b[0;31mZeroDivisionError\u001b[0m                         Traceback (most recent call last)",
      "Input \u001b[0;32mIn [46]\u001b[0m, in \u001b[0;36m<cell line: 1>\u001b[0;34m()\u001b[0m\n\u001b[0;32m----> 1\u001b[0m \u001b[43mP\u001b[49m\u001b[43m \u001b[49m\u001b[38;5;241;43m+\u001b[39;49m\u001b[43m \u001b[49m\u001b[43mQ\u001b[49m\n",
      "File \u001b[0;32m/usr/lib/python3.10/site-packages/sage/structure/element.pyx:1230\u001b[0m, in \u001b[0;36msage.structure.element.Element.__add__ (build/cythonized/sage/structure/element.c:11069)\u001b[0;34m()\u001b[0m\n\u001b[1;32m   1228\u001b[0m cdef int cl = classify_elements(left, right)\n\u001b[1;32m   1229\u001b[0m if HAVE_SAME_PARENT(cl):\n\u001b[0;32m-> 1230\u001b[0m     return (<Element>left)._add_(right)\n\u001b[1;32m   1231\u001b[0m # Left and right are Sage elements => use coercion model\n\u001b[1;32m   1232\u001b[0m if BOTH_ARE_ELEMENT(cl):\n",
      "File \u001b[0;32m/usr/lib/python3.10/site-packages/sage/structure/element.pyx:2366\u001b[0m, in \u001b[0;36msage.structure.element.ModuleElement._add_ (build/cythonized/sage/structure/element.c:15680)\u001b[0;34m()\u001b[0m\n\u001b[1;32m   2364\u001b[0m Generic element of a module.\n\u001b[1;32m   2365\u001b[0m \"\"\"\n\u001b[0;32m-> 2366\u001b[0m cpdef _add_(self, other):\n\u001b[1;32m   2367\u001b[0m     \"\"\"\n\u001b[1;32m   2368\u001b[0m     Abstract addition method\n",
      "File \u001b[0;32m/usr/lib/python3.10/site-packages/sage/schemes/elliptic_curves/ell_point.py:679\u001b[0m, in \u001b[0;36mEllipticCurvePoint_field._add_\u001b[0;34m(self, right)\u001b[0m\n\u001b[1;32m    677\u001b[0m     N1 \u001b[38;5;241m=\u001b[39m N\u001b[38;5;241m.\u001b[39mgcd(Integer(x1\u001b[38;5;241m-\u001b[39mx2))\n\u001b[1;32m    678\u001b[0m     N2 \u001b[38;5;241m=\u001b[39m N\u001b[38;5;241m/\u001b[39m\u001b[38;5;241m/\u001b[39mN1\n\u001b[0;32m--> 679\u001b[0m     \u001b[38;5;28;01mraise\u001b[39;00m \u001b[38;5;167;01mZeroDivisionError\u001b[39;00m(\u001b[38;5;124m\"\u001b[39m\u001b[38;5;124mInverse of \u001b[39m\u001b[38;5;132;01m%s\u001b[39;00m\u001b[38;5;124m does not exist (characteristic = \u001b[39m\u001b[38;5;132;01m%s\u001b[39;00m\u001b[38;5;124m = \u001b[39m\u001b[38;5;132;01m%s\u001b[39;00m\u001b[38;5;124m*\u001b[39m\u001b[38;5;132;01m%s\u001b[39;00m\u001b[38;5;124m)\u001b[39m\u001b[38;5;124m\"\u001b[39m \u001b[38;5;241m%\u001b[39m (x1\u001b[38;5;241m-\u001b[39mx2, N, N1, N2))\n\u001b[1;32m    680\u001b[0m \u001b[38;5;28;01melse\u001b[39;00m:\n\u001b[1;32m    681\u001b[0m     \u001b[38;5;28;01mraise\u001b[39;00m \u001b[38;5;167;01mZeroDivisionError\u001b[39;00m(\u001b[38;5;124m\"\u001b[39m\u001b[38;5;124mInverse of \u001b[39m\u001b[38;5;132;01m%s\u001b[39;00m\u001b[38;5;124m does not exist\u001b[39m\u001b[38;5;124m\"\u001b[39m \u001b[38;5;241m%\u001b[39m (x1\u001b[38;5;241m-\u001b[39mx2))\n",
      "\u001b[0;31mZeroDivisionError\u001b[0m: Inverse of 8 does not exist (characteristic = 10 = 2*5)"
     ]
    }
   ],
   "source": [
    "P + Q #error here, modular inversion"
   ]
  },
  {
   "cell_type": "code",
   "execution_count": null,
   "id": "8ba42013",
   "metadata": {},
   "outputs": [],
   "source": [
    "# Exercise:\n",
    "\n",
    "# Given E: y^2 = x^3 + x + 3 defined over Z/11Z\n",
    "\n",
    "# Use the Jacobi/Kronecker symbols to determine which y-coordinates are possible on E\n",
    "# e.g., (5/11) = 1, 5 = 16 = 4^2 = 1^3 + 1 + 3 mod 11\n",
    "# jacobi_symbol(), kronecker()\n",
    "\n",
    "# y^2 = k where k = x^3 + x + 3"
   ]
  },
  {
   "cell_type": "code",
   "execution_count": null,
   "id": "a62cda73",
   "metadata": {},
   "outputs": [],
   "source": [
    "# Exercise:\n",
    "# Implement group law on the elliptic curve y^2 = x^3 + Ax + B defined over Z/NZ, raise suitable errors at each step\n",
    "# Checks: discriminant, division by 0 in P+Q, doubling or adding points, point at infinity\n",
    "# functions: Integers(N),...\n",
    "# Output: (x,y)\n",
    "\n",
    "def P_plus_Q(A,B,N,P,Q):\n",
    "    return"
   ]
  },
  {
   "cell_type": "markdown",
   "id": "97f0afca",
   "metadata": {},
   "source": [
    "Lenstra's elliptic curve factorisation method\n",
    "\n",
    "Ideas: use Pollard p-1 on elliptic curves\n",
    "\n",
    "Input: N = to be factored\n",
    "\n",
    "Output: factorisation of N\n",
    "\n",
    "Algorithm:\n",
    "- random A,a,b mod N\n",
    "- set P = (a,b) and B = b^2 - a^3 - A*a mod N\n",
    "- set E : y^2 = x^3 + A*x + B\n",
    "- consider list ```[P,2!P,3!p,..., k!P]```\n",
    "- if error occurs at ```k!P```, report k\n",
    "- if 1< k < N, return gcd(k,N), restart with N = N//gcd(k,N), and different A,a,b\n",
    "- elif k = N, restart with different A,a,b\n",
    "\n",
    "Hint:\n",
    "- check discriminant\n",
    "- remember that n! = n*(n-1)! + repeated doubling\n",
    "- error occurs when modular inversion fails"
   ]
  },
  {
   "cell_type": "code",
   "execution_count": null,
   "id": "7badf71b",
   "metadata": {},
   "outputs": [],
   "source": [
    "def lenstra_ecm(N):\n",
    "    return"
   ]
  },
  {
   "cell_type": "code",
   "execution_count": null,
   "id": "347300d0",
   "metadata": {},
   "outputs": [],
   "source": []
  },
  {
   "cell_type": "code",
   "execution_count": null,
   "id": "52ebd521",
   "metadata": {},
   "outputs": [],
   "source": [
    "# Exercise:\n",
    "# N = 5959\n",
    "# E: y^2 = x^3 + Ax + 1 with (0,1) on it\n",
    "# Find a factorisation of N using ECM by picking a suitable A"
   ]
  },
  {
   "cell_type": "code",
   "execution_count": null,
   "id": "9e73f759",
   "metadata": {},
   "outputs": [],
   "source": []
  },
  {
   "cell_type": "markdown",
   "id": "fbd30b9b",
   "metadata": {},
   "source": [
    "Pollard's p-1:\n",
    "\n",
    "Observe that if N = pq, with p,q primes and p-1 having small factors, then\n",
    "- Fermat's little theorem: $a^{K(p-1)} \\equiv 1 \\pmod{p}$\n",
    "\n",
    "For large enough $i$, suppose $p-1| i!$, then $x = a^{i!} \\equiv 1 \\pmod{p}$, so $p | x-1$ and if $p | n$, we get $p | gcd(x-1,n)$\n",
    "\n",
    "\n",
    "Algorithm:\n",
    "\n",
    "Input: - N = to be factored\n",
    "       - B = smooth bound\n",
    "\n",
    "- set a = 2\n",
    "- for i in [2,...,B], compute a^i! mod N\n",
    "- if d = gcd(a^i - 1, N) > 1, record d (and factorisation)\n",
    "- replace N = N // d"
   ]
  },
  {
   "cell_type": "code",
   "execution_count": null,
   "id": "74650d73",
   "metadata": {},
   "outputs": [],
   "source": []
  }
 ],
 "metadata": {
  "kernelspec": {
   "display_name": "SageMath 9.5",
   "language": "sage",
   "name": "sagemath"
  },
  "language_info": {
   "codemirror_mode": {
    "name": "ipython",
    "version": 3
   },
   "file_extension": ".py",
   "mimetype": "text/x-python",
   "name": "python",
   "nbconvert_exporter": "python",
   "pygments_lexer": "ipython3",
   "version": "3.10.2"
  }
 },
 "nbformat": 4,
 "nbformat_minor": 5
}
