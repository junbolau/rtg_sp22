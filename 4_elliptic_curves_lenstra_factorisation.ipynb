{
 "cells": [
  {
   "cell_type": "markdown",
   "id": "27f9f6f5",
   "metadata": {},
   "source": [
    "An elliptic curve defined over K is of the form: $$y^2 = x^3 + Ax + B$$ with $$4A^3 + 27B^2 \\not = 0$$\n",
    "\n",
    "- the condition is to ensure there are no repeated (cubic) roots\n",
    "\n",
    "We will work with finite fields (or rings)\n",
    "\n",
    "- for example, we could think of the above equation $\\pmod{N}$"
   ]
  },
  {
   "cell_type": "code",
   "execution_count": null,
   "id": "1a69734c",
   "metadata": {},
   "outputs": [],
   "source": [
    "N = 10\n",
    "R = Integers(N)\n",
    "E = EllipticCurve(R,[1,4])"
   ]
  },
  {
   "cell_type": "code",
   "execution_count": null,
   "id": "787f847c",
   "metadata": {},
   "outputs": [],
   "source": [
    "E"
   ]
  },
  {
   "cell_type": "code",
   "execution_count": null,
   "id": "27cee099",
   "metadata": {},
   "outputs": [],
   "source": [
    "for a in range(10):\n",
    "    for b in range(10):\n",
    "        if (b^2) % N == (a^3 + 1*a + 4) % N:\n",
    "            print(a,b)"
   ]
  },
  {
   "cell_type": "code",
   "execution_count": null,
   "id": "026bb092",
   "metadata": {},
   "outputs": [],
   "source": [
    "E.points() #Doesn't work when E is defined over general rings"
   ]
  },
  {
   "cell_type": "code",
   "execution_count": null,
   "id": "c9913ea2",
   "metadata": {},
   "outputs": [],
   "source": [
    "#define a point on E, doesn't matter if it is a ring\n",
    "P = E(1,4)\n",
    "Q = E(3,8)"
   ]
  },
  {
   "cell_type": "markdown",
   "id": "def0d2f7",
   "metadata": {},
   "source": [
    "Points on elliptic curves have the structure of a group, with the group law given by:\n",
    "    \n",
    "$$E : y^2 = x^3+Ax+B.$$\n",
    "\n",
    "- $P + Q$ for $x_P \\not = x_Q$ is given by\n",
    "  - *Step 1:* $\\quad \\lambda = \\displaystyle (y_Q - y_P)(x_Q- x_P)^{-1} \\quad $ (slope of the line through $P$ and $Q$)\n",
    "  - *Step 2:* $\\quad x _R = \\lambda^2 - x_Q - x_P, \\quad y_R = y_P + \\lambda(x_R - x_P)$\n",
    "  - *Step 3:* $\\quad P + Q = (x_R, - y_R)$\n",
    "- $P + Q$ for $x_P = x_Q$ is given by\n",
    "  - *Step 1:* $\\quad \\lambda = \\displaystyle (3x_P^2 + A)(2y_P)^{-1} \\quad $ (slope of tangent at $P$)\n",
    "  - *Step 2:* $\\quad x_R = \\lambda^2  - 2 x_P, \\quad  y_R = y_P + \\lambda(x_R - x_P)$\n",
    "  - *Step 3:* $\\quad 2P =  P+ P = (x_R, - y_R)$\n",
    "- $O = (0:1:0)$ is the identity\n",
    "- Associativity is harder to check (skip)\n",
    "- Inverse of $P = (x_P,y_P)$ is $-P = (x_P, -y_P)$\n",
    "\n",
    "Related webpage on [Elliptic curves over finite fields](https://doc.sagemath.org/html/en/reference/arithmetic_curves/sage/schemes/elliptic_curves/ell_finite_field.html)"
   ]
  },
  {
   "cell_type": "code",
   "execution_count": null,
   "id": "7ffef3c8",
   "metadata": {},
   "outputs": [],
   "source": [
    "p = random_prime(2^8)\n",
    "F = GF(p)\n",
    "E = EllipticCurve(F,[1,2])"
   ]
  },
  {
   "cell_type": "code",
   "execution_count": null,
   "id": "809b7ab8",
   "metadata": {},
   "outputs": [],
   "source": [
    "E.points()"
   ]
  },
  {
   "cell_type": "code",
   "execution_count": null,
   "id": "beb0d95d",
   "metadata": {},
   "outputs": [],
   "source": [
    "#random point on curve\n",
    "\n",
    "P = E.random_element()\n",
    "Q = E.random_point()"
   ]
  },
  {
   "cell_type": "code",
   "execution_count": null,
   "id": "d04d42d7",
   "metadata": {},
   "outputs": [],
   "source": [
    "3*P , P + Q, E(0)"
   ]
  },
  {
   "cell_type": "code",
   "execution_count": null,
   "id": "f4fde378",
   "metadata": {},
   "outputs": [],
   "source": [
    "P.order(), Q.order()"
   ]
  },
  {
   "cell_type": "code",
   "execution_count": null,
   "id": "44528ebe",
   "metadata": {},
   "outputs": [],
   "source": [
    "P.order()*P == E(0) #identity element"
   ]
  },
  {
   "cell_type": "code",
   "execution_count": null,
   "id": "067a2eeb",
   "metadata": {},
   "outputs": [],
   "source": [
    "E.cardinality(),len(E.points()), E.count_points(), E.order()"
   ]
  },
  {
   "cell_type": "code",
   "execution_count": null,
   "id": "6cb14372",
   "metadata": {},
   "outputs": [],
   "source": [
    "print(E.order())\n",
    "print(E.abelian_group())"
   ]
  },
  {
   "cell_type": "code",
   "execution_count": null,
   "id": "a86fbb06",
   "metadata": {},
   "outputs": [],
   "source": []
  },
  {
   "cell_type": "code",
   "execution_count": null,
   "id": "005bd183",
   "metadata": {},
   "outputs": [],
   "source": [
    "N = 10\n",
    "R = Integers(N)\n",
    "E = EllipticCurve(R,[1,4])"
   ]
  },
  {
   "cell_type": "code",
   "execution_count": null,
   "id": "a6f385b4",
   "metadata": {},
   "outputs": [],
   "source": [
    "#define a point on E, doesn't matter if it is a ring\n",
    "P = E(1,4)\n",
    "Q = E(3,8)"
   ]
  },
  {
   "cell_type": "code",
   "execution_count": null,
   "id": "c3513914",
   "metadata": {},
   "outputs": [],
   "source": [
    "P + Q #error here, modular inversion"
   ]
  },
  {
   "cell_type": "code",
   "execution_count": null,
   "id": "a6057ec0",
   "metadata": {},
   "outputs": [],
   "source": [
    "# Exercise:\n",
    "\n",
    "# Given E: y^2 = x^3 + x + 3 defined over Z/11Z\n",
    "\n",
    "# Use the Jacobi/Kronecker symbols to determine which y-coordinates are possible on E\n",
    "# e.g., (5/11) = 1, 5 = 16 = 4^2 = 1^3 + 1 + 3 mod 11"
   ]
  },
  {
   "cell_type": "code",
   "execution_count": null,
   "id": "1043bdb4",
   "metadata": {},
   "outputs": [],
   "source": [
    "# Exercise:\n",
    "# Implement group law on the elliptic curve y^2 = x^3 + Ax + B defined over Z/NZ, raise suitable errors at each step\n",
    "# Checks: discriminant, division by 0 in P+Q, doubling or adding points\n",
    "\n",
    "def P_plus_Q(A,B,N):\n",
    "    return"
   ]
  },
  {
   "cell_type": "markdown",
   "id": "e6362c78",
   "metadata": {},
   "source": [
    "Lenstra's elliptic curve factorisation method\n",
    "\n",
    "Ideas: use Pollard p-1 on elliptic curves\n",
    "\n",
    "Input: N = to be factored\n",
    "Output: factorisation of N\n",
    "\n",
    "Algorithm:\n",
    "- random A,a,b mod N\n",
    "- set P = (a,b) and B = b^2 - a^3 - A*a mod N\n",
    "- set E : y^2 = x^3 + A*x + B\n",
    "- consider list ```[P,2!P,3!p,..., k!P]```\n",
    "- if error occurs at ```k!P```, report k\n",
    "- if 1< k < N, return gcd(k,N), restart with N = N//gcd(k,N), and different A,a,b\n",
    "- elif k = N, restart with different A,a,b\n",
    "\n",
    "Hint:\n",
    "- check discriminant\n",
    "- remember that n! = n*(n-1)!\n",
    "- error occurs when modular inversion fails"
   ]
  },
  {
   "cell_type": "code",
   "execution_count": null,
   "id": "7badf71b",
   "metadata": {},
   "outputs": [],
   "source": [
    "def lenstra_ecm(N):\n",
    "    return"
   ]
  },
  {
   "cell_type": "code",
   "execution_count": null,
   "id": "51fd4d50",
   "metadata": {},
   "outputs": [],
   "source": []
  },
  {
   "cell_type": "code",
   "execution_count": null,
   "id": "b125d3be",
   "metadata": {},
   "outputs": [],
   "source": [
    "# Exercise:\n",
    "# N = 5959\n",
    "# E: y^2 = x^3 + Ax + 1 with (0,1) on it\n",
    "# Find a factorisation of N using ECM by picking a suitable A"
   ]
  },
  {
   "cell_type": "code",
   "execution_count": null,
   "id": "028328b4",
   "metadata": {},
   "outputs": [],
   "source": []
  },
  {
   "cell_type": "markdown",
   "id": "060bf282",
   "metadata": {},
   "source": [
    "Pollard's p-1:\n",
    "\n",
    "Observe that if N = pq, with p,q primes and p-1 having small factors, then\n",
    "- Fermat's little theorem: $a^{K(p-1)} \\equiv 1 \\pmod{p}$\n",
    "\n",
    "For large enough $i$, suppose $p-1| i!$, then $x = a^{i!} \\equiv 1 \\pmod{p}$, so $p | x-1$ and if $p | n$, we get $p | gcd(x-1,n)$\n",
    "\n",
    "\n",
    "Algorithm:\n",
    "\n",
    "Input: - N = to be factored\n",
    "       - B = smooth bound\n",
    "\n",
    "- set a = 2\n",
    "- for i in [2,...,B], compute a^i! mod N\n",
    "- if d = gcd(a^i - 1, N) > 1, record d (and factorisation)\n",
    "- replace N = N // d"
   ]
  },
  {
   "cell_type": "code",
   "execution_count": null,
   "id": "4e96fdfa",
   "metadata": {},
   "outputs": [],
   "source": []
  }
 ],
 "metadata": {
  "kernelspec": {
   "display_name": "SageMath 9.5",
   "language": "sage",
   "name": "sagemath"
  },
  "language_info": {
   "codemirror_mode": {
    "name": "ipython",
    "version": 3
   },
   "file_extension": ".py",
   "mimetype": "text/x-python",
   "name": "python",
   "nbconvert_exporter": "python",
   "pygments_lexer": "ipython3",
   "version": "3.10.2"
  }
 },
 "nbformat": 4,
 "nbformat_minor": 5
}
