{
 "cells": [
  {
   "cell_type": "code",
   "execution_count": 1,
   "id": "86e6152a",
   "metadata": {},
   "outputs": [
    {
     "data": {
      "text/plain": [
       "4"
      ]
     },
     "execution_count": 1,
     "metadata": {},
     "output_type": "execute_result"
    }
   ],
   "source": [
    "1 + 3"
   ]
  },
  {
   "cell_type": "code",
   "execution_count": 2,
   "id": "ad560106",
   "metadata": {},
   "outputs": [
    {
     "data": {
      "text/plain": [
       "2 * 3 * 337"
      ]
     },
     "execution_count": 2,
     "metadata": {},
     "output_type": "execute_result"
    }
   ],
   "source": [
    "factor(2022)"
   ]
  },
  {
   "cell_type": "code",
   "execution_count": 3,
   "id": "9fdc6c2e",
   "metadata": {},
   "outputs": [
    {
     "data": {
      "text/plain": [
       "True"
      ]
     },
     "execution_count": 3,
     "metadata": {},
     "output_type": "execute_result"
    }
   ],
   "source": [
    "is_prime(307)"
   ]
  },
  {
   "cell_type": "code",
   "execution_count": 4,
   "id": "72caff3a",
   "metadata": {},
   "outputs": [
    {
     "name": "stdout",
     "output_type": "stream",
     "text": [
      "[ 2  3  4  5]\n",
      "[ 6  7  8  9]\n",
      "[10 11 12 13]\n",
      "[14 15 16 17]\n",
      "(x - 40) * (x + 2) * x^2\n"
     ]
    }
   ],
   "source": [
    "A = matrix(4,4, range(2,18));\n",
    "print(A)\n",
    "print(A.charpoly().factor())"
   ]
  },
  {
   "cell_type": "code",
   "execution_count": 5,
   "id": "5f7429d4",
   "metadata": {},
   "outputs": [
    {
     "data": {
      "text/plain": [
       "Finite Field of size 11"
      ]
     },
     "execution_count": 5,
     "metadata": {},
     "output_type": "execute_result"
    }
   ],
   "source": [
    "F = GF(11);F"
   ]
  },
  {
   "cell_type": "code",
   "execution_count": 6,
   "id": "ee495cae",
   "metadata": {},
   "outputs": [
    {
     "data": {
      "text/plain": [
       "(3, 3)"
      ]
     },
     "execution_count": 6,
     "metadata": {},
     "output_type": "execute_result"
    }
   ],
   "source": [
    "x = F(2);\n",
    "x^8, 256 % 11"
   ]
  },
  {
   "cell_type": "code",
   "execution_count": 7,
   "id": "aefb858d",
   "metadata": {},
   "outputs": [
    {
     "data": {
      "text/plain": [
       "Elliptic Curve defined by y^2 + 2*x*y + 4*y = x^3 + 3*x^2 + 5*x + 6 over Finite Field of size 11"
      ]
     },
     "execution_count": 7,
     "metadata": {},
     "output_type": "execute_result"
    }
   ],
   "source": [
    "E = EllipticCurve(F,[2,3,4,5,6]);\n",
    "E"
   ]
  },
  {
   "cell_type": "code",
   "execution_count": 8,
   "id": "b12b50c7",
   "metadata": {},
   "outputs": [
    {
     "data": {
      "text/plain": [
       "[(0 : 1 : 0), (3 : 5 : 1), (3 : 7 : 1), (4 : 2 : 1), (4 : 8 : 1), (5 : 0 : 1), (5 : 8 : 1), (8 : 6 : 1), (8 : 7 : 1), (9 : 0 : 1), (10 : 1 : 1), (10 : 8 : 1)]"
      ]
     },
     "execution_count": 8,
     "metadata": {},
     "output_type": "execute_result"
    }
   ],
   "source": [
    "E.points()"
   ]
  },
  {
   "cell_type": "code",
   "execution_count": 9,
   "id": "2201be29",
   "metadata": {},
   "outputs": [
    {
     "data": {
      "text/plain": [
       "((10 : 8 : 1), (10 : 1 : 1), (10 : 1 : 1))"
      ]
     },
     "execution_count": 9,
     "metadata": {},
     "output_type": "execute_result"
    }
   ],
   "source": [
    "P = E.random_point();\n",
    "P, 2*P, P + P"
   ]
  },
  {
   "cell_type": "code",
   "execution_count": 10,
   "id": "12cf78a1",
   "metadata": {},
   "outputs": [
    {
     "data": {
      "text/plain": [
       "(3/2*I - 2, -2.00000000000000 + 1.50000000000000*I)"
      ]
     },
     "execution_count": 10,
     "metadata": {},
     "output_type": "execute_result"
    }
   ],
   "source": [
    "z = 1/2 + I*3/2;\n",
    "z^2, (z^2).n()"
   ]
  },
  {
   "cell_type": "markdown",
   "id": "5cd32aae",
   "metadata": {},
   "source": [
    "Problem: Find the sum of all the multiples of 3 or 5 below 1000."
   ]
  },
  {
   "cell_type": "code",
   "execution_count": 11,
   "id": "903ba293",
   "metadata": {},
   "outputs": [
    {
     "name": "stdout",
     "output_type": "stream",
     "text": [
      "233168\n"
     ]
    }
   ],
   "source": [
    "s = 0\n",
    "for i in range(1,1000): # from 1 to 999\n",
    "    if i % 3 == 0 or i % 5 == 0:\n",
    "        s += i\n",
    "print(s)"
   ]
  },
  {
   "cell_type": "code",
   "execution_count": 12,
   "id": "f5d09a9a",
   "metadata": {},
   "outputs": [
    {
     "name": "stdout",
     "output_type": "stream",
     "text": [
      "0\n",
      "1\n",
      "2\n",
      "3\n",
      "4\n",
      "5\n",
      "6\n",
      "7\n",
      "8\n",
      "9\n"
     ]
    }
   ],
   "source": [
    "for i in range(10):\n",
    "    print(i)"
   ]
  },
  {
   "cell_type": "code",
   "execution_count": 19,
   "id": "7196797b",
   "metadata": {},
   "outputs": [
    {
     "data": {
      "text/plain": [
       "[0, 1, 2, 3, 4, 5, 6, 7, 8, 9]"
      ]
     },
     "execution_count": 19,
     "metadata": {},
     "output_type": "execute_result"
    }
   ],
   "source": [
    "[*range(10)] #list"
   ]
  },
  {
   "cell_type": "code",
   "execution_count": 22,
   "id": "9c514bdc",
   "metadata": {},
   "outputs": [],
   "source": [
    "lst = ['a',2,'c']"
   ]
  },
  {
   "cell_type": "code",
   "execution_count": 25,
   "id": "22a1af05",
   "metadata": {},
   "outputs": [
    {
     "name": "stdout",
     "output_type": "stream",
     "text": [
      "a <class 'str'>\n",
      "2 <class 'sage.rings.integer.Integer'>\n",
      "c <class 'str'>\n"
     ]
    }
   ],
   "source": [
    "for i in lst:\n",
    "    print(i,type(i))"
   ]
  },
  {
   "cell_type": "code",
   "execution_count": 30,
   "id": "3fc3247f",
   "metadata": {},
   "outputs": [
    {
     "data": {
      "text/plain": [
       "(<class 'int'>, <class 'sage.rings.integer.Integer'>, <class 'float'>)"
      ]
     },
     "execution_count": 30,
     "metadata": {},
     "output_type": "execute_result"
    }
   ],
   "source": [
    "type(int(10)),type(10),type(float(10))"
   ]
  },
  {
   "cell_type": "code",
   "execution_count": 39,
   "id": "1b644409",
   "metadata": {},
   "outputs": [
    {
     "data": {
      "text/plain": [
       "(<class 'sage.rings.real_mpfr.RealLiteral'>,\n",
       " <class 'sage.rings.rational.Rational'>,\n",
       " <class 'sage.rings.rational.Rational'>,\n",
       " <class 'sage.rings.complex_mpfr.ComplexNumber'>,\n",
       " <class 'sage.rings.finite_rings.integer_mod.IntegerMod_int'>,\n",
       " <class 'sage.rings.integer.Integer'>)"
      ]
     },
     "execution_count": 39,
     "metadata": {},
     "output_type": "execute_result"
    }
   ],
   "source": [
    "type(10.5),type(21/2),type(QQ(10.5)),type(CC(10.5)), type(GF(7)(11)), type(11 % 7)"
   ]
  },
  {
   "cell_type": "code",
   "execution_count": 40,
   "id": "66658476",
   "metadata": {},
   "outputs": [],
   "source": [
    "tup = (1,2,3)"
   ]
  },
  {
   "cell_type": "code",
   "execution_count": 42,
   "id": "5591edb7",
   "metadata": {},
   "outputs": [
    {
     "data": {
      "text/plain": [
       "(<class 'tuple'>, (1, 2, 3))"
      ]
     },
     "execution_count": 42,
     "metadata": {},
     "output_type": "execute_result"
    }
   ],
   "source": [
    "type(tup),tup"
   ]
  },
  {
   "cell_type": "code",
   "execution_count": 43,
   "id": "17f4bd8b",
   "metadata": {},
   "outputs": [],
   "source": [
    "tup2 = (3,4,5)"
   ]
  },
  {
   "cell_type": "code",
   "execution_count": 44,
   "id": "f3ea6954",
   "metadata": {},
   "outputs": [
    {
     "data": {
      "text/plain": [
       "(1, 2, 3, 3, 4, 5)"
      ]
     },
     "execution_count": 44,
     "metadata": {},
     "output_type": "execute_result"
    }
   ],
   "source": [
    "tup + tup2 #concatenation not vector addition"
   ]
  },
  {
   "cell_type": "code",
   "execution_count": 48,
   "id": "2d1932f1",
   "metadata": {},
   "outputs": [
    {
     "data": {
      "text/plain": [
       "Vector space of dimension 3 over Rational Field"
      ]
     },
     "execution_count": 48,
     "metadata": {},
     "output_type": "execute_result"
    }
   ],
   "source": [
    "V = VectorSpace(QQ,3);V"
   ]
  },
  {
   "cell_type": "code",
   "execution_count": 51,
   "id": "208afbce",
   "metadata": {},
   "outputs": [
    {
     "data": {
      "text/plain": [
       "(Vector space of dimension 3 over Rational Field, (1, 2, 3))"
      ]
     },
     "execution_count": 51,
     "metadata": {},
     "output_type": "execute_result"
    }
   ],
   "source": [
    "V(tup).parent(),V(tup)"
   ]
  },
  {
   "cell_type": "code",
   "execution_count": 53,
   "id": "d09c578b",
   "metadata": {},
   "outputs": [],
   "source": [
    "is_prime?"
   ]
  },
  {
   "cell_type": "code",
   "execution_count": null,
   "id": "da7d2554",
   "metadata": {},
   "outputs": [],
   "source": []
  }
 ],
 "metadata": {
  "kernelspec": {
   "display_name": "SageMath 9.5",
   "language": "sage",
   "name": "sagemath"
  },
  "language_info": {
   "codemirror_mode": {
    "name": "ipython",
    "version": 3
   },
   "file_extension": ".py",
   "mimetype": "text/x-python",
   "name": "python",
   "nbconvert_exporter": "python",
   "pygments_lexer": "ipython3",
   "version": "3.10.2"
  }
 },
 "nbformat": 4,
 "nbformat_minor": 5
}
