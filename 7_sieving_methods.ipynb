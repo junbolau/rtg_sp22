{
 "cells": [
  {
   "cell_type": "markdown",
   "id": "652dccb6",
   "metadata": {},
   "source": [
    "We start with one of the oldest sieving methods: Sieve of Eratosthenes\n",
    "\n",
    "Algorithm:\n",
    "1. create a list L = [2,3,4,...n]\n",
    "2. start with p = 2\n",
    "3. add p to prime list P\n",
    "4. remove multiples of p from L\n",
    "5. pick p = smallest number in L\n",
    "6. repeat steps 3-5 until no numbers are left"
   ]
  },
  {
   "cell_type": "markdown",
   "id": "5d2254fc",
   "metadata": {},
   "source": [
    "Example:\n",
    "\n",
    "- L = [2,3,4,5,6,7,8,9,10,11,12], P = [ ]\n",
    "- L = [~~2~~,3,~~4~~,5,~~6~~,7,~~8~~,9,~~10~~,11,~~12~~], P = [ 2 ]\n",
    "- L = [~~2~~,~~3~~,~~4~~,5,~~6~~,7,~~8~~,~~9~~,~~10~~,11,~~12~~], P = [ 2,3 ]\n",
    "- L = [~~2~~,~~3~~,~~4~~,~~5~~,~~6~~,7,~~8~~,~~9~~,~~10~~,11,~~12~~], P = [ 2,3,5 ]\n",
    "- L = [~~2~~,~~3~~,~~4~~,~~5~~,~~6~~,~~7~~,~~8~~,~~9~~,~~10~~,11,~~12~~], P = [ 2,3,5,7 ]\n",
    "- L = [~~2~~,~~3~~,~~4~~,~~5~~,~~6~~,~~7~~,~~8~~,~~9~~,~~10~~,~~11~~,~~12~~], P = [ 2,3,5,7,11 ]"
   ]
  },
  {
   "cell_type": "code",
   "execution_count": 2,
   "id": "9fd288aa",
   "metadata": {},
   "outputs": [
    {
     "name": "stdout",
     "output_type": "stream",
     "text": [
      "p =  2 , L =  [3, 5, 7, 9, 11]\n",
      "p =  3 , L =  [5, 7, 11]\n",
      "p =  5 , L =  [7, 11]\n",
      "p =  7 , L =  [11]\n",
      "p =  11 , L =  []\n",
      "P_lst =  [2, 3, 5, 7, 11]\n"
     ]
    }
   ],
   "source": [
    "#Code\n",
    "N = 12\n",
    "\n",
    "L = [*range(2,N + 1)]\n",
    "P_lst = []\n",
    "while L:\n",
    "    x = L.pop(0)\n",
    "    P_lst.append(x)\n",
    "    L = [i for i in L if i % x != 0]\n",
    "    print(\"p = \", x,\", L = \",L)\n",
    "print(\"P_lst = \", P_lst)"
   ]
  },
  {
   "cell_type": "code",
   "execution_count": null,
   "id": "32742249",
   "metadata": {},
   "outputs": [],
   "source": [
    "# Warm-up exercise: Implement this to factor a number N\n",
    "# Hint: high school factoring"
   ]
  },
  {
   "cell_type": "markdown",
   "id": "c26ab457",
   "metadata": {},
   "source": [
    "Naive quadratic sieve (Fermat factoring)\n",
    "\n",
    "Goal: factor N\n",
    "Idea: use congruence of squares\n",
    "\n",
    "We hope to find $x \\not = y$ such that\n",
    "$$\n",
    "x^2 \\equiv y^2 \\pmod{N} \\implies gcd(x + y, N) \\not = 1 \\text{ or } gcd( x - y,N) \\not = 1\n",
    "$$\n",
    "\n"
   ]
  },
  {
   "cell_type": "code",
   "execution_count": 3,
   "id": "41b77395",
   "metadata": {
    "scrolled": true
   },
   "outputs": [
    {
     "name": "stdout",
     "output_type": "stream",
     "text": [
      "(1, 1, 1)\n",
      "(2, 4, 2^2)\n",
      "(3, 9, 3^2)\n",
      "(4, 16, 2^4)\n",
      "(5, 25, 5^2)\n",
      "(6, 36, 2^2 * 3^2)\n",
      "(7, 49, 7^2)\n",
      "(8, 64, 2^6)\n",
      "(9, 81, 3^4)\n",
      "(10, 100, 2^2 * 5^2)\n",
      "(11, 121, 11^2)\n",
      "(12, 144, 2^4 * 3^2)\n",
      "(13, 169, 13^2)\n",
      "(14, 196, 2^2 * 7^2)\n",
      "(15, 225, 3^2 * 5^2)\n",
      "(16, 256, 2^8)\n",
      "(17, 289, 17^2)\n",
      "(18, 1, 1)\n",
      "(19, 38, 2 * 19)\n",
      "(20, 77, 7 * 11)\n",
      "(21, 118, 2 * 59)\n",
      "(22, 161, 7 * 23)\n",
      "(23, 206, 2 * 103)\n",
      "(24, 253, 11 * 23)\n",
      "(25, 302, 2 * 151)\n",
      "(26, 30, 2 * 3 * 5)\n",
      "(27, 83, 83)\n",
      "(28, 138, 2 * 3 * 23)\n",
      "(29, 195, 3 * 5 * 13)\n",
      "(30, 254, 2 * 127)\n",
      "(31, 315, 3^2 * 5 * 7)\n",
      "(32, 55, 5 * 11)\n",
      "(33, 120, 2^3 * 3 * 5)\n",
      "(34, 187, 11 * 17)\n",
      "(35, 256, 2^8)\n",
      "(36, 4, 2^2)\n",
      "(37, 77, 7 * 11)\n",
      "(38, 152, 2^3 * 19)\n",
      "(39, 229, 229)\n",
      "(40, 308, 2^2 * 7 * 11)\n",
      "(41, 66, 2 * 3 * 11)\n",
      "(42, 149, 149)\n",
      "(43, 234, 2 * 3^2 * 13)\n",
      "(44, 321, 3 * 107)\n",
      "(45, 87, 3 * 29)\n",
      "(46, 178, 2 * 89)\n",
      "(47, 271, 271)\n",
      "(48, 43, 43)\n",
      "(49, 140, 2^2 * 5 * 7)\n",
      "(50, 239, 239)\n",
      "(51, 17, 17)\n",
      "(52, 120, 2^3 * 3 * 5)\n",
      "(53, 225, 3^2 * 5^2)\n",
      "(54, 9, 3^2)\n",
      "(55, 118, 2 * 59)\n",
      "(56, 229, 229)\n",
      "(57, 19, 19)\n",
      "(58, 134, 2 * 67)\n",
      "(59, 251, 251)\n",
      "(60, 47, 47)\n",
      "(61, 168, 2^3 * 3 * 7)\n",
      "(62, 291, 3 * 97)\n",
      "(63, 93, 3 * 31)\n",
      "(64, 220, 2^2 * 5 * 11)\n",
      "(65, 26, 2 * 13)\n",
      "(66, 157, 157)\n",
      "(67, 290, 2 * 5 * 29)\n",
      "(68, 102, 2 * 3 * 17)\n",
      "(69, 239, 239)\n",
      "(70, 55, 5 * 11)\n",
      "(71, 196, 2^2 * 7^2)\n",
      "(72, 16, 2^4)\n",
      "(73, 161, 7 * 23)\n",
      "(74, 308, 2^2 * 7 * 11)\n",
      "(75, 134, 2 * 67)\n",
      "(76, 285, 3 * 5 * 19)\n",
      "(77, 115, 5 * 23)\n",
      "(78, 270, 2 * 3^3 * 5)\n",
      "(79, 104, 2^3 * 13)\n",
      "(80, 263, 263)\n",
      "(81, 101, 101)\n",
      "(82, 264, 2^3 * 3 * 11)\n",
      "(83, 106, 2 * 53)\n",
      "(84, 273, 3 * 7 * 13)\n",
      "(85, 119, 7 * 17)\n",
      "(86, 290, 2 * 5 * 29)\n",
      "(87, 140, 2^2 * 5 * 7)\n",
      "(88, 315, 3^2 * 5 * 7)\n",
      "(89, 169, 13^2)\n",
      "(90, 25, 5^2)\n",
      "(91, 206, 2 * 103)\n",
      "(92, 66, 2 * 3 * 11)\n",
      "(93, 251, 251)\n",
      "(94, 115, 5 * 23)\n",
      "(95, 304, 2^4 * 19)\n",
      "(96, 172, 2^2 * 43)\n",
      "(97, 42, 2 * 3 * 7)\n",
      "(98, 237, 3 * 79)\n",
      "(99, 111, 3 * 37)\n",
      "(100, 310, 2 * 5 * 31)\n",
      "(101, 188, 2^2 * 47)\n",
      "(102, 68, 2^2 * 17)\n",
      "(103, 273, 3 * 7 * 13)\n",
      "(104, 157, 157)\n",
      "(105, 43, 43)\n",
      "(106, 254, 2 * 127)\n",
      "(107, 144, 2^4 * 3^2)\n",
      "(108, 36, 2^2 * 3^2)\n",
      "(109, 253, 11 * 23)\n",
      "(110, 149, 149)\n",
      "(111, 47, 47)\n",
      "(112, 270, 2 * 3^3 * 5)\n",
      "(113, 172, 2^2 * 43)\n",
      "(114, 76, 2^2 * 19)\n",
      "(115, 305, 5 * 61)\n",
      "(116, 213, 3 * 71)\n",
      "(117, 123, 3 * 41)\n",
      "(118, 35, 5 * 7)\n",
      "(119, 272, 2^4 * 17)\n",
      "(120, 188, 2^2 * 47)\n",
      "(121, 106, 2 * 53)\n",
      "(122, 26, 2 * 13)\n",
      "(123, 271, 271)\n",
      "(124, 195, 3 * 5 * 13)\n",
      "(125, 121, 11^2)\n",
      "(126, 49, 7^2)\n",
      "(127, 302, 2 * 151)\n",
      "(128, 234, 2 * 3^2 * 13)\n",
      "(129, 168, 2^3 * 3 * 7)\n",
      "(130, 104, 2^3 * 13)\n",
      "(131, 42, 2 * 3 * 7)\n",
      "(132, 305, 5 * 61)\n",
      "(133, 247, 13 * 19)\n",
      "(134, 191, 191)\n",
      "(135, 137, 137)\n",
      "(136, 85, 5 * 17)\n",
      "(137, 35, 5 * 7)\n",
      "(138, 310, 2 * 5 * 31)\n",
      "(139, 264, 2^3 * 3 * 11)\n",
      "(140, 220, 2^2 * 5 * 11)\n",
      "(141, 178, 2 * 89)\n",
      "(142, 138, 2 * 3 * 23)\n",
      "(143, 100, 2^2 * 5^2)\n",
      "(144, 64, 2^6)\n",
      "(145, 30, 2 * 3 * 5)\n",
      "(146, 321, 3 * 107)\n",
      "(147, 291, 3 * 97)\n",
      "(148, 263, 263)\n",
      "(149, 237, 3 * 79)\n",
      "(150, 213, 3 * 71)\n",
      "(151, 191, 191)\n",
      "(152, 171, 3^2 * 19)\n",
      "(153, 153, 3^2 * 17)\n",
      "(154, 137, 137)\n",
      "(155, 123, 3 * 41)\n",
      "(156, 111, 3 * 37)\n",
      "(157, 101, 101)\n",
      "(158, 93, 3 * 31)\n",
      "(159, 87, 3 * 29)\n",
      "(160, 83, 83)\n"
     ]
    }
   ],
   "source": [
    "# Example\n",
    "\n",
    "N = 323\n",
    "\n",
    "for x in range(1,323//2):\n",
    "    print((x,x^2 % N, factor(x^2 % N)))"
   ]
  },
  {
   "cell_type": "code",
   "execution_count": 4,
   "id": "995a5a23",
   "metadata": {},
   "outputs": [
    {
     "name": "stdout",
     "output_type": "stream",
     "text": [
      "19 17\n"
     ]
    }
   ],
   "source": [
    "# pick x = 10, y = 143\n",
    "assert(143^2 % N == 10^2 % N)\n",
    "\n",
    "print(gcd(143-10,N), gcd(143 + 10,N))"
   ]
  },
  {
   "cell_type": "code",
   "execution_count": 5,
   "id": "7322ec40",
   "metadata": {},
   "outputs": [
    {
     "data": {
      "text/plain": [
       "(17, 19)"
      ]
     },
     "execution_count": 5,
     "metadata": {},
     "output_type": "execute_result"
    }
   ],
   "source": [
    "N/19,N/ 17"
   ]
  },
  {
   "cell_type": "code",
   "execution_count": 42,
   "id": "5c34120a",
   "metadata": {},
   "outputs": [
    {
     "data": {
      "text/plain": [
       "True"
      ]
     },
     "execution_count": 42,
     "metadata": {},
     "output_type": "execute_result"
    }
   ],
   "source": [
    "N == 19*17"
   ]
  },
  {
   "cell_type": "markdown",
   "id": "752919f7",
   "metadata": {},
   "source": [
    "Some potential improvements:\n",
    "\n",
    "- only need to compute $x^2 \\pmod{N}$ from $1, \\ldots, \\lfloor N/2 \\rfloor + 1$\n",
    "- the first instance of a collision $x^2 \\equiv y^2 \\pmod{N}$ may be enough\n",
    "- baby step giant step\n",
    "- $x \\not = \\pm y$"
   ]
  },
  {
   "cell_type": "markdown",
   "id": "4a670e9f",
   "metadata": {},
   "source": [
    "Sub-problem: it  might not be easy to find collision between congruence of squares\n",
    "\n",
    "Fix using partial relations:\n",
    "- compute $a = x^2 \\pmod{N}$\n",
    "- factor $a \\pmod{N}$\n",
    "- find another $b = x'^2 \\pmod{N}$ such that its product with a $\\pmod{N}$ is a square"
   ]
  },
  {
   "cell_type": "code",
   "execution_count": 6,
   "id": "30553c7b",
   "metadata": {},
   "outputs": [
    {
     "data": {
      "text/plain": [
       "(2^3 * 3 * 11, 2 * 3 * 11, 5 * 61)"
      ]
     },
     "execution_count": 6,
     "metadata": {},
     "output_type": "execute_result"
    }
   ],
   "source": [
    "# Example\n",
    "\n",
    "factor(82^2 % N), factor(92^2 % N), factor((82^2 % N)* (92^2 % N) % N)\n",
    "\n",
    "# prime indices = (2,3,5,7,11,...) = (2,3,5,7,11)\n",
    "\n",
    "# exponent vector\n",
    "\n",
    "# 82^2 : (3,1,0,0,1)\n",
    "# 92^2 : (1,1,0,0,1)\n",
    "\n",
    "# (82*92)^2 : (4,2,0,0,2) even\n",
    "\n",
    "# (82*92)^2 == 2^4 * 3^2 * 11^2 = (2^2 * 3 * 11)^2"
   ]
  },
  {
   "cell_type": "code",
   "execution_count": 8,
   "id": "ce8f5f69",
   "metadata": {},
   "outputs": [
    {
     "data": {
      "text/plain": [
       "True"
      ]
     },
     "execution_count": 8,
     "metadata": {},
     "output_type": "execute_result"
    }
   ],
   "source": [
    "(82*92)^2 % N == 5*61"
   ]
  },
  {
   "cell_type": "code",
   "execution_count": 56,
   "id": "1f78a06d",
   "metadata": {},
   "outputs": [
    {
     "data": {
      "text/plain": [
       "(19, 1)"
      ]
     },
     "execution_count": 56,
     "metadata": {},
     "output_type": "execute_result"
    }
   ],
   "source": [
    "gcd(82*92 - 5*61,N),gcd(82*92 + 5*61,N)"
   ]
  },
  {
   "cell_type": "markdown",
   "id": "acbc2fb4",
   "metadata": {},
   "source": [
    "Question: when do we stop, e.g., how many primes factor are we considering?\n",
    "\n",
    "Answer: We consider primes $p < B$ where $B$ is called the smoothness bound"
   ]
  },
  {
   "cell_type": "markdown",
   "id": "af652917",
   "metadata": {},
   "source": [
    "We say x is B-smooth if all prime factors of x are < B\n",
    "\n",
    "- 45 = 3^2 * 5 , this is 10-smooth"
   ]
  },
  {
   "cell_type": "markdown",
   "id": "e5b756ac",
   "metadata": {},
   "source": [
    "Quadratic sieve\n",
    "\n",
    "Algorithm:\n",
    "\n",
    "- Choose a smoothness bound $B$ (there's some formula that can determine this wrt N)\n",
    "- find numbers $b_i$ such that $b_i \\equiv a_i^2 \\pmod{N}$ is $B$-smooth (i.e., all prime factors of $b_i$ are $< B$)\n",
    "- compute their factorisation $\\pmod{N}$\n",
    "- find exponent vectors (linear algebra over $\\mathbf{F}_2$ ) such that product of some $b_i$'s is a square\n",
    "- compute $gcd( a + b,N), gcd(a-b,N)$. If trivial factors, restart with different $a,b$\n"
   ]
  },
  {
   "cell_type": "code",
   "execution_count": null,
   "id": "1c11789a",
   "metadata": {},
   "outputs": [],
   "source": [
    "# Guided exercise (Implementing the quadratic sieve to factor N)\n",
    "\n",
    "N = 191207"
   ]
  },
  {
   "cell_type": "code",
   "execution_count": 12,
   "id": "df057729",
   "metadata": {},
   "outputs": [
    {
     "data": {
      "text/plain": [
       "2.49824331066437"
      ]
     },
     "execution_count": 12,
     "metadata": {},
     "output_type": "execute_result"
    }
   ],
   "source": [
    "log(log(191207)).n()"
   ]
  },
  {
   "cell_type": "markdown",
   "id": "9f8dfdc7",
   "metadata": {},
   "source": [
    "From [Pomerance '08](https://math.dartmouth.edu/~carlp/PDF/qs08.pdf), the smoothness bound $B$ is given by the formula $$ B = exp((1/2 + o(1))((log(N)loglog(N))^{1/2} ) $$\n",
    "\n",
    "You can think of o(1) approaching 0 as $N \\rightarrow \\infty$"
   ]
  },
  {
   "cell_type": "code",
   "execution_count": null,
   "id": "123077ea",
   "metadata": {},
   "outputs": [],
   "source": [
    "# (a) find a smoothness bound B and find primes up to B (e.g., using Eratosthenes)"
   ]
  },
  {
   "cell_type": "code",
   "execution_count": null,
   "id": "d25bae62",
   "metadata": {},
   "outputs": [],
   "source": [
    "# (b) find numbers a_i^2 (mod N) that are B-smooth\n",
    "# Remark: the key here is to check (a_i^2 % N) % p for p < B. Do not use factor(a_i^2 % N)\n",
    "\n",
    "# Example: \n",
    "# 45 = 3^2 * 5 is 20-smooth since the prime factors 3,5 < 20  \n",
    "# 92920 = 2^3 * 5 * 23 * 101 is not 20-smooth since we do not allow prime factors beyond 20"
   ]
  },
  {
   "cell_type": "code",
   "execution_count": null,
   "id": "b553d948",
   "metadata": {},
   "outputs": [],
   "source": [
    "# (b') find the factorisations mod N of such numbers (trial division for example)"
   ]
  },
  {
   "cell_type": "code",
   "execution_count": null,
   "id": "c4dea3b7",
   "metadata": {},
   "outputs": [],
   "source": [
    "# (c) Find an exponent vector, i.e., find a vector v such that v*M = 0 over F_2\n",
    "\n",
    "# Remark: \n",
    "# - this corresponds to finding a square (mod N)\n",
    "# - M is the matrix with columns = prime indices, rows = exponents of a_i^2 mod N\n",
    "\n",
    "# Example: \n",
    "# r_1 = 2*3*11^2 = (1,1,0,0,2)\n",
    "# r_2 = 5*7      = (0,0,1,1,0)\n",
    "# M = [1,1,0,0,2]\n",
    "#     [0,0,1,1,0]\n",
    "\n",
    "F = GF(2)"
   ]
  },
  {
   "cell_type": "code",
   "execution_count": null,
   "id": "e0254be2",
   "metadata": {},
   "outputs": [],
   "source": [
    "# (d) Factor N"
   ]
  },
  {
   "cell_type": "code",
   "execution_count": null,
   "id": "54bd3f99",
   "metadata": {},
   "outputs": [],
   "source": []
  },
  {
   "cell_type": "markdown",
   "id": "d230d3d1",
   "metadata": {},
   "source": [
    "There are a lot of improvements over the years:\n",
    "\n",
    "- theoretical estimates for $B$-smooth numbers: Canfield-Erdős-Pomerance Theorem\n",
    "\n",
    "- sometimes, $x^2 \\pmod{N}$ has size close to $N$. Then, factoring this number $\\pmod{N}$ will become difficult. [Wikipedia](https://en.wikipedia.org/wiki/Quadratic_sieve#How_QS_optimizes_finding_congruences) suggests using the following function for small inputs $x$: \n",
    "\n",
    "$$ f(x) = (\\lceil \\sqrt{N} \\rceil + x)^2  - N$$\n",
    "\n",
    "- we used trial division to check for $B$-smoothness, but there is an implementation which uses an array $T[i]$ to keep track of how many primes $ < B$ divide $f(i)$ by comparing the two quantities $T[i] \"=\" \\sum_{p<B, p |f(i)} log(p)$ and $log |f(i)|$\n",
    "\n",
    "- there are also tricks/techniques for linear algebra over $\\mathbf{F}_2$ if we are dealing with large + sparse matrices (e.g., [block Wiedemann](https://en.wikipedia.org/wiki/Block_Wiedemann_algorithm))\n",
    "\n",
    "- by considering functions that can replace $f(x)$ above, we are led to one of the improvements of QS: multiple polynomial quadratic sieve (MPQS) - allows parallelisation\n",
    "\n",
    "- number field sieve..."
   ]
  },
  {
   "cell_type": "code",
   "execution_count": 13,
   "id": "7b86feb4",
   "metadata": {},
   "outputs": [],
   "source": [
    "M = MatrixSpace(GF(2),10^2,10^6,sparse = True)"
   ]
  },
  {
   "cell_type": "code",
   "execution_count": 14,
   "id": "cee95913",
   "metadata": {},
   "outputs": [
    {
     "data": {
      "text/plain": [
       "Full MatrixSpace of 100 by 1000000 sparse matrices over Finite Field of size 2"
      ]
     },
     "execution_count": 14,
     "metadata": {},
     "output_type": "execute_result"
    }
   ],
   "source": [
    "M"
   ]
  },
  {
   "cell_type": "code",
   "execution_count": null,
   "id": "b637cafe",
   "metadata": {},
   "outputs": [],
   "source": []
  }
 ],
 "metadata": {
  "kernelspec": {
   "display_name": "SageMath 9.5",
   "language": "sage",
   "name": "sagemath"
  },
  "language_info": {
   "codemirror_mode": {
    "name": "ipython",
    "version": 3
   },
   "file_extension": ".py",
   "mimetype": "text/x-python",
   "name": "python",
   "nbconvert_exporter": "python",
   "pygments_lexer": "ipython3",
   "version": "3.10.2"
  }
 },
 "nbformat": 4,
 "nbformat_minor": 5
}
