{
 "cells": [
  {
   "cell_type": "code",
   "execution_count": 119,
   "id": "429c3990",
   "metadata": {},
   "outputs": [],
   "source": [
    "from sage.groups.group import Group, FiniteGroup, AbelianGroup, is_Group"
   ]
  },
  {
   "cell_type": "markdown",
   "id": "85678eb2",
   "metadata": {},
   "source": [
    "# Categories of groups"
   ]
  },
  {
   "cell_type": "code",
   "execution_count": 2,
   "id": "786448f7",
   "metadata": {},
   "outputs": [
    {
     "data": {
      "text/plain": [
       "(<sage.groups.group.Group object at 0x11a709740>,\n",
       " True,\n",
       " Category of groups,\n",
       " [Category of groups,\n",
       "  Category of monoids,\n",
       "  Category of semigroups,\n",
       "  Category of inverse unital magmas,\n",
       "  Category of unital magmas,\n",
       "  Category of magmas,\n",
       "  Category of sets,\n",
       "  Category of sets with partial maps,\n",
       "  Category of objects])"
      ]
     },
     "execution_count": 2,
     "metadata": {},
     "output_type": "execute_result"
    }
   ],
   "source": [
    "G = Group()\n",
    "G, is_Group(G), G.category(), G.categories()"
   ]
  },
  {
   "cell_type": "code",
   "execution_count": 3,
   "id": "f8ba9430",
   "metadata": {},
   "outputs": [
    {
     "ename": "NotImplementedError",
     "evalue": "",
     "output_type": "error",
     "traceback": [
      "\u001b[0;31m---------------------------------------------------------------------------\u001b[0m",
      "\u001b[0;31mNotImplementedError\u001b[0m                       Traceback (most recent call last)",
      "\u001b[0;32m/var/folders/zs/_zq_wtz11174g_p4097m7lzm0000gn/T/ipykernel_35189/1831046863.py\u001b[0m in \u001b[0;36m<module>\u001b[0;34m\u001b[0m\n\u001b[0;32m----> 1\u001b[0;31m \u001b[0mG\u001b[0m\u001b[0;34m.\u001b[0m\u001b[0mis_abelian\u001b[0m\u001b[0;34m(\u001b[0m\u001b[0;34m)\u001b[0m \u001b[0;31m# error\u001b[0m\u001b[0;34m\u001b[0m\u001b[0;34m\u001b[0m\u001b[0m\n\u001b[0m",
      "\u001b[0;32m/private/var/tmp/sage-9.5-current/local/var/lib/sage/venv-python3.9.9/lib/python3.9/site-packages/sage/groups/group.pyx\u001b[0m in \u001b[0;36msage.groups.group.Group.is_abelian (build/cythonized/sage/groups/group.c:2678)\u001b[0;34m()\u001b[0m\n\u001b[1;32m    130\u001b[0m             \u001b[0mNotImplementedError\u001b[0m\u001b[0;34m\u001b[0m\u001b[0;34m\u001b[0m\u001b[0m\n\u001b[1;32m    131\u001b[0m         \"\"\"\n\u001b[0;32m--> 132\u001b[0;31m         \u001b[0;32mraise\u001b[0m \u001b[0mNotImplementedError\u001b[0m\u001b[0;34m\u001b[0m\u001b[0;34m\u001b[0m\u001b[0m\n\u001b[0m\u001b[1;32m    133\u001b[0m \u001b[0;34m\u001b[0m\u001b[0m\n\u001b[1;32m    134\u001b[0m     \u001b[0;32mdef\u001b[0m \u001b[0mis_commutative\u001b[0m\u001b[0;34m(\u001b[0m\u001b[0mself\u001b[0m\u001b[0;34m)\u001b[0m\u001b[0;34m:\u001b[0m\u001b[0;34m\u001b[0m\u001b[0;34m\u001b[0m\u001b[0m\n",
      "\u001b[0;31mNotImplementedError\u001b[0m: "
     ]
    }
   ],
   "source": [
    "G.is_abelian() # error"
   ]
  },
  {
   "cell_type": "code",
   "execution_count": 4,
   "id": "696fef03",
   "metadata": {},
   "outputs": [
    {
     "data": {
      "text/plain": [
       "(<sage.groups.group.AbelianGroup object at 0x12a2a9040>,\n",
       " True,\n",
       " True,\n",
       " Category of groups,\n",
       " [Category of groups,\n",
       "  Category of monoids,\n",
       "  Category of semigroups,\n",
       "  Category of inverse unital magmas,\n",
       "  Category of unital magmas,\n",
       "  Category of magmas,\n",
       "  Category of sets,\n",
       "  Category of sets with partial maps,\n",
       "  Category of objects])"
      ]
     },
     "execution_count": 4,
     "metadata": {},
     "output_type": "execute_result"
    }
   ],
   "source": [
    "G = AbelianGroup()\n",
    "G, G.is_abelian(), is_Group(G), G.category(), G.categories()"
   ]
  },
  {
   "cell_type": "code",
   "execution_count": 5,
   "id": "3d724146",
   "metadata": {},
   "outputs": [
    {
     "data": {
      "text/plain": [
       "(<sage.groups.group.FiniteGroup object at 0x12a2a2f20>,\n",
       " True,\n",
       " True,\n",
       " Category of finite groups,\n",
       " [Category of finite groups,\n",
       "  Category of finite monoids,\n",
       "  Category of groups,\n",
       "  Category of monoids,\n",
       "  Category of finite semigroups,\n",
       "  Category of semigroups,\n",
       "  Category of inverse unital magmas,\n",
       "  Category of unital magmas,\n",
       "  Category of magmas,\n",
       "  Category of finite sets,\n",
       "  Category of sets,\n",
       "  Category of sets with partial maps,\n",
       "  Category of objects])"
      ]
     },
     "execution_count": 5,
     "metadata": {},
     "output_type": "execute_result"
    }
   ],
   "source": [
    "G = FiniteGroup()\n",
    "G, G.is_finite(), is_Group(G), G.category(), G.categories()"
   ]
  },
  {
   "cell_type": "code",
   "execution_count": 6,
   "id": "7ce5cfab",
   "metadata": {},
   "outputs": [
    {
     "data": {
      "text/plain": [
       "(Free Group on generators {a, b}, True)"
      ]
     },
     "execution_count": 6,
     "metadata": {},
     "output_type": "execute_result"
    }
   ],
   "source": [
    "G.<a,b> = FreeGroup()\n",
    "G, is_Group(G)"
   ]
  },
  {
   "cell_type": "code",
   "execution_count": null,
   "id": "d751e071",
   "metadata": {},
   "outputs": [],
   "source": [
    "# Press <tab>\n",
    "groups.\n",
    "groups.permutation.\n",
    "groups.matrix."
   ]
  },
  {
   "cell_type": "markdown",
   "id": "6eb4c0bb",
   "metadata": {},
   "source": [
    "# Cyclic groups"
   ]
  },
  {
   "cell_type": "code",
   "execution_count": 7,
   "id": "6c44f69c",
   "metadata": {},
   "outputs": [
    {
     "data": {
      "text/plain": [
       "(Cyclic group of order 8 as a permutation group, 'C8')"
      ]
     },
     "execution_count": 7,
     "metadata": {},
     "output_type": "execute_result"
    }
   ],
   "source": [
    "G = groups.permutation.Cyclic(8) # C_n = Z_n = {[0]_8,[1]_8,...,[7]_8}\n",
    "G, G.structure_description()"
   ]
  },
  {
   "cell_type": "code",
   "execution_count": 8,
   "id": "74de08eb",
   "metadata": {
    "scrolled": true
   },
   "outputs": [
    {
     "name": "stdout",
     "output_type": "stream",
     "text": [
      "Elements of G:\n",
      "------------------\n",
      "g = ()\n",
      "g = (1,2,3,4,5,6,7,8)\n",
      "g = (1,3,5,7)(2,4,6,8)\n",
      "g = (1,4,7,2,5,8,3,6)\n",
      "g = (1,5)(2,6)(3,7)(4,8)\n",
      "g = (1,6,3,8,5,2,7,4)\n",
      "g = (1,7,5,3)(2,8,6,4)\n",
      "g = (1,8,7,6,5,4,3,2)\n"
     ]
    },
    {
     "data": {
      "text/plain": [
       "[(),\n",
       " (1,2,3,4,5,6,7,8),\n",
       " (1,3,5,7)(2,4,6,8),\n",
       " (1,4,7,2,5,8,3,6),\n",
       " (1,5)(2,6)(3,7)(4,8),\n",
       " (1,6,3,8,5,2,7,4),\n",
       " (1,7,5,3)(2,8,6,4),\n",
       " (1,8,7,6,5,4,3,2)]"
      ]
     },
     "execution_count": 8,
     "metadata": {},
     "output_type": "execute_result"
    }
   ],
   "source": [
    "print(\"Elements of G:\\n------------------\")\n",
    "for g in G:\n",
    "    print(f\"g = {g}\")\n",
    "\n",
    "G.list() \n",
    "# S_n is nice. In S_n pick (1,2,...,8), \n",
    "# which has order 8. C_8 = <(1,2,...,8)> (group generated by (1,2,...,8))"
   ]
  },
  {
   "cell_type": "code",
   "execution_count": 9,
   "id": "769985d7",
   "metadata": {},
   "outputs": [
    {
     "ename": "NameError",
     "evalue": "name 'C8' is not defined",
     "output_type": "error",
     "traceback": [
      "\u001b[0;31m---------------------------------------------------------------------------\u001b[0m",
      "\u001b[0;31mNameError\u001b[0m                                 Traceback (most recent call last)",
      "\u001b[0;32m/var/folders/zs/_zq_wtz11174g_p4097m7lzm0000gn/T/ipykernel_35189/581076995.py\u001b[0m in \u001b[0;36m<module>\u001b[0;34m\u001b[0m\n\u001b[0;32m----> 1\u001b[0;31m \u001b[0mC8\u001b[0m\u001b[0;34m.\u001b[0m\u001b[0mis_Group\u001b[0m\u001b[0;34m(\u001b[0m\u001b[0;34m)\u001b[0m \u001b[0;31m# error\u001b[0m\u001b[0;34m\u001b[0m\u001b[0;34m\u001b[0m\u001b[0m\n\u001b[0m",
      "\u001b[0;31mNameError\u001b[0m: name 'C8' is not defined"
     ]
    }
   ],
   "source": [
    "C8.is_Group() # error"
   ]
  },
  {
   "cell_type": "code",
   "execution_count": 11,
   "id": "10c86ad5",
   "metadata": {},
   "outputs": [
    {
     "data": {
      "text/plain": [
       "(Cyclic group of order 8 as a permutation group,\n",
       " True,\n",
       " True,\n",
       " True,\n",
       " 8,\n",
       " True,\n",
       " Subgroup generated by [(1,2,3,4,5,6,7,8)] of (Cyclic group of order 8 as a permutation group),\n",
       " True)"
      ]
     },
     "execution_count": 11,
     "metadata": {},
     "output_type": "execute_result"
    }
   ],
   "source": [
    "G, G.is_abelian(), G.is_finite(), G.is_cyclic(), G.order(), G.is_pgroup(), G.center(), G == G.center() #finish"
   ]
  },
  {
   "cell_type": "code",
   "execution_count": 12,
   "id": "8ae92c1e",
   "metadata": {},
   "outputs": [
    {
     "data": {
      "text/plain": [
       "(Category of finite enumerated permutation groups,\n",
       " [Category of finite enumerated permutation groups,\n",
       "  Category of permutation groups,\n",
       "  Category of finite groups,\n",
       "  Category of finite monoids,\n",
       "  Category of groups,\n",
       "  Category of monoids,\n",
       "  Category of finite finitely generated semigroups,\n",
       "  Category of finitely generated semigroups,\n",
       "  Category of finite semigroups,\n",
       "  Category of semigroups,\n",
       "  Category of finitely generated magmas,\n",
       "  Category of inverse unital magmas,\n",
       "  Category of unital magmas,\n",
       "  Category of magmas,\n",
       "  Category of finite enumerated sets,\n",
       "  Category of enumerated sets,\n",
       "  Category of finite sets,\n",
       "  Category of sets,\n",
       "  Category of sets with partial maps,\n",
       "  Category of objects])"
      ]
     },
     "execution_count": 12,
     "metadata": {},
     "output_type": "execute_result"
    }
   ],
   "source": [
    "G.category(), G.categories()"
   ]
  },
  {
   "cell_type": "code",
   "execution_count": 13,
   "id": "d1202320",
   "metadata": {},
   "outputs": [
    {
     "data": {
      "text/plain": [
       "(Multiplicative Abelian group isomorphic to C8,\n",
       " Finitely presented group < a | a^8 >)"
      ]
     },
     "execution_count": 13,
     "metadata": {},
     "output_type": "execute_result"
    }
   ],
   "source": [
    "G.as_AbelianGroup(), G.as_finitely_presented_group() # Z_8 = Z/8Z"
   ]
  },
  {
   "cell_type": "code",
   "execution_count": 14,
   "id": "bf7bc362",
   "metadata": {},
   "outputs": [
    {
     "data": {
      "text/plain": [
       "(Cyclic group of order 8 as a permutation group,\n",
       " Cyclic group of order 8 as a permutation group,\n",
       " True,\n",
       " True)"
      ]
     },
     "execution_count": 14,
     "metadata": {},
     "output_type": "execute_result"
    }
   ],
   "source": [
    "H = CyclicPermutationGroup(8)\n",
    "G, H, G == H, G.is_isomorphic(H)"
   ]
  },
  {
   "cell_type": "code",
   "execution_count": 15,
   "id": "530355b6",
   "metadata": {},
   "outputs": [
    {
     "data": {
      "text/plain": [
       "(Permutation Group with generators [(1,2,3,4,5,6,7,8)],\n",
       " Permutation Group with generators [('a','b','c','d','e','f','g','h')],\n",
       " True,\n",
       " True)"
      ]
     },
     "execution_count": 15,
     "metadata": {},
     "output_type": "execute_result"
    }
   ],
   "source": [
    "K = PermutationGroup([(1,2,3,4,5,6,7,8)])\n",
    "K1 = PermutationGroup([('a','b','c','d','e','f','g','h')])\n",
    "K, K1, K == G, K == K1"
   ]
  },
  {
   "cell_type": "code",
   "execution_count": 16,
   "id": "f18275e7",
   "metadata": {},
   "outputs": [
    {
     "data": {
      "text/plain": [
       "[Subgroup generated by [()] of (Cyclic group of order 8 as a permutation group),\n",
       " Subgroup generated by [(1,5)(2,6)(3,7)(4,8)] of (Cyclic group of order 8 as a permutation group),\n",
       " Subgroup generated by [(1,3,5,7)(2,4,6,8), (1,5)(2,6)(3,7)(4,8)] of (Cyclic group of order 8 as a permutation group),\n",
       " Subgroup generated by [(1,2,3,4,5,6,7,8), (1,3,5,7)(2,4,6,8), (1,5)(2,6)(3,7)(4,8)] of (Cyclic group of order 8 as a permutation group)]"
      ]
     },
     "execution_count": 16,
     "metadata": {},
     "output_type": "execute_result"
    }
   ],
   "source": [
    "G.subgroups()"
   ]
  },
  {
   "cell_type": "code",
   "execution_count": 17,
   "id": "f1ee7f3a",
   "metadata": {},
   "outputs": [
    {
     "data": {
      "text/plain": [
       "(Permutation Group with generators [(3,4,5), (1,2)],\n",
       " 'C6',\n",
       " Permutation Group with generators [(5,6,7), (3,4), (1,2)],\n",
       " 'C6 x C2',\n",
       " Permutation Group with generators [(6,7,8,9,10,11,12,13), (3,4,5), (1,2)],\n",
       " 'C24 x C2')"
      ]
     },
     "execution_count": 17,
     "metadata": {},
     "output_type": "execute_result"
    }
   ],
   "source": [
    "C2 = CyclicPermutationGroup(2) # (1,2)\n",
    "C3 = CyclicPermutationGroup(3) # (1,2,3)\n",
    "C8 = CyclicPermutationGroup(8) # (1,2,...,8)\n",
    "(\n",
    "    direct_product_permgroups([C2,C3]),\n",
    "    direct_product_permgroups([C2,C3]).structure_description(),\n",
    "    direct_product_permgroups([C2,C2,C3]),\n",
    "    direct_product_permgroups([C2,C2,C3]).structure_description(),\n",
    "    direct_product_permgroups([C2,C3,C8]),\n",
    "    direct_product_permgroups([C2,C3,C8]).structure_description()\n",
    ")"
   ]
  },
  {
   "cell_type": "markdown",
   "id": "6a2264dc",
   "metadata": {},
   "source": [
    "# Permutation groups, S_n"
   ]
  },
  {
   "cell_type": "code",
   "execution_count": 18,
   "id": "38bb280a",
   "metadata": {},
   "outputs": [
    {
     "data": {
      "text/plain": [
       "(Symmetric group of order 3! as a permutation group, 'S3')"
      ]
     },
     "execution_count": 18,
     "metadata": {},
     "output_type": "execute_result"
    }
   ],
   "source": [
    "S3 = SymmetricGroup(3)\n",
    "S3, S3.structure_description()"
   ]
  },
  {
   "cell_type": "code",
   "execution_count": 19,
   "id": "5b5a1ea3",
   "metadata": {},
   "outputs": [
    {
     "data": {
      "text/plain": [
       "[(), (1,3,2), (1,2,3), (2,3), (1,3), (1,2)]"
      ]
     },
     "execution_count": 19,
     "metadata": {},
     "output_type": "execute_result"
    }
   ],
   "source": [
    "S3.list() # (1)"
   ]
  },
  {
   "cell_type": "code",
   "execution_count": 20,
   "id": "0a9373ea",
   "metadata": {},
   "outputs": [
    {
     "data": {
      "text/plain": [
       "Symmetric group of order 8! as a permutation group"
      ]
     },
     "execution_count": 20,
     "metadata": {},
     "output_type": "execute_result"
    }
   ],
   "source": [
    "S8 = SymmetricGroup(8)\n",
    "S8"
   ]
  },
  {
   "cell_type": "code",
   "execution_count": 22,
   "id": "b7b64821",
   "metadata": {},
   "outputs": [
    {
     "data": {
      "text/plain": [
       "(Subgroup generated by [(1,2,3,4,5,6,7,8)] of (Symmetric group of order 8! as a permutation group),\n",
       " True,\n",
       " True,\n",
       " False,\n",
       " True,\n",
       " False,\n",
       " True,\n",
       " True)"
      ]
     },
     "execution_count": 22,
     "metadata": {},
     "output_type": "execute_result"
    }
   ],
   "source": [
    "g = S8((1,2,3,4,5,6,7,8))\n",
    "H = S8.subgroup([g])\n",
    "H, H.is_isomorphic(G), G == H, H == K, G == K, H == K1, G == K1, H.is_isomorphic(K1) # be careful with =="
   ]
  },
  {
   "cell_type": "code",
   "execution_count": 23,
   "id": "11a6dc3b",
   "metadata": {},
   "outputs": [
    {
     "data": {
      "text/plain": [
       "(8,\n",
       " Symmetric group of order 8! as a permutation group,\n",
       " False,\n",
       " True,\n",
       " True,\n",
       " False)"
      ]
     },
     "execution_count": 23,
     "metadata": {},
     "output_type": "execute_result"
    }
   ],
   "source": [
    "H.order(), H.ambient_group(), H.is_normal(S8), H.is_subgroup(S8), G.is_subgroup(S8), K1.is_subgroup(S8)"
   ]
  },
  {
   "cell_type": "code",
   "execution_count": 24,
   "id": "22007ce0",
   "metadata": {
    "collapsed": true
   },
   "outputs": [
    {
     "ename": "AttributeError",
     "evalue": "'CyclicPermutationGroup_with_category' object has no attribute 'ambient_group'",
     "output_type": "error",
     "traceback": [
      "\u001b[0;31m---------------------------------------------------------------------------\u001b[0m",
      "\u001b[0;31mKeyError\u001b[0m                                  Traceback (most recent call last)",
      "\u001b[0;32m/private/var/tmp/sage-9.5-current/local/var/lib/sage/venv-python3.9.9/lib/python3.9/site-packages/sage/structure/category_object.pyx\u001b[0m in \u001b[0;36msage.structure.category_object.CategoryObject.getattr_from_category (build/cythonized/sage/structure/category_object.c:7089)\u001b[0;34m()\u001b[0m\n\u001b[1;32m    838\u001b[0m         \u001b[0;32mtry\u001b[0m\u001b[0;34m:\u001b[0m\u001b[0;34m\u001b[0m\u001b[0;34m\u001b[0m\u001b[0m\n\u001b[0;32m--> 839\u001b[0;31m             \u001b[0;32mreturn\u001b[0m \u001b[0mself\u001b[0m\u001b[0;34m.\u001b[0m\u001b[0m__cached_methods\u001b[0m\u001b[0;34m[\u001b[0m\u001b[0mname\u001b[0m\u001b[0;34m]\u001b[0m\u001b[0;34m\u001b[0m\u001b[0;34m\u001b[0m\u001b[0m\n\u001b[0m\u001b[1;32m    840\u001b[0m         \u001b[0;32mexcept\u001b[0m \u001b[0mKeyError\u001b[0m\u001b[0;34m:\u001b[0m\u001b[0;34m\u001b[0m\u001b[0;34m\u001b[0m\u001b[0m\n",
      "\u001b[0;31mKeyError\u001b[0m: 'ambient_group'",
      "\nDuring handling of the above exception, another exception occurred:\n",
      "\u001b[0;31mAttributeError\u001b[0m                            Traceback (most recent call last)",
      "\u001b[0;32m/var/folders/zs/_zq_wtz11174g_p4097m7lzm0000gn/T/ipykernel_35189/3615412406.py\u001b[0m in \u001b[0;36m<module>\u001b[0;34m\u001b[0m\n\u001b[0;32m----> 1\u001b[0;31m \u001b[0mG\u001b[0m\u001b[0;34m.\u001b[0m\u001b[0mambient_group\u001b[0m\u001b[0;34m(\u001b[0m\u001b[0;34m)\u001b[0m \u001b[0;31m#press <tab>, note: no ambient_group\u001b[0m\u001b[0;34m\u001b[0m\u001b[0;34m\u001b[0m\u001b[0m\n\u001b[0m",
      "\u001b[0;32m/private/var/tmp/sage-9.5-current/local/var/lib/sage/venv-python3.9.9/lib/python3.9/site-packages/sage/structure/category_object.pyx\u001b[0m in \u001b[0;36msage.structure.category_object.CategoryObject.__getattr__ (build/cythonized/sage/structure/category_object.c:7008)\u001b[0;34m()\u001b[0m\n\u001b[1;32m    831\u001b[0m             \u001b[0mAttributeError\u001b[0m\u001b[0;34m:\u001b[0m \u001b[0;34m'PrimeNumbers_with_category'\u001b[0m \u001b[0mobject\u001b[0m \u001b[0mhas\u001b[0m \u001b[0mno\u001b[0m \u001b[0mattribute\u001b[0m \u001b[0;34m'sadfasdf'\u001b[0m\u001b[0;34m\u001b[0m\u001b[0;34m\u001b[0m\u001b[0m\n\u001b[1;32m    832\u001b[0m         \"\"\"\n\u001b[0;32m--> 833\u001b[0;31m         \u001b[0;32mreturn\u001b[0m \u001b[0mself\u001b[0m\u001b[0;34m.\u001b[0m\u001b[0mgetattr_from_category\u001b[0m\u001b[0;34m(\u001b[0m\u001b[0mname\u001b[0m\u001b[0;34m)\u001b[0m\u001b[0;34m\u001b[0m\u001b[0;34m\u001b[0m\u001b[0m\n\u001b[0m\u001b[1;32m    834\u001b[0m \u001b[0;34m\u001b[0m\u001b[0m\n\u001b[1;32m    835\u001b[0m     \u001b[0mcdef\u001b[0m \u001b[0mgetattr_from_category\u001b[0m\u001b[0;34m(\u001b[0m\u001b[0mself\u001b[0m\u001b[0;34m,\u001b[0m \u001b[0mname\u001b[0m\u001b[0;34m)\u001b[0m\u001b[0;34m:\u001b[0m\u001b[0;34m\u001b[0m\u001b[0;34m\u001b[0m\u001b[0m\n",
      "\u001b[0;32m/private/var/tmp/sage-9.5-current/local/var/lib/sage/venv-python3.9.9/lib/python3.9/site-packages/sage/structure/category_object.pyx\u001b[0m in \u001b[0;36msage.structure.category_object.CategoryObject.getattr_from_category (build/cythonized/sage/structure/category_object.c:7174)\u001b[0;34m()\u001b[0m\n\u001b[1;32m    846\u001b[0m                 \u001b[0mcls\u001b[0m \u001b[0;34m=\u001b[0m \u001b[0mself\u001b[0m\u001b[0;34m.\u001b[0m\u001b[0m_category\u001b[0m\u001b[0;34m.\u001b[0m\u001b[0mparent_class\u001b[0m\u001b[0;34m\u001b[0m\u001b[0;34m\u001b[0m\u001b[0m\n\u001b[1;32m    847\u001b[0m \u001b[0;34m\u001b[0m\u001b[0m\n\u001b[0;32m--> 848\u001b[0;31m             \u001b[0mattr\u001b[0m \u001b[0;34m=\u001b[0m \u001b[0mgetattr_from_other_class\u001b[0m\u001b[0;34m(\u001b[0m\u001b[0mself\u001b[0m\u001b[0;34m,\u001b[0m \u001b[0mcls\u001b[0m\u001b[0;34m,\u001b[0m \u001b[0mname\u001b[0m\u001b[0;34m)\u001b[0m\u001b[0;34m\u001b[0m\u001b[0;34m\u001b[0m\u001b[0m\n\u001b[0m\u001b[1;32m    849\u001b[0m             \u001b[0mself\u001b[0m\u001b[0;34m.\u001b[0m\u001b[0m__cached_methods\u001b[0m\u001b[0;34m[\u001b[0m\u001b[0mname\u001b[0m\u001b[0;34m]\u001b[0m \u001b[0;34m=\u001b[0m \u001b[0mattr\u001b[0m\u001b[0;34m\u001b[0m\u001b[0;34m\u001b[0m\u001b[0m\n\u001b[1;32m    850\u001b[0m             \u001b[0;32mreturn\u001b[0m \u001b[0mattr\u001b[0m\u001b[0;34m\u001b[0m\u001b[0;34m\u001b[0m\u001b[0m\n",
      "\u001b[0;32m/private/var/tmp/sage-9.5-current/local/var/lib/sage/venv-python3.9.9/lib/python3.9/site-packages/sage/cpython/getattr.pyx\u001b[0m in \u001b[0;36msage.cpython.getattr.getattr_from_other_class (build/cythonized/sage/cpython/getattr.c:2567)\u001b[0;34m()\u001b[0m\n\u001b[1;32m    354\u001b[0m         \u001b[0mdummy_error_message\u001b[0m\u001b[0;34m.\u001b[0m\u001b[0mcls\u001b[0m \u001b[0;34m=\u001b[0m \u001b[0mtype\u001b[0m\u001b[0;34m(\u001b[0m\u001b[0mself\u001b[0m\u001b[0;34m)\u001b[0m\u001b[0;34m\u001b[0m\u001b[0;34m\u001b[0m\u001b[0m\n\u001b[1;32m    355\u001b[0m         \u001b[0mdummy_error_message\u001b[0m\u001b[0;34m.\u001b[0m\u001b[0mname\u001b[0m \u001b[0;34m=\u001b[0m \u001b[0mname\u001b[0m\u001b[0;34m\u001b[0m\u001b[0;34m\u001b[0m\u001b[0m\n\u001b[0;32m--> 356\u001b[0;31m         \u001b[0;32mraise\u001b[0m \u001b[0mAttributeError\u001b[0m\u001b[0;34m(\u001b[0m\u001b[0mdummy_error_message\u001b[0m\u001b[0;34m)\u001b[0m\u001b[0;34m\u001b[0m\u001b[0;34m\u001b[0m\u001b[0m\n\u001b[0m\u001b[1;32m    357\u001b[0m     \u001b[0mcdef\u001b[0m \u001b[0mPyObject\u001b[0m\u001b[0;34m*\u001b[0m \u001b[0mattr\u001b[0m \u001b[0;34m=\u001b[0m \u001b[0minstance_getattr\u001b[0m\u001b[0;34m(\u001b[0m\u001b[0mcls\u001b[0m\u001b[0;34m,\u001b[0m \u001b[0mname\u001b[0m\u001b[0;34m)\u001b[0m\u001b[0;34m\u001b[0m\u001b[0;34m\u001b[0m\u001b[0m\n\u001b[1;32m    358\u001b[0m     \u001b[0;32mif\u001b[0m \u001b[0mattr\u001b[0m \u001b[0;32mis\u001b[0m \u001b[0mNULL\u001b[0m\u001b[0;34m:\u001b[0m\u001b[0;34m\u001b[0m\u001b[0;34m\u001b[0m\u001b[0m\n",
      "\u001b[0;31mAttributeError\u001b[0m: 'CyclicPermutationGroup_with_category' object has no attribute 'ambient_group'"
     ]
    }
   ],
   "source": [
    "G.ambient_group() #press <tab>, note: no ambient_group"
   ]
  },
  {
   "cell_type": "code",
   "execution_count": 26,
   "id": "2f568cc6",
   "metadata": {},
   "outputs": [
    {
     "data": {
      "text/plain": [
       "(Subgroup generated by [(1,2,3,4,5,6,7,8)] of (Subgroup generated by [(1,2,3,4,5,6,7,8)] of (Symmetric group of order 8! as a permutation group)),\n",
       " False,\n",
       " True,\n",
       " True)"
      ]
     },
     "execution_count": 26,
     "metadata": {},
     "output_type": "execute_result"
    }
   ],
   "source": [
    "H.center(), H == H.center(), H.is_isomorphic(H.center()), H.is_abelian()"
   ]
  },
  {
   "cell_type": "code",
   "execution_count": 27,
   "id": "c4a1d498",
   "metadata": {},
   "outputs": [
    {
     "data": {
      "text/plain": [
       "((1,2,3)(4,5), True, [1, 2, 3], [4, 5], [6])"
      ]
     },
     "execution_count": 27,
     "metadata": {},
     "output_type": "execute_result"
    }
   ],
   "source": [
    "sigma = S8([(1,2,3),(4,5)])\n",
    "sigma1 = S8(\"(1,2,3) (4,5)\")\n",
    "sigma, sigma == sigma1, sigma.orbit(1), sigma.orbit(4), sigma.orbit(6)"
   ]
  },
  {
   "cell_type": "code",
   "execution_count": 28,
   "id": "2fbec840",
   "metadata": {},
   "outputs": [
    {
     "data": {
      "text/plain": [
       "((1,3,5,4), (1,3)(2,4), 6, 2, -1, 1)"
      ]
     },
     "execution_count": 28,
     "metadata": {},
     "output_type": "execute_result"
    }
   ],
   "source": [
    "tau = S8('(2,3)(1,5)')\n",
    "sigma * tau, sigma^(-1) * tau * sigma, sigma.order(), tau.order(), sigma.sign(), tau.sign()"
   ]
  },
  {
   "cell_type": "code",
   "execution_count": 29,
   "id": "81c12317",
   "metadata": {},
   "outputs": [
    {
     "data": {
      "text/plain": [
       "([5, 3, 2, 4, 1], (1,5)(2,3), False, True)"
      ]
     },
     "execution_count": 29,
     "metadata": {},
     "output_type": "execute_result"
    }
   ],
   "source": [
    "tau1 = Permutation('(2,3)(1,5)') # No space allowed here\n",
    "tau1, S8(tau1), tau1 == tau, S8(tau1) == tau"
   ]
  },
  {
   "cell_type": "code",
   "execution_count": 30,
   "id": "6065ef7e",
   "metadata": {},
   "outputs": [
    {
     "data": {
      "text/plain": [
       "(Alternating group of order 8!/2 as a permutation group, 'A8')"
      ]
     },
     "execution_count": 30,
     "metadata": {},
     "output_type": "execute_result"
    }
   ],
   "source": [
    "A8 = AlternatingGroup(8)\n",
    "A8, A8.structure_description()"
   ]
  },
  {
   "cell_type": "code",
   "execution_count": 31,
   "id": "2f821562",
   "metadata": {},
   "outputs": [
    {
     "data": {
      "text/plain": [
       "([Subgroup generated by [(1,2), (1,2,3)] of (Symmetric group of order 3! as a permutation group),\n",
       "  Subgroup generated by [(1,2,3)] of (Symmetric group of order 3! as a permutation group),\n",
       "  Subgroup generated by [()] of (Symmetric group of order 3! as a permutation group)],\n",
       " [Subgroup generated by [()] of (Symmetric group of order 3! as a permutation group),\n",
       "  Subgroup generated by [(2,3)] of (Symmetric group of order 3! as a permutation group),\n",
       "  Subgroup generated by [(1,2)] of (Symmetric group of order 3! as a permutation group),\n",
       "  Subgroup generated by [(1,3)] of (Symmetric group of order 3! as a permutation group),\n",
       "  Subgroup generated by [(1,2,3)] of (Symmetric group of order 3! as a permutation group),\n",
       "  Subgroup generated by [(2,3), (1,2,3)] of (Symmetric group of order 3! as a permutation group)])"
      ]
     },
     "execution_count": 31,
     "metadata": {},
     "output_type": "execute_result"
    }
   ],
   "source": [
    "S3.normal_subgroups(), S3.subgroups()"
   ]
  },
  {
   "cell_type": "code",
   "execution_count": 32,
   "id": "ba869d79",
   "metadata": {},
   "outputs": [
    {
     "data": {
      "text/plain": [
       "(Alternating group of order 3!/2 as a permutation group,\n",
       " 'C3',\n",
       " [(), (1,2,3), (1,3,2)])"
      ]
     },
     "execution_count": 32,
     "metadata": {},
     "output_type": "execute_result"
    }
   ],
   "source": [
    "A3 = AlternatingGroup(3)\n",
    "A3, A3.structure_description(), A3.list()"
   ]
  },
  {
   "cell_type": "code",
   "execution_count": 33,
   "id": "c28dca00",
   "metadata": {},
   "outputs": [
    {
     "data": {
      "text/plain": [
       "(True,\n",
       " True,\n",
       " [Category of finite enumerated permutation groups,\n",
       "  Category of permutation groups,\n",
       "  Category of finite groups,\n",
       "  Category of finite monoids,\n",
       "  Category of groups,\n",
       "  Category of monoids,\n",
       "  Category of finite finitely generated semigroups,\n",
       "  Category of finitely generated semigroups,\n",
       "  Category of finite semigroups,\n",
       "  Category of semigroups,\n",
       "  Category of finitely generated magmas,\n",
       "  Category of inverse unital magmas,\n",
       "  Category of unital magmas,\n",
       "  Category of magmas,\n",
       "  Category of finite enumerated sets,\n",
       "  Category of enumerated sets,\n",
       "  Category of finite sets,\n",
       "  Category of sets,\n",
       "  Category of sets with partial maps,\n",
       "  Category of objects])"
      ]
     },
     "execution_count": 33,
     "metadata": {},
     "output_type": "execute_result"
    }
   ],
   "source": [
    "A3.is_subgroup(S3), A3.is_normal(S3), A3.categories()"
   ]
  },
  {
   "cell_type": "code",
   "execution_count": 34,
   "id": "7647d58a",
   "metadata": {},
   "outputs": [
    {
     "data": {
      "text/plain": [
       "(Permutation Group with generators [(1,2)], 'C2', [(), (1,2)])"
      ]
     },
     "execution_count": 34,
     "metadata": {},
     "output_type": "execute_result"
    }
   ],
   "source": [
    "S3_mod_A3 = S3.quotient(A3)\n",
    "S3_mod_A3, S3_mod_A3.structure_description(), S3_mod_A3.list()"
   ]
  },
  {
   "cell_type": "code",
   "execution_count": 35,
   "id": "8dace093",
   "metadata": {},
   "outputs": [
    {
     "data": {
      "text/plain": [
       "([Subgroup generated by [()] of (Symmetric group of order 3! as a permutation group),\n",
       "  Subgroup generated by [(2,3)] of (Symmetric group of order 3! as a permutation group),\n",
       "  Subgroup generated by [(1,2)] of (Symmetric group of order 3! as a permutation group),\n",
       "  Subgroup generated by [(1,3)] of (Symmetric group of order 3! as a permutation group),\n",
       "  Subgroup generated by [(1,2,3)] of (Symmetric group of order 3! as a permutation group),\n",
       "  Subgroup generated by [(2,3), (1,2,3)] of (Symmetric group of order 3! as a permutation group)],\n",
       " [Subgroup generated by [()] of (Symmetric group of order 3! as a permutation group),\n",
       "  Subgroup generated by [(2,3)] of (Symmetric group of order 3! as a permutation group),\n",
       "  Subgroup generated by [(1,2,3)] of (Symmetric group of order 3! as a permutation group),\n",
       "  Subgroup generated by [(2,3), (1,2,3)] of (Symmetric group of order 3! as a permutation group)])"
      ]
     },
     "execution_count": 35,
     "metadata": {},
     "output_type": "execute_result"
    }
   ],
   "source": [
    "# Sometimes we only care about subgroups up to conjugates (e.g. in Sylow's theorems)\n",
    "S3.subgroups(), S3.conjugacy_classes_subgroups()"
   ]
  },
  {
   "cell_type": "code",
   "execution_count": 36,
   "id": "1707d2a0",
   "metadata": {},
   "outputs": [
    {
     "data": {
      "text/plain": [
       "(6,\n",
       " 2 * 3,\n",
       " Subgroup generated by [(2,3)] of (Symmetric group of order 3! as a permutation group),\n",
       " Subgroup generated by [(1,2,3)] of (Symmetric group of order 3! as a permutation group))"
      ]
     },
     "execution_count": 36,
     "metadata": {},
     "output_type": "execute_result"
    }
   ],
   "source": [
    "S3.order(), factor(S3.order()), S3.sylow_subgroup(2), S3.sylow_subgroup(3)"
   ]
  },
  {
   "cell_type": "markdown",
   "id": "f7bb2846",
   "metadata": {},
   "source": [
    "## Exercise 1:"
   ]
  },
  {
   "cell_type": "code",
   "execution_count": 37,
   "id": "b47ac696",
   "metadata": {},
   "outputs": [
    {
     "data": {
      "text/plain": [
       "([Subgroup generated by [()] of (Symmetric group of order 4! as a permutation group),\n",
       "  Subgroup generated by [(1,3)(2,4)] of (Symmetric group of order 4! as a permutation group),\n",
       "  Subgroup generated by [(3,4)] of (Symmetric group of order 4! as a permutation group),\n",
       "  Subgroup generated by [(2,4,3)] of (Symmetric group of order 4! as a permutation group),\n",
       "  Subgroup generated by [(1,3)(2,4), (1,4)(2,3)] of (Symmetric group of order 4! as a permutation group),\n",
       "  Subgroup generated by [(3,4), (1,2)(3,4)] of (Symmetric group of order 4! as a permutation group),\n",
       "  Subgroup generated by [(1,2)(3,4), (1,3,2,4)] of (Symmetric group of order 4! as a permutation group),\n",
       "  Subgroup generated by [(3,4), (2,4,3)] of (Symmetric group of order 4! as a permutation group),\n",
       "  Subgroup generated by [(3,4), (1,3)(2,4), (1,4)(2,3)] of (Symmetric group of order 4! as a permutation group),\n",
       "  Subgroup generated by [(2,4,3), (1,3)(2,4), (1,4)(2,3)] of (Symmetric group of order 4! as a permutation group),\n",
       "  Subgroup generated by [(3,4), (2,4,3), (1,3)(2,4), (1,4)(2,3)] of (Symmetric group of order 4! as a permutation group)],\n",
       " 24,\n",
       " 2^3 * 3)"
      ]
     },
     "execution_count": 37,
     "metadata": {},
     "output_type": "execute_result"
    }
   ],
   "source": [
    "S4 = SymmetricGroup(4)\n",
    "S4_conj_subgps = S4.conjugacy_classes_subgroups()\n",
    "S4_conj_subgps, S4.order(), factor(S4.order()) # p^r for maximal r"
   ]
  },
  {
   "cell_type": "code",
   "execution_count": 38,
   "id": "743409f3",
   "metadata": {},
   "outputs": [
    {
     "data": {
      "text/plain": [
       "[1, 2, 2, 3, 4, 4, 4, 6, 8, 12, 24]"
      ]
     },
     "execution_count": 38,
     "metadata": {},
     "output_type": "execute_result"
    }
   ],
   "source": [
    "# What does the code in this cell do?\n",
    "# Can you point out the Sylow subgroups (subgroups with order p^r for maximal r) based on this?\n",
    "\n",
    "list(map(order, S4_conj_subgps))"
   ]
  },
  {
   "cell_type": "code",
   "execution_count": 39,
   "id": "f843c99c",
   "metadata": {},
   "outputs": [
    {
     "data": {
      "text/plain": [
       "(Subgroup generated by [(3,4), (1,2), (1,3)(2,4)] of (Symmetric group of order 4! as a permutation group),\n",
       " Subgroup generated by [(1,2,3)] of (Symmetric group of order 4! as a permutation group))"
      ]
     },
     "execution_count": 39,
     "metadata": {},
     "output_type": "execute_result"
    }
   ],
   "source": [
    "S4.sylow_subgroup(2), S4.sylow_subgroup(3) # Run after solving the exercise"
   ]
  },
  {
   "cell_type": "code",
   "execution_count": 40,
   "id": "335bcabd",
   "metadata": {},
   "outputs": [
    {
     "data": {
      "text/plain": [
       "(8,\n",
       " Subgroup generated by [(3,4), (1,3)(2,4), (1,4)(2,3)] of (Symmetric group of order 4! as a permutation group))"
      ]
     },
     "execution_count": 40,
     "metadata": {},
     "output_type": "execute_result"
    }
   ],
   "source": [
    "S4_conj_subgps[8].order(), S4_conj_subgps[8]"
   ]
  },
  {
   "cell_type": "code",
   "execution_count": 41,
   "id": "dafcff03",
   "metadata": {},
   "outputs": [
    {
     "data": {
      "text/plain": [
       "True"
      ]
     },
     "execution_count": 41,
     "metadata": {},
     "output_type": "execute_result"
    }
   ],
   "source": [
    "S4_conj_subgps[8] == S4.sylow_subgroup(2)"
   ]
  },
  {
   "cell_type": "markdown",
   "id": "58500164",
   "metadata": {},
   "source": [
    "## Exercise 2:"
   ]
  },
  {
   "cell_type": "code",
   "execution_count": 42,
   "id": "3cb7f081",
   "metadata": {},
   "outputs": [],
   "source": [
    "# How would I find a command, that let's me know if a group is commutative/simple/solvable? \n",
    "# Try it for the following groups:\n",
    "C8 = CyclicPermutationGroup(8)\n",
    "S4 = SymmetricGroup(4)\n",
    "A4 = AlternatingGroup(4)\n",
    "S5 = SymmetricGroup(5)\n",
    "A5 = AlternatingGroup(5)"
   ]
  },
  {
   "cell_type": "code",
   "execution_count": 47,
   "id": "66dffa3b",
   "metadata": {},
   "outputs": [
    {
     "name": "stdout",
     "output_type": "stream",
     "text": [
      "\n",
      "        G = Cyclic group of order 8 as a permutation group, C8\n",
      "        ---> commutative = True\n",
      "        ---> simple = False\n",
      "        ---> solvable = True\n",
      "        \n",
      "\n",
      "        G = Symmetric group of order 4! as a permutation group, S4\n",
      "        ---> commutative = False\n",
      "        ---> simple = False\n",
      "        ---> solvable = True\n",
      "        \n",
      "\n",
      "        G = Alternating group of order 4!/2 as a permutation group, A4\n",
      "        ---> commutative = False\n",
      "        ---> simple = False\n",
      "        ---> solvable = True\n",
      "        \n",
      "\n",
      "        G = Symmetric group of order 5! as a permutation group, S5\n",
      "        ---> commutative = False\n",
      "        ---> simple = False\n",
      "        ---> solvable = False\n",
      "        \n",
      "\n",
      "        G = Alternating group of order 5!/2 as a permutation group, A5\n",
      "        ---> commutative = False\n",
      "        ---> simple = True\n",
      "        ---> solvable = False\n",
      "        \n"
     ]
    }
   ],
   "source": [
    "# I.e., fill in the ??? here:\n",
    "for G in [C8,S4,A4,S5,A5]:\n",
    "    print(\n",
    "        f\"\"\"\n",
    "        G = {G}, {G.structure_description()}\n",
    "        ---> commutative = {G.is_commutative()}\n",
    "        ---> simple = {G.is_simple()}\n",
    "        ---> solvable = {G.is_solvable()}\n",
    "        \"\"\"\n",
    "    )"
   ]
  },
  {
   "cell_type": "code",
   "execution_count": null,
   "id": "f4d2d1a2",
   "metadata": {},
   "outputs": [],
   "source": []
  },
  {
   "cell_type": "code",
   "execution_count": 48,
   "id": "c7d360e7",
   "metadata": {},
   "outputs": [
    {
     "data": {
      "text/plain": [
       "(True, False, False, True)"
      ]
     },
     "execution_count": 48,
     "metadata": {},
     "output_type": "execute_result"
    }
   ],
   "source": [
    "# Extra question: Which of these return true and which return false?\n",
    "S4.is_subgroup(S5), A4.is_normal(S5), S4.is_normal(S5), A5.is_normal(S5)"
   ]
  },
  {
   "cell_type": "markdown",
   "id": "acc558ee",
   "metadata": {},
   "source": [
    "# Matrix groups"
   ]
  },
  {
   "cell_type": "code",
   "execution_count": null,
   "id": "b076c672",
   "metadata": {},
   "outputs": [],
   "source": [
    "# We usually work over one of these rings\n",
    "ZZ, QQ, RR, CC, GF(5) # 5 can be replaced by any prime"
   ]
  },
  {
   "cell_type": "code",
   "execution_count": null,
   "id": "5e6a3dc4",
   "metadata": {},
   "outputs": [],
   "source": [
    "groups.matrix. #<tab> here"
   ]
  },
  {
   "cell_type": "code",
   "execution_count": null,
   "id": "3e01fc18",
   "metadata": {},
   "outputs": [],
   "source": [
    "GL(2,ZZ), GL(3,RR), SL(2,GF(5))"
   ]
  },
  {
   "cell_type": "code",
   "execution_count": null,
   "id": "91a1aa67",
   "metadata": {},
   "outputs": [],
   "source": [
    "GL(2,ZZ).gens(), SL(2,ZZ).gens(), GL(2,ZZ).order(), GL(2,GF(5)).order(), SL(2,GF(5)).order()"
   ]
  },
  {
   "cell_type": "code",
   "execution_count": null,
   "id": "672d74f1",
   "metadata": {},
   "outputs": [],
   "source": [
    "GL(2,ZZ).category(), GL(2,ZZ).categories()"
   ]
  },
  {
   "cell_type": "code",
   "execution_count": null,
   "id": "67617c19",
   "metadata": {},
   "outputs": [],
   "source": [
    "GL(2,GF(5)).category(), GL(2,GF(5)).categories()"
   ]
  },
  {
   "cell_type": "code",
   "execution_count": null,
   "id": "8355cc32",
   "metadata": {},
   "outputs": [],
   "source": [
    "G = GL(2,GF(5))\n",
    "H = SL(2,GF(5))\n",
    "H, H.as_matrix_group(), H.as_permutation_group()"
   ]
  },
  {
   "cell_type": "code",
   "execution_count": null,
   "id": "0337659e",
   "metadata": {},
   "outputs": [],
   "source": [
    "H.is_subgroup(G) # error"
   ]
  },
  {
   "cell_type": "code",
   "execution_count": null,
   "id": "5a695145",
   "metadata": {},
   "outputs": [],
   "source": [
    "H.is_subgroup()"
   ]
  },
  {
   "cell_type": "code",
   "execution_count": null,
   "id": "8f921fe6",
   "metadata": {},
   "outputs": [],
   "source": [
    "H_as_mat = H.as_matrix_group()\n",
    "H_as_perm = H.as_permutation_group()\n",
    "G_as_mat = G.as_matrix_group()\n",
    "G_as_perm = G.as_permutation_group()"
   ]
  },
  {
   "cell_type": "code",
   "execution_count": null,
   "id": "6851840e",
   "metadata": {},
   "outputs": [],
   "source": [
    "H_as_mat.is_subgroup(G_as_mat) # error"
   ]
  },
  {
   "cell_type": "code",
   "execution_count": null,
   "id": "f147ec91",
   "metadata": {},
   "outputs": [],
   "source": [
    "H_as_mat.is_subgroup()"
   ]
  },
  {
   "cell_type": "code",
   "execution_count": null,
   "id": "304c7c94",
   "metadata": {},
   "outputs": [],
   "source": [
    "H_as_perm.is_subgroup() # error"
   ]
  },
  {
   "cell_type": "code",
   "execution_count": null,
   "id": "8a2b5193",
   "metadata": {},
   "outputs": [],
   "source": [
    "H_as_perm.is_subgroup(G_as_perm)"
   ]
  },
  {
   "cell_type": "markdown",
   "id": "4c5519ea",
   "metadata": {},
   "source": [
    "## Exercise 3:"
   ]
  },
  {
   "cell_type": "code",
   "execution_count": null,
   "id": "1ba92fcb",
   "metadata": {},
   "outputs": [],
   "source": [
    "# Let\n",
    "G = GL(3,GF(7))\n",
    "H = SL(3,GF(7))\n",
    "# and check that H is a normal subgroup of G. Find the quotient G/H and describe it using finite groups. \n",
    "# What is the units of GF(7)? How does this fit with you intuition of GL and SL?"
   ]
  },
  {
   "cell_type": "code",
   "execution_count": null,
   "id": "e845dcc2",
   "metadata": {},
   "outputs": [],
   "source": [
    "# I.e., fill in the ??? here:\n",
    "print(\n",
    "    f\"\"\"\n",
    "    G = {G}\n",
    "    H = {H}\n",
    "    ---> H normal in G = {???}\n",
    "    ---> G/H = {???}\n",
    "    ---> G/H structure = {???}\n",
    "    ---> GF(7)^* = {GF(7).unit_group()}\n",
    "    \"\"\"\n",
    ")"
   ]
  },
  {
   "cell_type": "code",
   "execution_count": null,
   "id": "ed5b165d",
   "metadata": {},
   "outputs": [],
   "source": []
  },
  {
   "cell_type": "markdown",
   "id": "e3abb56f",
   "metadata": {},
   "source": [
    "# Exercises to look at before next week"
   ]
  },
  {
   "cell_type": "markdown",
   "id": "04b1d258",
   "metadata": {},
   "source": [
    "(1) Try to look at the above section about matrix groups and see if you can understand how the different things work. (Recall that GL(n,R) is the invertible matrices over the ring R, and SL(n,R) are the matrices with determinant 1.\n",
    "\n",
    "(2) Do Exercise 3 above.\n",
    "\n",
    "(3) Look at the following exercises."
   ]
  },
  {
   "cell_type": "markdown",
   "id": "c4acfd37",
   "metadata": {},
   "source": [
    "## Exercise 4\n",
    "Let $S_7$ be the symmetric group of size $7!$, and let $H$ be the subgroup of $S_7$ generated by $g_1 = (1,2)(3,4,5)$ and $g_2 = (1,5,6)$. \n",
    "1. How many elements are there in $H$?\n",
    "2. Describe the structure of $H$.\n",
    "3. Is $H$ a normal subgroup of $S_7$?\n",
    "4. Let $N$ be the normalizer $N_{S_7}(H) = \\{ g \\in S_7 : gHg^{-1} = H \\}$. What's the size of $N$ and what group structure does it have? Based on this, what's the relation between $H$ and $N$?"
   ]
  },
  {
   "cell_type": "code",
   "execution_count": null,
   "id": "aa00adb0",
   "metadata": {},
   "outputs": [],
   "source": []
  },
  {
   "cell_type": "markdown",
   "id": "acdc6d47",
   "metadata": {},
   "source": [
    "## Exercise 5\n",
    "Prime factor $7!$ (the order of $S_7$) and use that to find all Sylow-$p$ subgroups. Try to print the result nicely in format like this using a for loop going through the prime factors of $7!$:\n",
    "\n",
    "Sylow-2 subgroup = (the result you get)\n",
    "\n",
    "--> order: (find the order)\n",
    "\n",
    "--> structure: (find the structure)\n",
    "\n",
    "Sylow-3 subgroup = (the result you get)\n",
    "\n",
    "--> order: (find the order)\n",
    "\n",
    "--> structure: (find the structure)"
   ]
  },
  {
   "cell_type": "code",
   "execution_count": null,
   "id": "7c2c411a",
   "metadata": {},
   "outputs": [],
   "source": []
  },
  {
   "cell_type": "markdown",
   "id": "4c2c4032",
   "metadata": {},
   "source": [
    "## Exercise 6\n",
    "Let $H$ the subgroup of $\\operatorname{GL}(2,\\mathbb{F}_3)$ generated by $A = \\begin{pmatrix} 1 & 0 \\\\ 0 & -1 \\end{pmatrix}$ and $B = \\begin{pmatrix} 0 & -1 \\\\ 1 & 0 \\end{pmatrix}$. \n",
    "\n",
    "1. What is the group structure of $H$?\n",
    "2. Show that $\\mathbb{Z}_2 \\times H$ is isomorphic to the Sylow-2 subgroup of $S_7$. (Hint: View $H$ as a permutation group after defining it, to make sage understand the product.)"
   ]
  },
  {
   "cell_type": "code",
   "execution_count": null,
   "id": "c6e022e1",
   "metadata": {},
   "outputs": [],
   "source": []
  },
  {
   "cell_type": "markdown",
   "id": "de4cd0ab",
   "metadata": {},
   "source": [
    "## Exercise 7"
   ]
  },
  {
   "cell_type": "code",
   "execution_count": 156,
   "id": "9453aa3e",
   "metadata": {},
   "outputs": [
    {
     "data": {
      "text/plain": [
       "(Finitely presented group < a | a^8 >,\n",
       " Permutation Group with generators [(1,2,4,6,8,7,5,3)],\n",
       " True,\n",
       " Finitely presented group < a | a^8 >)"
      ]
     },
     "execution_count": 156,
     "metadata": {},
     "output_type": "execute_result"
    }
   ],
   "source": [
    "G.<a> = FreeGroup()\n",
    "H = G / [a^8]\n",
    "Hp = H.as_permutation_group()\n",
    "C8 = CyclicPermutationGroup(8)\n",
    "H, Hp, Hp.is_isomorphic(C8), C8.as_finitely_presented_group()"
   ]
  },
  {
   "cell_type": "markdown",
   "id": "f69f935c",
   "metadata": {},
   "source": [
    "Note that we can represent any finite group by a list generators and relations as above. Find the representations for $D_4$ (dihedral group), $S_3$, $S_4$, $A_3$, $A_4$, $\\mathbb{Z}_7$, $\\mathbb{Z}_2$, $\\mathbb{Z}_2 \\times \\mathbb{Z}_7$, and $\\mathbb{Z}_2 \\times \\mathbb{Z}_2$. (Try to do it by first definining all groups you need and then make a for loop running through all the groups, printing the group structure and it presentation for each group.)"
   ]
  },
  {
   "cell_type": "code",
   "execution_count": null,
   "id": "ce1cfed6",
   "metadata": {},
   "outputs": [],
   "source": []
  },
  {
   "cell_type": "code",
   "execution_count": null,
   "id": "972e47ff",
   "metadata": {},
   "outputs": [],
   "source": []
  },
  {
   "cell_type": "code",
   "execution_count": null,
   "id": "e3368ade",
   "metadata": {},
   "outputs": [],
   "source": []
  },
  {
   "cell_type": "code",
   "execution_count": null,
   "id": "88ca9fe5",
   "metadata": {},
   "outputs": [],
   "source": []
  }
 ],
 "metadata": {
  "kernelspec": {
   "display_name": "SageMath 9.5",
   "language": "sage",
   "name": "sagemath-9.5"
  },
  "language_info": {
   "codemirror_mode": {
    "name": "ipython",
    "version": 3
   },
   "file_extension": ".py",
   "mimetype": "text/x-python",
   "name": "python",
   "nbconvert_exporter": "python",
   "pygments_lexer": "ipython3",
   "version": "3.9.9"
  }
 },
 "nbformat": 4,
 "nbformat_minor": 5
}
