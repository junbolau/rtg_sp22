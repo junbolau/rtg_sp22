{
 "cells": [
  {
   "cell_type": "code",
   "execution_count": null,
   "id": "429c3990",
   "metadata": {},
   "outputs": [],
   "source": [
    "from sage.groups.group import Group, FiniteGroup, AbelianGroup, is_Group"
   ]
  },
  {
   "cell_type": "markdown",
   "id": "85678eb2",
   "metadata": {},
   "source": [
    "# Categories of groups"
   ]
  },
  {
   "cell_type": "code",
   "execution_count": null,
   "id": "786448f7",
   "metadata": {},
   "outputs": [],
   "source": [
    "G = Group()\n",
    "G, is_Group(G), G.category(), G.categories()"
   ]
  },
  {
   "cell_type": "code",
   "execution_count": null,
   "id": "f8ba9430",
   "metadata": {},
   "outputs": [],
   "source": [
    "G.is_abelian() # error"
   ]
  },
  {
   "cell_type": "code",
   "execution_count": null,
   "id": "696fef03",
   "metadata": {},
   "outputs": [],
   "source": [
    "G = AbelianGroup()\n",
    "G, G.is_abelian(), is_Group(G), G.category(), G.categories()"
   ]
  },
  {
   "cell_type": "code",
   "execution_count": null,
   "id": "3d724146",
   "metadata": {},
   "outputs": [],
   "source": [
    "G = FiniteGroup()\n",
    "G, G.is_finite(), is_Group(G), G.category(), G.categories()"
   ]
  },
  {
   "cell_type": "code",
   "execution_count": null,
   "id": "7ce5cfab",
   "metadata": {},
   "outputs": [],
   "source": [
    "G.<a,b> = FreeGroup()\n",
    "G, is_Group(G)"
   ]
  },
  {
   "cell_type": "code",
   "execution_count": null,
   "id": "d751e071",
   "metadata": {},
   "outputs": [],
   "source": [
    "# Press <tab>\n",
    "groups.\n",
    "groups.permutation.\n",
    "groups.matrix."
   ]
  },
  {
   "cell_type": "markdown",
   "id": "6eb4c0bb",
   "metadata": {},
   "source": [
    "# Cyclic groups"
   ]
  },
  {
   "cell_type": "code",
   "execution_count": null,
   "id": "6c44f69c",
   "metadata": {},
   "outputs": [],
   "source": [
    "G = groups.permutation.Cyclic(8)\n",
    "G, G.structure_description()"
   ]
  },
  {
   "cell_type": "code",
   "execution_count": null,
   "id": "74de08eb",
   "metadata": {},
   "outputs": [],
   "source": [
    "print(\"Elements of G:\\n------------------\")\n",
    "for g in G:\n",
    "    print(f\"g = {g}\")\n",
    "\n",
    "G.list()"
   ]
  },
  {
   "cell_type": "code",
   "execution_count": null,
   "id": "769985d7",
   "metadata": {},
   "outputs": [],
   "source": [
    "C8.is_Group() # error"
   ]
  },
  {
   "cell_type": "code",
   "execution_count": null,
   "id": "10c86ad5",
   "metadata": {},
   "outputs": [],
   "source": [
    "G, G.is_abelian(), G.is_finite(), G.is_cyclic(), G.order(), G.is_, G., #finish"
   ]
  },
  {
   "cell_type": "code",
   "execution_count": null,
   "id": "8ae92c1e",
   "metadata": {},
   "outputs": [],
   "source": [
    "G.category(), G.categories()"
   ]
  },
  {
   "cell_type": "code",
   "execution_count": null,
   "id": "d1202320",
   "metadata": {},
   "outputs": [],
   "source": [
    "G.as_AbelianGroup(), G.as_finitely_presented_group()"
   ]
  },
  {
   "cell_type": "code",
   "execution_count": null,
   "id": "bf7bc362",
   "metadata": {},
   "outputs": [],
   "source": [
    "H = CyclicPermutationGroup(8)\n",
    "G, H, G == H, G.is_isomorphic(H)"
   ]
  },
  {
   "cell_type": "code",
   "execution_count": null,
   "id": "530355b6",
   "metadata": {},
   "outputs": [],
   "source": [
    "K = PermutationGroup([(1,2,3,4,5,6,7,8)])\n",
    "K1 = PermutationGroup([('a','b','c','d','e','f','g','h')])\n",
    "K, K1, K == G, K == K1"
   ]
  },
  {
   "cell_type": "code",
   "execution_count": null,
   "id": "f18275e7",
   "metadata": {},
   "outputs": [],
   "source": [
    "G.subgroups()"
   ]
  },
  {
   "cell_type": "code",
   "execution_count": null,
   "id": "f1ee7f3a",
   "metadata": {},
   "outputs": [],
   "source": [
    "C2 = CyclicPermutationGroup(2)\n",
    "C3 = CyclicPermutationGroup(3)\n",
    "C8 = CyclicPermutationGroup(8)\n",
    "(\n",
    "    direct_product_permgroups([C2,C3]),\n",
    "    direct_product_permgroups([C2,C3]).structure_description(),\n",
    "    direct_product_permgroups([C2,C2,C3]),\n",
    "    direct_product_permgroups([C2,C2,C3]).structure_description(),\n",
    "    direct_product_permgroups([C2,C3,C8]),\n",
    "    direct_product_permgroups([C2,C3,C8]).structure_description()\n",
    ")"
   ]
  },
  {
   "cell_type": "markdown",
   "id": "6a2264dc",
   "metadata": {},
   "source": [
    "# Permutation groups, S_n"
   ]
  },
  {
   "cell_type": "code",
   "execution_count": null,
   "id": "38bb280a",
   "metadata": {},
   "outputs": [],
   "source": [
    "S3 = SymmetricGroup(3)\n",
    "S3, S3.structure_description()"
   ]
  },
  {
   "cell_type": "code",
   "execution_count": null,
   "id": "5b5a1ea3",
   "metadata": {},
   "outputs": [],
   "source": [
    "S3.list()"
   ]
  },
  {
   "cell_type": "code",
   "execution_count": null,
   "id": "0a9373ea",
   "metadata": {},
   "outputs": [],
   "source": [
    "S8 = SymmetricGroup(8)\n",
    "S8"
   ]
  },
  {
   "cell_type": "code",
   "execution_count": null,
   "id": "b7b64821",
   "metadata": {},
   "outputs": [],
   "source": [
    "g = S8((1,2,3,4,5,6,7,8))\n",
    "H = S8.subgroup([g])\n",
    "H, H.is_isomorphic(G), G == H, H == K, G == H, H == K1, G == K1, H.is_isomorphic(K1) # be careful with =="
   ]
  },
  {
   "cell_type": "code",
   "execution_count": null,
   "id": "11a6dc3b",
   "metadata": {},
   "outputs": [],
   "source": [
    "H.order(), H.ambient_group(), H.is_normal(S8), H.is_subgroup(S8), G.is_subgroup(S8), K1.is_subgroup(S8)"
   ]
  },
  {
   "cell_type": "code",
   "execution_count": null,
   "id": "22007ce0",
   "metadata": {},
   "outputs": [],
   "source": [
    "G.a #press <tab>, note: no ambient_group"
   ]
  },
  {
   "cell_type": "code",
   "execution_count": null,
   "id": "2f568cc6",
   "metadata": {},
   "outputs": [],
   "source": [
    "H.center(), H == H.center(), H.is_isomorphic(H.center())"
   ]
  },
  {
   "cell_type": "code",
   "execution_count": null,
   "id": "c4a1d498",
   "metadata": {},
   "outputs": [],
   "source": [
    "sigma = S8([(1,2,3),(4,5)])\n",
    "sigma1 = S8(\"(1,2,3) (4,5)\")\n",
    "sigma, sigma == sigma1, sigma.orbit(1), sigma.orbit(4), sigma.orbit(6)"
   ]
  },
  {
   "cell_type": "code",
   "execution_count": null,
   "id": "2fbec840",
   "metadata": {},
   "outputs": [],
   "source": [
    "tau = S8('(2,3)(1,5)')\n",
    "sigma * tau, sigma^(-1) * tau * sigma, sigma.order(), tau.order(), sigma.sign(), tau.sign()"
   ]
  },
  {
   "cell_type": "code",
   "execution_count": null,
   "id": "81c12317",
   "metadata": {},
   "outputs": [],
   "source": [
    "tau1 = Permutation('(2,3)(1,5)') # No space allowed here\n",
    "tau1, S8(tau1), tau1 == tau, S8(tau1) == tau"
   ]
  },
  {
   "cell_type": "code",
   "execution_count": null,
   "id": "6065ef7e",
   "metadata": {},
   "outputs": [],
   "source": [
    "A8 = AlternatingGroup(8)\n",
    "A8, A8.structure_description()"
   ]
  },
  {
   "cell_type": "code",
   "execution_count": null,
   "id": "2f821562",
   "metadata": {},
   "outputs": [],
   "source": [
    "S3.normal_subgroups(), S3.subgroups()"
   ]
  },
  {
   "cell_type": "code",
   "execution_count": null,
   "id": "ba869d79",
   "metadata": {},
   "outputs": [],
   "source": [
    "A3 = AlternatingGroup(3)\n",
    "A3, A3.structure_description(), A3.list()"
   ]
  },
  {
   "cell_type": "code",
   "execution_count": null,
   "id": "c28dca00",
   "metadata": {},
   "outputs": [],
   "source": [
    "A3.is_subgroup(S3), A3.is_normal(S3), A3.categories()"
   ]
  },
  {
   "cell_type": "code",
   "execution_count": null,
   "id": "7647d58a",
   "metadata": {},
   "outputs": [],
   "source": [
    "S3_mod_A3 = S3.quotient(A3)\n",
    "S3_mod_A3, S3_mod_A3.structure_description(), S3_mod_A3.list()"
   ]
  },
  {
   "cell_type": "code",
   "execution_count": null,
   "id": "8dace093",
   "metadata": {},
   "outputs": [],
   "source": [
    "# Sometimes we only care about subgroups up to conjugates (e.g. in Sylow's theorems)\n",
    "S3.subgroups(), S3.conjugacy_classes_subgroups()"
   ]
  },
  {
   "cell_type": "code",
   "execution_count": null,
   "id": "1707d2a0",
   "metadata": {},
   "outputs": [],
   "source": [
    "S3.order(), factor(S3.order()), S3.sylow_subgroup(2), S3.sylow_subgroup(3)"
   ]
  },
  {
   "cell_type": "markdown",
   "id": "f7bb2846",
   "metadata": {},
   "source": [
    "## Exercise 1:"
   ]
  },
  {
   "cell_type": "code",
   "execution_count": null,
   "id": "b47ac696",
   "metadata": {},
   "outputs": [],
   "source": [
    "S4 = SymmetricGroup(4)\n",
    "S4_conj_subgps = S4.conjugacy_classes_subgroups()\n",
    "S4_conj_subgps, S4.order(), factor(S4.order())"
   ]
  },
  {
   "cell_type": "code",
   "execution_count": null,
   "id": "743409f3",
   "metadata": {},
   "outputs": [],
   "source": [
    "# What does the code in this cell do?\n",
    "# Can you point out the Sylow subgroups (subgroups with order p^r for maximal r) based on this?\n",
    "\n",
    "list(map(order, S4_conj_subgps))"
   ]
  },
  {
   "cell_type": "code",
   "execution_count": null,
   "id": "f843c99c",
   "metadata": {},
   "outputs": [],
   "source": [
    "S4.sylow_subgroup(2), S4.sylow_subgroup(3) # Run after solving the exercise"
   ]
  },
  {
   "cell_type": "code",
   "execution_count": null,
   "id": "335bcabd",
   "metadata": {},
   "outputs": [],
   "source": [
    "S4_conj_subgps[8].order(), S4_conj_subgps[8]"
   ]
  },
  {
   "cell_type": "code",
   "execution_count": null,
   "id": "dafcff03",
   "metadata": {},
   "outputs": [],
   "source": [
    "S4_conj_subgps[8] == S4.sylow_subgroup(2)"
   ]
  },
  {
   "cell_type": "markdown",
   "id": "58500164",
   "metadata": {},
   "source": [
    "## Exercise 2:"
   ]
  },
  {
   "cell_type": "code",
   "execution_count": null,
   "id": "3cb7f081",
   "metadata": {},
   "outputs": [],
   "source": [
    "# How would I find a command, that let's me know if a group is commutative/simple/solvable? \n",
    "# Try it for the following groups:\n",
    "C8 = CyclicPermutationGroup(8)\n",
    "S4 = SymmetricGroup(4)\n",
    "A4 = AlternatingGroup(4)\n",
    "S5 = SymmetricGroup(5)\n",
    "A5 = AlternatingGroup(5)"
   ]
  },
  {
   "cell_type": "code",
   "execution_count": null,
   "id": "66dffa3b",
   "metadata": {},
   "outputs": [],
   "source": [
    "# I.e., fill in the ??? here:\n",
    "for G in [C10,S4,A4,S5,A5]:\n",
    "    print(\n",
    "        f\"\"\"\n",
    "        G = {G}\n",
    "        ---> commutative = {G.???}\n",
    "        ---> simple = {G.???}\n",
    "        ---> solvable = {G.???}\n",
    "        \"\"\"\n",
    "    )"
   ]
  },
  {
   "cell_type": "code",
   "execution_count": null,
   "id": "c7d360e7",
   "metadata": {},
   "outputs": [],
   "source": [
    "# Extra question: Which of these return true and which return false?\n",
    "S4.is_subgroup(S5), A4.is_normal(S5), S4.is_normal(S5), A5.is_normal(S5)"
   ]
  },
  {
   "cell_type": "markdown",
   "id": "acc558ee",
   "metadata": {},
   "source": [
    "# Matrix groups"
   ]
  },
  {
   "cell_type": "code",
   "execution_count": null,
   "id": "b076c672",
   "metadata": {},
   "outputs": [],
   "source": [
    "# We usually work over one of these rings\n",
    "ZZ, QQ, RR, CC, GF(5) # 5 can be replaced by any prime"
   ]
  },
  {
   "cell_type": "code",
   "execution_count": null,
   "id": "5e6a3dc4",
   "metadata": {},
   "outputs": [],
   "source": [
    "groups.matrix. #<tab> here"
   ]
  },
  {
   "cell_type": "code",
   "execution_count": null,
   "id": "3e01fc18",
   "metadata": {},
   "outputs": [],
   "source": [
    "GL(2,ZZ), GL(3,RR), SL(2,GF(5))"
   ]
  },
  {
   "cell_type": "code",
   "execution_count": null,
   "id": "91a1aa67",
   "metadata": {},
   "outputs": [],
   "source": [
    "GL(2,ZZ).gens(), SL(2,ZZ).gens(), GL(2,ZZ).order(), GL(2,GF(5)).order(), SL(2,GF(5)).order()"
   ]
  },
  {
   "cell_type": "code",
   "execution_count": null,
   "id": "672d74f1",
   "metadata": {},
   "outputs": [],
   "source": [
    "GL(2,ZZ).category(), GL(2,ZZ).categories()"
   ]
  },
  {
   "cell_type": "code",
   "execution_count": null,
   "id": "67617c19",
   "metadata": {},
   "outputs": [],
   "source": [
    "GL(2,GF(5)).category(), GL(2,GF(5)).categories()"
   ]
  },
  {
   "cell_type": "code",
   "execution_count": null,
   "id": "8355cc32",
   "metadata": {},
   "outputs": [],
   "source": [
    "G = GL(2,GF(5))\n",
    "H = SL(2,GF(5))\n",
    "H, H.as_matrix_group(), H.as_permutation_group()"
   ]
  },
  {
   "cell_type": "code",
   "execution_count": null,
   "id": "0337659e",
   "metadata": {},
   "outputs": [],
   "source": [
    "H.is_subgroup(G) # error"
   ]
  },
  {
   "cell_type": "code",
   "execution_count": null,
   "id": "5a695145",
   "metadata": {},
   "outputs": [],
   "source": [
    "H.is_subgroup()"
   ]
  },
  {
   "cell_type": "code",
   "execution_count": null,
   "id": "8f921fe6",
   "metadata": {},
   "outputs": [],
   "source": [
    "H_as_mat = H.as_matrix_group()\n",
    "H_as_perm = H.as_permutation_group()\n",
    "G_as_mat = G.as_matrix_group()\n",
    "G_as_perm = G.as_permutation_group()"
   ]
  },
  {
   "cell_type": "code",
   "execution_count": null,
   "id": "6851840e",
   "metadata": {},
   "outputs": [],
   "source": [
    "H_as_mat.is_subgroup(G_as_mat) # error"
   ]
  },
  {
   "cell_type": "code",
   "execution_count": null,
   "id": "f147ec91",
   "metadata": {},
   "outputs": [],
   "source": [
    "H_as_mat.is_subgroup()"
   ]
  },
  {
   "cell_type": "code",
   "execution_count": null,
   "id": "304c7c94",
   "metadata": {},
   "outputs": [],
   "source": [
    "H_as_perm.is_subgroup() # error"
   ]
  },
  {
   "cell_type": "code",
   "execution_count": null,
   "id": "8a2b5193",
   "metadata": {},
   "outputs": [],
   "source": [
    "H_as_perm.is_subgroup(G_as_perm)"
   ]
  },
  {
   "cell_type": "markdown",
   "id": "4c5519ea",
   "metadata": {},
   "source": [
    "## Exercise 3:"
   ]
  },
  {
   "cell_type": "code",
   "execution_count": null,
   "id": "1ba92fcb",
   "metadata": {},
   "outputs": [],
   "source": [
    "# Let\n",
    "G = GL(3,GF(7))\n",
    "H = SL(3,GF(7))\n",
    "# and check that H is a normal subgroup of G. Find the quotient G/H and describe it using finite groups. \n",
    "# What is the units of GF(7)? How does this fit with you intuition of GL and SL?"
   ]
  },
  {
   "cell_type": "code",
   "execution_count": null,
   "id": "e845dcc2",
   "metadata": {},
   "outputs": [],
   "source": [
    "# I.e., fill in the ??? here:\n",
    "print(\n",
    "    f\"\"\"\n",
    "    G = {G}\n",
    "    H = {H}\n",
    "    ---> H normal in G = {???}\n",
    "    ---> G/H = {???}\n",
    "    ---> G/H structure = {???}\n",
    "    ---> GF(7)^* = {GF(7).unit_group()}\n",
    "    \"\"\"\n",
    ")"
   ]
  },
  {
   "cell_type": "code",
   "execution_count": null,
   "id": "ed5b165d",
   "metadata": {},
   "outputs": [],
   "source": []
  },
  {
   "cell_type": "code",
   "execution_count": null,
   "id": "b194544c",
   "metadata": {},
   "outputs": [],
   "source": []
  }
 ],
 "metadata": {
  "kernelspec": {
   "display_name": "SageMath 9.5",
   "language": "sage",
   "name": "sagemath-9.5"
  },
  "language_info": {
   "codemirror_mode": {
    "name": "ipython",
    "version": 3
   },
   "file_extension": ".py",
   "mimetype": "text/x-python",
   "name": "python",
   "nbconvert_exporter": "python",
   "pygments_lexer": "ipython3",
   "version": "3.9.9"
  }
 },
 "nbformat": 4,
 "nbformat_minor": 5
}
